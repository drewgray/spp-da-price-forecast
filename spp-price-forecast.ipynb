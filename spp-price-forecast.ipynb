{
 "cells": [
  {
   "cell_type": "markdown",
   "metadata": {
    "deletable": true,
    "editable": true
   },
   "source": [
    "<h1>Demand forecasting with BigQuery and TensorFlow</h1>\n",
    "\n",
    "In this notebook, we will develop a machine learning model to predict the demand for taxi cabs in New York.\n",
    "\n",
    "To develop the model, we will need to get historical data of taxicab usage. This data exists in BigQuery. Let's start by looking at the schema."
   ]
  },
  {
   "cell_type": "code",
   "execution_count": 12,
   "metadata": {
    "collapsed": false,
    "deletable": true,
    "editable": true
   },
   "outputs": [],
   "source": [
    "import datalab.bigquery as bq\n",
    "import pandas as pd\n",
    "import numpy as np\n",
    "import shutil"
   ]
  },
  {
   "cell_type": "code",
   "execution_count": 2,
   "metadata": {
    "collapsed": true,
    "deletable": true,
    "editable": true
   },
   "outputs": [],
   "source": [
    "%projects set drwgry-proj"
   ]
  },
  {
   "cell_type": "code",
   "execution_count": 1,
   "metadata": {
    "collapsed": false,
    "deletable": true,
    "editable": true
   },
   "outputs": [
    {
     "data": {
      "text/html": [
       "\n",
       "    <div class=\"bqsv\" id=\"1_149011502608\"></div>\n",
       "    <script>\n",
       "      require.config({\n",
       "        map: {\n",
       "          '*': {\n",
       "            datalab: 'nbextensions/gcpdatalab'\n",
       "          }\n",
       "        },\n",
       "      });\n",
       "\n",
       "      require(['datalab/bigquery', 'datalab/element!1_149011502608',\n",
       "          'datalab/style!/nbextensions/gcpdatalab/bigquery.css'],\n",
       "        function(bq, dom) {\n",
       "          bq.renderSchema(dom, [{\"type\": \"DATE\", \"name\": \"Date\", \"mode\": \"NULLABLE\"}, {\"type\": \"STRING\", \"name\": \"_Settlement_Location_Name\", \"mode\": \"NULLABLE\"}, {\"type\": \"STRING\", \"name\": \"_PNODE_Name\", \"mode\": \"NULLABLE\"}, {\"type\": \"STRING\", \"name\": \"_Price_Type\", \"mode\": \"NULLABLE\"}, {\"type\": \"FLOAT\", \"name\": \"_HE01\", \"mode\": \"NULLABLE\"}, {\"type\": \"FLOAT\", \"name\": \"HE02\", \"mode\": \"NULLABLE\"}, {\"type\": \"FLOAT\", \"name\": \"HE03\", \"mode\": \"NULLABLE\"}, {\"type\": \"FLOAT\", \"name\": \"HE04\", \"mode\": \"NULLABLE\"}, {\"type\": \"FLOAT\", \"name\": \"HE05\", \"mode\": \"NULLABLE\"}, {\"type\": \"FLOAT\", \"name\": \"HE06\", \"mode\": \"NULLABLE\"}, {\"type\": \"FLOAT\", \"name\": \"HE07\", \"mode\": \"NULLABLE\"}, {\"type\": \"FLOAT\", \"name\": \"HE08\", \"mode\": \"NULLABLE\"}, {\"type\": \"FLOAT\", \"name\": \"HE09\", \"mode\": \"NULLABLE\"}, {\"type\": \"FLOAT\", \"name\": \"HE10\", \"mode\": \"NULLABLE\"}, {\"type\": \"FLOAT\", \"name\": \"HE11\", \"mode\": \"NULLABLE\"}, {\"type\": \"FLOAT\", \"name\": \"HE12\", \"mode\": \"NULLABLE\"}, {\"type\": \"FLOAT\", \"name\": \"HE13\", \"mode\": \"NULLABLE\"}, {\"type\": \"FLOAT\", \"name\": \"HE14\", \"mode\": \"NULLABLE\"}, {\"type\": \"FLOAT\", \"name\": \"HE15\", \"mode\": \"NULLABLE\"}, {\"type\": \"FLOAT\", \"name\": \"HE16\", \"mode\": \"NULLABLE\"}, {\"type\": \"FLOAT\", \"name\": \"HE17\", \"mode\": \"NULLABLE\"}, {\"type\": \"FLOAT\", \"name\": \"HE18\", \"mode\": \"NULLABLE\"}, {\"type\": \"FLOAT\", \"name\": \"HE19\", \"mode\": \"NULLABLE\"}, {\"type\": \"FLOAT\", \"name\": \"HE20\", \"mode\": \"NULLABLE\"}, {\"type\": \"FLOAT\", \"name\": \"HE21\", \"mode\": \"NULLABLE\"}, {\"type\": \"FLOAT\", \"name\": \"HE22\", \"mode\": \"NULLABLE\"}, {\"type\": \"FLOAT\", \"name\": \"HE23\", \"mode\": \"NULLABLE\"}, {\"type\": \"FLOAT\", \"name\": \"HE24\", \"mode\": \"NULLABLE\"}]);\n",
       "        }\n",
       "      );\n",
       "    </script>\n",
       "    "
      ],
      "text/plain": [
       "<IPython.core.display.HTML object>"
      ]
     },
     "execution_count": 1,
     "metadata": {},
     "output_type": "execute_result"
    }
   ],
   "source": [
    "%bigquery schema --table \"drwgry-proj:sppda_2016_8.test\""
   ]
  },
  {
   "cell_type": "markdown",
   "metadata": {
    "deletable": true,
    "editable": true
   },
   "source": [
    "<h2> Analyzing taxicab demand </h2>\n",
    "\n",
    "Let's pull the number of trips for each day in the 2015 dataset.  We can use the BigQuery built-in Date-and-time function DAYOFYEAR (See <a href=\"https://cloud.google.com/bigquery/query-reference\"> BigQuery query reference </a>) for a full list of such functions."
   ]
  },
  {
   "cell_type": "code",
   "execution_count": 5,
   "metadata": {
    "collapsed": false,
    "deletable": true,
    "editable": true
   },
   "outputs": [
    {
     "data": {
      "text/html": [
       "\n",
       "    <div class=\"bqtv\" id=\"3_148937226503\"><table><tr><th>daynumber</th></tr><tr><td>120</td></tr><tr><td>120</td></tr><tr><td>120</td></tr><tr><td>120</td></tr><tr><td>149</td></tr><tr><td>150</td></tr><tr><td>150</td></tr><tr><td>89</td></tr><tr><td>89</td></tr><tr><td>89</td></tr></table></div>\n",
       "    <br />(rows: 10, time: 0.3s, cached, job: job_yGacP48ARYTggxemFNoBlOrreKk)<br />\n",
       "    <script>\n",
       "\n",
       "      require.config({\n",
       "        paths: {\n",
       "          d3: '//cdnjs.cloudflare.com/ajax/libs/d3/3.4.13/d3',\n",
       "          plotly: 'https://cdn.plot.ly/plotly-1.5.1.min.js?noext',\n",
       "          jquery: '//ajax.googleapis.com/ajax/libs/jquery/2.0.0/jquery.min'\n",
       "        },\n",
       "        map: {\n",
       "          '*': {\n",
       "            datalab: 'nbextensions/gcpdatalab'\n",
       "          }\n",
       "        },\n",
       "        shim: {\n",
       "          plotly: {\n",
       "            deps: ['d3', 'jquery'],\n",
       "            exports: 'plotly'\n",
       "          }\n",
       "        }\n",
       "      });\n",
       "\n",
       "      require(['datalab/charting', 'datalab/element!3_148937226503', 'base/js/events',\n",
       "          'datalab/style!/nbextensions/gcpdatalab/charting.css'],\n",
       "        function(charts, dom, events) {\n",
       "          charts.render('gcharts', dom, events, 'table', [], {\"rows\": [{\"c\": [{\"v\": 120}]}, {\"c\": [{\"v\": 120}]}, {\"c\": [{\"v\": 120}]}, {\"c\": [{\"v\": 120}]}, {\"c\": [{\"v\": 149}]}, {\"c\": [{\"v\": 150}]}, {\"c\": [{\"v\": 150}]}, {\"c\": [{\"v\": 89}]}, {\"c\": [{\"v\": 89}]}, {\"c\": [{\"v\": 89}]}], \"cols\": [{\"type\": \"number\", \"id\": \"daynumber\", \"label\": \"daynumber\"}]},\n",
       "            {\n",
       "              pageSize: 25,\n",
       "              cssClassNames:  {\n",
       "                tableRow: 'gchart-table-row',\n",
       "                headerRow: 'gchart-table-headerrow',\n",
       "                oddTableRow: 'gchart-table-oddrow',\n",
       "                selectedTableRow: 'gchart-table-selectedrow',\n",
       "                hoverTableRow: 'gchart-table-hoverrow',\n",
       "                tableCell: 'gchart-table-cell',\n",
       "                headerCell: 'gchart-table-headercell',\n",
       "                rowNumberCell: 'gchart-table-rownumcell'\n",
       "              }\n",
       "            },\n",
       "            {source_index: 1, fields: 'daynumber'},\n",
       "            0,\n",
       "            10);\n",
       "        }\n",
       "      );\n",
       "    </script>\n",
       "  "
      ],
      "text/plain": [
       "QueryResultsTable job_yGacP48ARYTggxemFNoBlOrreKk"
      ]
     },
     "execution_count": 5,
     "metadata": {},
     "output_type": "execute_result"
    }
   ],
   "source": [
    "%sql\n",
    "SELECT DAYOFYEAR(pickup_datetime) AS daynumber FROM [nyc-tlc:green.trips_2015] LIMIT 10"
   ]
  },
  {
   "cell_type": "markdown",
   "metadata": {
    "deletable": true,
    "editable": true
   },
   "source": [
    "<h3> Modular queries and Pandas dataframe </h3>\n",
    "\n",
    "Let's use the total number of trips as our proxy for taxicab demand (other reasonable alternatives are total trip_distance or total fare_amount).  It is possible to predict multiple variables using Tensorflow, but for simplicity, we will stick to just predicting the number of trips.\n",
    "\n",
    "We will give our query a name 'taxiquery' and have it use an input variable '$YEAR'. We can then invoke the 'taxiquery' by giving it a YEAR.  The to_dataframe() converts the BigQuery result into a <a href='http://pandas.pydata.org/'>Pandas</a> dataframe."
   ]
  },
  {
   "cell_type": "code",
   "execution_count": 6,
   "metadata": {
    "collapsed": true,
    "deletable": true,
    "editable": true
   },
   "outputs": [],
   "source": [
    "%%sql --module taxiquery\n",
    "SELECT daynumber, COUNT(*) AS numtrips FROM\n",
    "    (SELECT DAYOFYEAR(pickup_datetime) AS daynumber FROM [nyc-tlc:green.trips_$YEAR])\n",
    "GROUP BY daynumber ORDER BY daynumber"
   ]
  },
  {
   "cell_type": "code",
   "execution_count": 7,
   "metadata": {
    "collapsed": false,
    "deletable": true,
    "editable": true
   },
   "outputs": [
    {
     "data": {
      "text/html": [
       "<div>\n",
       "<table border=\"1\" class=\"dataframe\">\n",
       "  <thead>\n",
       "    <tr style=\"text-align: right;\">\n",
       "      <th></th>\n",
       "      <th>daynumber</th>\n",
       "      <th>numtrips</th>\n",
       "    </tr>\n",
       "  </thead>\n",
       "  <tbody>\n",
       "    <tr>\n",
       "      <th>0</th>\n",
       "      <td>1</td>\n",
       "      <td>62943</td>\n",
       "    </tr>\n",
       "    <tr>\n",
       "      <th>1</th>\n",
       "      <td>2</td>\n",
       "      <td>43410</td>\n",
       "    </tr>\n",
       "    <tr>\n",
       "      <th>2</th>\n",
       "      <td>3</td>\n",
       "      <td>53866</td>\n",
       "    </tr>\n",
       "    <tr>\n",
       "      <th>3</th>\n",
       "      <td>4</td>\n",
       "      <td>41602</td>\n",
       "    </tr>\n",
       "    <tr>\n",
       "      <th>4</th>\n",
       "      <td>5</td>\n",
       "      <td>41923</td>\n",
       "    </tr>\n",
       "  </tbody>\n",
       "</table>\n",
       "</div>"
      ],
      "text/plain": [
       "   daynumber  numtrips\n",
       "0          1     62943\n",
       "1          2     43410\n",
       "2          3     53866\n",
       "3          4     41602\n",
       "4          5     41923"
      ]
     },
     "execution_count": 7,
     "metadata": {},
     "output_type": "execute_result"
    }
   ],
   "source": [
    "trips = bq.Query(taxiquery, YEAR=2015).to_dataframe()\n",
    "trips[:5]"
   ]
  },
  {
   "cell_type": "markdown",
   "metadata": {
    "deletable": true,
    "editable": true
   },
   "source": [
    "<h3> Benchmark </h3>\n",
    "\n",
    "Often, a reasonable estimate of something is its historical average. We can therefore benchmark our machine learning model against the historical average."
   ]
  },
  {
   "cell_type": "code",
   "execution_count": 8,
   "metadata": {
    "collapsed": false,
    "deletable": true,
    "editable": true
   },
   "outputs": [
    {
     "name": "stdout",
     "output_type": "stream",
     "text": [
      "Just using average=54674.0994475 has RMSE of 10163.4654442\n"
     ]
    }
   ],
   "source": [
    "avg = np.mean(trips['numtrips'])\n",
    "print 'Just using average={0} has RMSE of {1}'.format(avg, np.sqrt(np.mean((trips['numtrips'] - avg)**2)))"
   ]
  },
  {
   "cell_type": "markdown",
   "metadata": {
    "deletable": true,
    "editable": true
   },
   "source": [
    "The mean here is about 55,000 and the root-mean-square-error (RMSE) in this case is about 10,000. In other words, if we were to estimate that there are 55,000 taxi trips on any given day, that estimate is will be off on average by about 10,000 in either direction.\n",
    "  \n",
    "Let's see if we can do better than this -- our goal is to make predictions of taxicab demand whose RMSE is lower than 10,000.\n",
    "\n",
    "What kinds of things affect people's use of taxicabs?"
   ]
  },
  {
   "cell_type": "markdown",
   "metadata": {
    "deletable": true,
    "editable": true
   },
   "source": [
    "<h2> Weather data </h2>\n",
    "Grabbing Atoka, OK data\n",
    "\n",
    "\n",
    "We suspect that weather influences how often people use a taxi. Perhaps someone who'd normally walk to work would take a taxi if it is very cold or rainy.\n",
    "\n",
    "Googler <a href=\"https://twitter.com/felipehoffa\">Felipe Hoffa</a> has made weather observations from the US National Oceanic and Atmospheric Administration <a href-=\"http://stackoverflow.com/questions/34804654/how-to-get-the-historical-weather-for-any-city-with-bigquery/34804655\">publicly</a> available in BigQuery. Let's use that dataset and find the station number corresponding to New York's La Guardia airport.\n"
   ]
  },
  {
   "cell_type": "code",
   "execution_count": 7,
   "metadata": {
    "collapsed": false,
    "deletable": true,
    "editable": true
   },
   "outputs": [
    {
     "data": {
      "text/html": [
       "\n",
       "    <div class=\"bqtv\" id=\"7_149013317934\"><table><tr><th>usaf</th><th>wban</th><th>name</th><th>country</th><th>fips</th><th>state</th><th>call</th><th>lat</th><th>lon</th><th>elev</th><th>begin</th><th>end</th></tr><tr><td>999999</td><td>13980</td><td>ANTHONY</td><td>US</td><td>US</td><td>KS</td><td>&nbsp;</td><td>37167.0</td><td>-98083.0</td><td>4026</td><td>19480101</td><td>19510101</td></tr><tr><td>999999</td><td>3043</td><td>ATWOOD-RAWLNS CO CTY CO AP</td><td>US</td><td>US</td><td>KS</td><td>KADT</td><td>39840.0</td><td>-101042.0</td><td>9117</td><td>&nbsp;</td><td>&nbsp;</td></tr><tr><td>724507</td><td>13981</td><td>CHANUTE MARTIN JOHNS</td><td>US</td><td>US</td><td>KS</td><td>KCNU</td><td>37670.0</td><td>-95484.0</td><td>3082</td><td>19730101</td><td>20120619</td></tr><tr><td>999999</td><td>13981</td><td>CHANUTE MARTIN JOHNSON AP</td><td>US</td><td>US</td><td>KS</td><td>KCNU</td><td>37670.0</td><td>-95484.0</td><td>3082</td><td>19480101</td><td>19650101</td></tr><tr><td>724519</td><td>93967</td><td>COFFEYVILLE MUNI</td><td>US</td><td>US</td><td>KS</td><td>KCFV</td><td>37091.0</td><td>-95566.0</td><td>2292</td><td>20060101</td><td>20120619</td></tr><tr><td>724504</td><td>3974</td><td>COL JAMES JABARA</td><td>US</td><td>US</td><td>KS</td><td>KAAO</td><td>37746.0</td><td>-97221.0</td><td>4328</td><td>20060101</td><td>20120619</td></tr><tr><td>999999</td><td>13984</td><td>CONCORDIA BLOSSER MUNI AP</td><td>US</td><td>US</td><td>KS</td><td>KCNK</td><td>39551.0</td><td>-97651.0</td><td>4523</td><td>19480101</td><td>19721231</td></tr><tr><td>724580</td><td>13984</td><td>CONCORDIA/BLOSSER M</td><td>US</td><td>US</td><td>KS</td><td>KCNK</td><td>39551.0</td><td>-97651.0</td><td>4523</td><td>19730101</td><td>20120619</td></tr><tr><td>999999</td><td>13985</td><td>DODGE CITY MUNICIPAL ARPT</td><td>US</td><td>US</td><td>KS</td><td>KDDC</td><td>37769.0</td><td>-99968.0</td><td>7900</td><td>19480101</td><td>19721231</td></tr><tr><td>999999</td><td>93016</td><td>DODGE CITY WBO</td><td>US</td><td>US</td><td>KS</td><td>&nbsp;</td><td>37750.0</td><td>-100017.0</td><td>765</td><td>18930101</td><td>19391231</td></tr><tr><td>724510</td><td>13985</td><td>DODGE CITY(AWOS)</td><td>US</td><td>US</td><td>KS</td><td>KDDC</td><td>37769.0</td><td>-99968.0</td><td>7900</td><td>19420701</td><td>20120619</td></tr><tr><td>724604</td><td>93076</td><td>ELKHART MORTON CO</td><td>US</td><td>US</td><td>KS</td><td>KEHA</td><td>37000.0</td><td>-101883.0</td><td>11049</td><td>20060101</td><td>20120619</td></tr><tr><td>724556</td><td>13989</td><td>EMPORIA MUNI</td><td>US</td><td>US</td><td>KS</td><td>KEMP</td><td>38331.0</td><td>-96190.0</td><td>3676</td><td>19730101</td><td>20120619</td></tr><tr><td>999999</td><td>13989</td><td>EMPORIA MUNICIPAL AP</td><td>US</td><td>US</td><td>KS</td><td>KEMP</td><td>38331.0</td><td>-96190.0</td><td>3676</td><td>19501101</td><td>19550101</td></tr><tr><td>999999</td><td>13920</td><td>FORBES FIELD AAF</td><td>US</td><td>US</td><td>KS</td><td>KFOE</td><td>38950.0</td><td>-95664.0</td><td>3289</td><td>19710101</td><td>19710101</td></tr><tr><td>724565</td><td>13920</td><td>FORBES FLD</td><td>US</td><td>US</td><td>KS</td><td>KFOE</td><td>38950.0</td><td>-95664.0</td><td>3289</td><td>19421001</td><td>20120619</td></tr><tr><td>724550</td><td>13947</td><td>FT RILEY/MARSHALL A</td><td>US</td><td>US</td><td>KS</td><td>KFRI</td><td>39050.0</td><td>-96767.0</td><td>3240</td><td>19380817</td><td>20120619</td></tr><tr><td>999999</td><td>23064</td><td>GARDEN CITY MUNICIPAL AP</td><td>US</td><td>US</td><td>KS</td><td>KGCK</td><td>37927.0</td><td>-100725.0</td><td>8784</td><td>&nbsp;</td><td>&nbsp;</td></tr><tr><td>724515</td><td>23064</td><td>GARDEN CITY RGNL</td><td>US</td><td>US</td><td>KS</td><td>KGCK</td><td>37927.0</td><td>-100725.0</td><td>8784</td><td>19430201</td><td>20120619</td></tr><tr><td>999999</td><td>23065</td><td>GOODLAND RENNER FIELD</td><td>US</td><td>US</td><td>KS</td><td>KGLD</td><td>39367.0</td><td>-101693.0</td><td>11241</td><td>19480101</td><td>19721231</td></tr><tr><td>724650</td><td>23065</td><td>GOODLAND/RENNER FIE</td><td>US</td><td>US</td><td>KS</td><td>KGLD</td><td>39367.0</td><td>-101693.0</td><td>11241</td><td>19730101</td><td>20120619</td></tr><tr><td>724517</td><td>13940</td><td>GREAT BEND MUNI</td><td>US</td><td>US</td><td>KS</td><td>KGBD</td><td>38350.0</td><td>-98867.0</td><td>5749</td><td>20060101</td><td>20120619</td></tr><tr><td>724518</td><td>3968</td><td>HAYS RGNL</td><td>US</td><td>US</td><td>KS</td><td>KHYS</td><td>38850.0</td><td>-99267.0</td><td>6090</td><td>20060101</td><td>20120619</td></tr><tr><td>724655</td><td>93990</td><td>HILL CITY MUNI</td><td>US</td><td>US</td><td>KS</td><td>KHLC</td><td>39376.0</td><td>-99830.0</td><td>6770</td><td>19730101</td><td>20120619</td></tr><tr><td>999999</td><td>93990</td><td>HILL CITY MUNICIPAL AP</td><td>US</td><td>US</td><td>KS</td><td>KHLC</td><td>39376.0</td><td>-99830.0</td><td>6770</td><td>19490101</td><td>19550101</td></tr></table></div>\n",
       "    <br />(rows: 61, time: 0.6s,     2MB processed, job: job_kGVY2nAv1Wd_adawHPPs5oYjhTA)<br />\n",
       "    <script>\n",
       "\n",
       "      require.config({\n",
       "        paths: {\n",
       "          d3: '//cdnjs.cloudflare.com/ajax/libs/d3/3.4.13/d3',\n",
       "          plotly: 'https://cdn.plot.ly/plotly-1.5.1.min.js?noext',\n",
       "          jquery: '//ajax.googleapis.com/ajax/libs/jquery/2.0.0/jquery.min'\n",
       "        },\n",
       "        map: {\n",
       "          '*': {\n",
       "            datalab: 'nbextensions/gcpdatalab'\n",
       "          }\n",
       "        },\n",
       "        shim: {\n",
       "          plotly: {\n",
       "            deps: ['d3', 'jquery'],\n",
       "            exports: 'plotly'\n",
       "          }\n",
       "        }\n",
       "      });\n",
       "\n",
       "      require(['datalab/charting', 'datalab/element!7_149013317934', 'base/js/events',\n",
       "          'datalab/style!/nbextensions/gcpdatalab/charting.css'],\n",
       "        function(charts, dom, events) {\n",
       "          charts.render('gcharts', dom, events, 'paged_table', [], {\"rows\": [{\"c\": [{\"v\": \"999999\"}, {\"v\": \"13980\"}, {\"v\": \"ANTHONY\"}, {\"v\": \"US\"}, {\"v\": \"US\"}, {\"v\": \"KS\"}, {\"v\": null}, {\"v\": 37167.0}, {\"v\": -98083.0}, {\"v\": \"4026\"}, {\"v\": \"19480101\"}, {\"v\": \"19510101\"}]}, {\"c\": [{\"v\": \"999999\"}, {\"v\": \"3043\"}, {\"v\": \"ATWOOD-RAWLNS CO CTY CO AP\"}, {\"v\": \"US\"}, {\"v\": \"US\"}, {\"v\": \"KS\"}, {\"v\": \"KADT\"}, {\"v\": 39840.0}, {\"v\": -101042.0}, {\"v\": \"9117\"}, {\"v\": null}, {\"v\": null}]}, {\"c\": [{\"v\": \"724507\"}, {\"v\": \"13981\"}, {\"v\": \"CHANUTE MARTIN JOHNS\"}, {\"v\": \"US\"}, {\"v\": \"US\"}, {\"v\": \"KS\"}, {\"v\": \"KCNU\"}, {\"v\": 37670.0}, {\"v\": -95484.0}, {\"v\": \"3082\"}, {\"v\": \"19730101\"}, {\"v\": \"20120619\"}]}, {\"c\": [{\"v\": \"999999\"}, {\"v\": \"13981\"}, {\"v\": \"CHANUTE MARTIN JOHNSON AP\"}, {\"v\": \"US\"}, {\"v\": \"US\"}, {\"v\": \"KS\"}, {\"v\": \"KCNU\"}, {\"v\": 37670.0}, {\"v\": -95484.0}, {\"v\": \"3082\"}, {\"v\": \"19480101\"}, {\"v\": \"19650101\"}]}, {\"c\": [{\"v\": \"724519\"}, {\"v\": \"93967\"}, {\"v\": \"COFFEYVILLE MUNI\"}, {\"v\": \"US\"}, {\"v\": \"US\"}, {\"v\": \"KS\"}, {\"v\": \"KCFV\"}, {\"v\": 37091.0}, {\"v\": -95566.0}, {\"v\": \"2292\"}, {\"v\": \"20060101\"}, {\"v\": \"20120619\"}]}, {\"c\": [{\"v\": \"724504\"}, {\"v\": \"3974\"}, {\"v\": \"COL JAMES JABARA\"}, {\"v\": \"US\"}, {\"v\": \"US\"}, {\"v\": \"KS\"}, {\"v\": \"KAAO\"}, {\"v\": 37746.0}, {\"v\": -97221.0}, {\"v\": \"4328\"}, {\"v\": \"20060101\"}, {\"v\": \"20120619\"}]}, {\"c\": [{\"v\": \"999999\"}, {\"v\": \"13984\"}, {\"v\": \"CONCORDIA BLOSSER MUNI AP\"}, {\"v\": \"US\"}, {\"v\": \"US\"}, {\"v\": \"KS\"}, {\"v\": \"KCNK\"}, {\"v\": 39551.0}, {\"v\": -97651.0}, {\"v\": \"4523\"}, {\"v\": \"19480101\"}, {\"v\": \"19721231\"}]}, {\"c\": [{\"v\": \"724580\"}, {\"v\": \"13984\"}, {\"v\": \"CONCORDIA/BLOSSER M\"}, {\"v\": \"US\"}, {\"v\": \"US\"}, {\"v\": \"KS\"}, {\"v\": \"KCNK\"}, {\"v\": 39551.0}, {\"v\": -97651.0}, {\"v\": \"4523\"}, {\"v\": \"19730101\"}, {\"v\": \"20120619\"}]}, {\"c\": [{\"v\": \"999999\"}, {\"v\": \"13985\"}, {\"v\": \"DODGE CITY MUNICIPAL ARPT\"}, {\"v\": \"US\"}, {\"v\": \"US\"}, {\"v\": \"KS\"}, {\"v\": \"KDDC\"}, {\"v\": 37769.0}, {\"v\": -99968.0}, {\"v\": \"7900\"}, {\"v\": \"19480101\"}, {\"v\": \"19721231\"}]}, {\"c\": [{\"v\": \"999999\"}, {\"v\": \"93016\"}, {\"v\": \"DODGE CITY WBO\"}, {\"v\": \"US\"}, {\"v\": \"US\"}, {\"v\": \"KS\"}, {\"v\": null}, {\"v\": 37750.0}, {\"v\": -100017.0}, {\"v\": \"765\"}, {\"v\": \"18930101\"}, {\"v\": \"19391231\"}]}, {\"c\": [{\"v\": \"724510\"}, {\"v\": \"13985\"}, {\"v\": \"DODGE CITY(AWOS)\"}, {\"v\": \"US\"}, {\"v\": \"US\"}, {\"v\": \"KS\"}, {\"v\": \"KDDC\"}, {\"v\": 37769.0}, {\"v\": -99968.0}, {\"v\": \"7900\"}, {\"v\": \"19420701\"}, {\"v\": \"20120619\"}]}, {\"c\": [{\"v\": \"724604\"}, {\"v\": \"93076\"}, {\"v\": \"ELKHART MORTON CO\"}, {\"v\": \"US\"}, {\"v\": \"US\"}, {\"v\": \"KS\"}, {\"v\": \"KEHA\"}, {\"v\": 37000.0}, {\"v\": -101883.0}, {\"v\": \"11049\"}, {\"v\": \"20060101\"}, {\"v\": \"20120619\"}]}, {\"c\": [{\"v\": \"724556\"}, {\"v\": \"13989\"}, {\"v\": \"EMPORIA MUNI\"}, {\"v\": \"US\"}, {\"v\": \"US\"}, {\"v\": \"KS\"}, {\"v\": \"KEMP\"}, {\"v\": 38331.0}, {\"v\": -96190.0}, {\"v\": \"3676\"}, {\"v\": \"19730101\"}, {\"v\": \"20120619\"}]}, {\"c\": [{\"v\": \"999999\"}, {\"v\": \"13989\"}, {\"v\": \"EMPORIA MUNICIPAL AP\"}, {\"v\": \"US\"}, {\"v\": \"US\"}, {\"v\": \"KS\"}, {\"v\": \"KEMP\"}, {\"v\": 38331.0}, {\"v\": -96190.0}, {\"v\": \"3676\"}, {\"v\": \"19501101\"}, {\"v\": \"19550101\"}]}, {\"c\": [{\"v\": \"999999\"}, {\"v\": \"13920\"}, {\"v\": \"FORBES FIELD AAF\"}, {\"v\": \"US\"}, {\"v\": \"US\"}, {\"v\": \"KS\"}, {\"v\": \"KFOE\"}, {\"v\": 38950.0}, {\"v\": -95664.0}, {\"v\": \"3289\"}, {\"v\": \"19710101\"}, {\"v\": \"19710101\"}]}, {\"c\": [{\"v\": \"724565\"}, {\"v\": \"13920\"}, {\"v\": \"FORBES FLD\"}, {\"v\": \"US\"}, {\"v\": \"US\"}, {\"v\": \"KS\"}, {\"v\": \"KFOE\"}, {\"v\": 38950.0}, {\"v\": -95664.0}, {\"v\": \"3289\"}, {\"v\": \"19421001\"}, {\"v\": \"20120619\"}]}, {\"c\": [{\"v\": \"724550\"}, {\"v\": \"13947\"}, {\"v\": \"FT RILEY/MARSHALL A\"}, {\"v\": \"US\"}, {\"v\": \"US\"}, {\"v\": \"KS\"}, {\"v\": \"KFRI\"}, {\"v\": 39050.0}, {\"v\": -96767.0}, {\"v\": \"3240\"}, {\"v\": \"19380817\"}, {\"v\": \"20120619\"}]}, {\"c\": [{\"v\": \"999999\"}, {\"v\": \"23064\"}, {\"v\": \"GARDEN CITY MUNICIPAL AP\"}, {\"v\": \"US\"}, {\"v\": \"US\"}, {\"v\": \"KS\"}, {\"v\": \"KGCK\"}, {\"v\": 37927.0}, {\"v\": -100725.0}, {\"v\": \"8784\"}, {\"v\": null}, {\"v\": null}]}, {\"c\": [{\"v\": \"724515\"}, {\"v\": \"23064\"}, {\"v\": \"GARDEN CITY RGNL\"}, {\"v\": \"US\"}, {\"v\": \"US\"}, {\"v\": \"KS\"}, {\"v\": \"KGCK\"}, {\"v\": 37927.0}, {\"v\": -100725.0}, {\"v\": \"8784\"}, {\"v\": \"19430201\"}, {\"v\": \"20120619\"}]}, {\"c\": [{\"v\": \"999999\"}, {\"v\": \"23065\"}, {\"v\": \"GOODLAND RENNER FIELD\"}, {\"v\": \"US\"}, {\"v\": \"US\"}, {\"v\": \"KS\"}, {\"v\": \"KGLD\"}, {\"v\": 39367.0}, {\"v\": -101693.0}, {\"v\": \"11241\"}, {\"v\": \"19480101\"}, {\"v\": \"19721231\"}]}, {\"c\": [{\"v\": \"724650\"}, {\"v\": \"23065\"}, {\"v\": \"GOODLAND/RENNER FIE\"}, {\"v\": \"US\"}, {\"v\": \"US\"}, {\"v\": \"KS\"}, {\"v\": \"KGLD\"}, {\"v\": 39367.0}, {\"v\": -101693.0}, {\"v\": \"11241\"}, {\"v\": \"19730101\"}, {\"v\": \"20120619\"}]}, {\"c\": [{\"v\": \"724517\"}, {\"v\": \"13940\"}, {\"v\": \"GREAT BEND MUNI\"}, {\"v\": \"US\"}, {\"v\": \"US\"}, {\"v\": \"KS\"}, {\"v\": \"KGBD\"}, {\"v\": 38350.0}, {\"v\": -98867.0}, {\"v\": \"5749\"}, {\"v\": \"20060101\"}, {\"v\": \"20120619\"}]}, {\"c\": [{\"v\": \"724518\"}, {\"v\": \"3968\"}, {\"v\": \"HAYS RGNL\"}, {\"v\": \"US\"}, {\"v\": \"US\"}, {\"v\": \"KS\"}, {\"v\": \"KHYS\"}, {\"v\": 38850.0}, {\"v\": -99267.0}, {\"v\": \"6090\"}, {\"v\": \"20060101\"}, {\"v\": \"20120619\"}]}, {\"c\": [{\"v\": \"724655\"}, {\"v\": \"93990\"}, {\"v\": \"HILL CITY MUNI\"}, {\"v\": \"US\"}, {\"v\": \"US\"}, {\"v\": \"KS\"}, {\"v\": \"KHLC\"}, {\"v\": 39376.0}, {\"v\": -99830.0}, {\"v\": \"6770\"}, {\"v\": \"19730101\"}, {\"v\": \"20120619\"}]}, {\"c\": [{\"v\": \"999999\"}, {\"v\": \"93990\"}, {\"v\": \"HILL CITY MUNICIPAL AP\"}, {\"v\": \"US\"}, {\"v\": \"US\"}, {\"v\": \"KS\"}, {\"v\": \"KHLC\"}, {\"v\": 39376.0}, {\"v\": -99830.0}, {\"v\": \"6770\"}, {\"v\": \"19490101\"}, {\"v\": \"19550101\"}]}], \"cols\": [{\"type\": \"string\", \"id\": \"usaf\", \"label\": \"usaf\"}, {\"type\": \"string\", \"id\": \"wban\", \"label\": \"wban\"}, {\"type\": \"string\", \"id\": \"name\", \"label\": \"name\"}, {\"type\": \"string\", \"id\": \"country\", \"label\": \"country\"}, {\"type\": \"string\", \"id\": \"fips\", \"label\": \"fips\"}, {\"type\": \"string\", \"id\": \"state\", \"label\": \"state\"}, {\"type\": \"string\", \"id\": \"call\", \"label\": \"call\"}, {\"type\": \"number\", \"id\": \"lat\", \"label\": \"lat\"}, {\"type\": \"number\", \"id\": \"lon\", \"label\": \"lon\"}, {\"type\": \"string\", \"id\": \"elev\", \"label\": \"elev\"}, {\"type\": \"string\", \"id\": \"begin\", \"label\": \"begin\"}, {\"type\": \"string\", \"id\": \"end\", \"label\": \"end\"}]},\n",
       "            {\n",
       "              pageSize: 25,\n",
       "              cssClassNames:  {\n",
       "                tableRow: 'gchart-table-row',\n",
       "                headerRow: 'gchart-table-headerrow',\n",
       "                oddTableRow: 'gchart-table-oddrow',\n",
       "                selectedTableRow: 'gchart-table-selectedrow',\n",
       "                hoverTableRow: 'gchart-table-hoverrow',\n",
       "                tableCell: 'gchart-table-cell',\n",
       "                headerCell: 'gchart-table-headercell',\n",
       "                rowNumberCell: 'gchart-table-rownumcell'\n",
       "              }\n",
       "            },\n",
       "            {source_index: 4, fields: 'usaf,wban,name,country,fips,state,call,lat,lon,elev,begin,end'},\n",
       "            0,\n",
       "            61);\n",
       "        }\n",
       "      );\n",
       "    </script>\n",
       "  "
      ],
      "text/plain": [
       "QueryResultsTable job_kGVY2nAv1Wd_adawHPPs5oYjhTA"
      ]
     },
     "execution_count": 7,
     "metadata": {},
     "output_type": "execute_result"
    }
   ],
   "source": [
    "%%sql\n",
    "SELECT * FROM [fh-bigquery:weather_gsod.stations]\n",
    "WHERE state = 'KS' AND wban != '99999' \n",
    "order by name asc"
   ]
  },
  {
   "cell_type": "markdown",
   "metadata": {
    "deletable": true,
    "editable": true
   },
   "source": [
    "<h3> Variables </h3>\n",
    "\n",
    "Let's pull out the minimum and maximum daily temperature (in Fahrenheit) as well as the amount of rain (in inches) for La Guardia airport."
   ]
  },
  {
   "cell_type": "code",
   "execution_count": 14,
   "metadata": {
    "collapsed": true,
    "deletable": true,
    "editable": true
   },
   "outputs": [],
   "source": [
    "%%sql --module wxquery\n",
    "SELECT DAYOFYEAR(TIMESTAMP('$YEAR'+mo+da)) daynumber,\n",
    "       FIRST(DAYOFWEEK(TIMESTAMP('$YEAR'+mo+da))) dayofweek,\n",
    "       MIN(min) mintemp, MAX(max) maxtemp, MAX(IF(prcp=99.99,0,prcp)) rain\n",
    "FROM [fh-bigquery:weather_gsod.gsod$YEAR]\n",
    "WHERE stn='724500' GROUP BY 1 ORDER BY daynumber asc"
   ]
  },
  {
   "cell_type": "code",
   "execution_count": 15,
   "metadata": {
    "collapsed": false,
    "deletable": true,
    "editable": true
   },
   "outputs": [
    {
     "data": {
      "text/html": [
       "<div>\n",
       "<table border=\"1\" class=\"dataframe\">\n",
       "  <thead>\n",
       "    <tr style=\"text-align: right;\">\n",
       "      <th></th>\n",
       "      <th>daynumber</th>\n",
       "      <th>dayofweek</th>\n",
       "      <th>mintemp</th>\n",
       "      <th>maxtemp</th>\n",
       "      <th>rain</th>\n",
       "    </tr>\n",
       "  </thead>\n",
       "  <tbody>\n",
       "    <tr>\n",
       "      <th>0</th>\n",
       "      <td>1</td>\n",
       "      <td>5</td>\n",
       "      <td>7.0</td>\n",
       "      <td>32.0</td>\n",
       "      <td>0.00</td>\n",
       "    </tr>\n",
       "    <tr>\n",
       "      <th>1</th>\n",
       "      <td>2</td>\n",
       "      <td>6</td>\n",
       "      <td>17.1</td>\n",
       "      <td>37.9</td>\n",
       "      <td>0.00</td>\n",
       "    </tr>\n",
       "    <tr>\n",
       "      <th>2</th>\n",
       "      <td>3</td>\n",
       "      <td>7</td>\n",
       "      <td>30.0</td>\n",
       "      <td>41.0</td>\n",
       "      <td>0.00</td>\n",
       "    </tr>\n",
       "    <tr>\n",
       "      <th>3</th>\n",
       "      <td>4</td>\n",
       "      <td>1</td>\n",
       "      <td>10.0</td>\n",
       "      <td>41.0</td>\n",
       "      <td>0.31</td>\n",
       "    </tr>\n",
       "    <tr>\n",
       "      <th>4</th>\n",
       "      <td>5</td>\n",
       "      <td>2</td>\n",
       "      <td>3.9</td>\n",
       "      <td>35.1</td>\n",
       "      <td>0.00</td>\n",
       "    </tr>\n",
       "  </tbody>\n",
       "</table>\n",
       "</div>"
      ],
      "text/plain": [
       "   daynumber  dayofweek  mintemp  maxtemp  rain\n",
       "0          1          5      7.0     32.0  0.00\n",
       "1          2          6     17.1     37.9  0.00\n",
       "2          3          7     30.0     41.0  0.00\n",
       "3          4          1     10.0     41.0  0.31\n",
       "4          5          2      3.9     35.1  0.00"
      ]
     },
     "execution_count": 15,
     "metadata": {},
     "output_type": "execute_result"
    }
   ],
   "source": [
    "weather = bq.Query(wxquery, YEAR=2015).to_dataframe()\n",
    "weather[:5]"
   ]
  },
  {
   "cell_type": "markdown",
   "metadata": {
    "deletable": true,
    "editable": true
   },
   "source": [
    "<h3> Merge datasets </h3>\n",
    "\n",
    "Let's use Pandas to merge (combine) the taxi cab and weather datasets day-by-day."
   ]
  },
  {
   "cell_type": "code",
   "execution_count": 27,
   "metadata": {
    "collapsed": false,
    "deletable": true,
    "editable": true
   },
   "outputs": [
    {
     "data": {
      "text/html": [
       "<div>\n",
       "<table border=\"1\" class=\"dataframe\">\n",
       "  <thead>\n",
       "    <tr style=\"text-align: right;\">\n",
       "      <th></th>\n",
       "      <th>daynumber</th>\n",
       "      <th>dayofweek</th>\n",
       "      <th>mintemp</th>\n",
       "      <th>maxtemp</th>\n",
       "      <th>rain</th>\n",
       "      <th>numtrips</th>\n",
       "    </tr>\n",
       "  </thead>\n",
       "  <tbody>\n",
       "    <tr>\n",
       "      <th>0</th>\n",
       "      <td>181</td>\n",
       "      <td>3</td>\n",
       "      <td>66.2</td>\n",
       "      <td>93.2</td>\n",
       "      <td>0.0</td>\n",
       "      <td>42978</td>\n",
       "    </tr>\n",
       "    <tr>\n",
       "      <th>1</th>\n",
       "      <td>180</td>\n",
       "      <td>2</td>\n",
       "      <td>68.0</td>\n",
       "      <td>95.0</td>\n",
       "      <td>0.0</td>\n",
       "      <td>41397</td>\n",
       "    </tr>\n",
       "    <tr>\n",
       "      <th>2</th>\n",
       "      <td>179</td>\n",
       "      <td>1</td>\n",
       "      <td>62.6</td>\n",
       "      <td>89.6</td>\n",
       "      <td>0.0</td>\n",
       "      <td>54632</td>\n",
       "    </tr>\n",
       "    <tr>\n",
       "      <th>3</th>\n",
       "      <td>178</td>\n",
       "      <td>7</td>\n",
       "      <td>69.8</td>\n",
       "      <td>87.8</td>\n",
       "      <td>0.0</td>\n",
       "      <td>74883</td>\n",
       "    </tr>\n",
       "    <tr>\n",
       "      <th>4</th>\n",
       "      <td>177</td>\n",
       "      <td>6</td>\n",
       "      <td>77.0</td>\n",
       "      <td>93.2</td>\n",
       "      <td>0.0</td>\n",
       "      <td>58371</td>\n",
       "    </tr>\n",
       "  </tbody>\n",
       "</table>\n",
       "</div>"
      ],
      "text/plain": [
       "   daynumber  dayofweek  mintemp  maxtemp  rain  numtrips\n",
       "0        181          3     66.2     93.2   0.0     42978\n",
       "1        180          2     68.0     95.0   0.0     41397\n",
       "2        179          1     62.6     89.6   0.0     54632\n",
       "3        178          7     69.8     87.8   0.0     74883\n",
       "4        177          6     77.0     93.2   0.0     58371"
      ]
     },
     "execution_count": 27,
     "metadata": {},
     "output_type": "execute_result"
    }
   ],
   "source": [
    "data = pd.merge(weather, trips, on='daynumber')\n",
    "data[:5]"
   ]
  },
  {
   "cell_type": "markdown",
   "metadata": {
    "deletable": true,
    "editable": true
   },
   "source": [
    "<h3> Exploratory analysis </h3>\n",
    "\n",
    "Is there a relationship between maximum temperature and the number of trips?"
   ]
  },
  {
   "cell_type": "code",
   "execution_count": 28,
   "metadata": {
    "collapsed": false,
    "deletable": true,
    "editable": true
   },
   "outputs": [
    {
     "data": {
      "image/png": "[encoded data removed]",
      "text/plain": [
       "<matplotlib.figure.Figure at 0x7f280adb6b50>"
      ]
     },
     "metadata": {},
     "output_type": "display_data"
    }
   ],
   "source": [
    "j = data.plot(kind='scatter', x='maxtemp', y='numtrips')"
   ]
  },
  {
   "cell_type": "markdown",
   "metadata": {
    "deletable": true,
    "editable": true
   },
   "source": [
    "The scatterplot above doesn't look very promising. \n",
    "\n",
    "Is there a relationship between the day of the week and the number of trips?"
   ]
  },
  {
   "cell_type": "code",
   "execution_count": 29,
   "metadata": {
    "collapsed": false,
    "deletable": true,
    "editable": true
   },
   "outputs": [
    {
     "data": {
      "image/png": "[encoded data removed]",
      "text/plain": [
       "<matplotlib.figure.Figure at 0x7f2808cc3610>"
      ]
     },
     "metadata": {},
     "output_type": "display_data"
    }
   ],
   "source": [
    "j = data.plot(kind='scatter', x='dayofweek', y='numtrips')"
   ]
  },
  {
   "cell_type": "markdown",
   "metadata": {
    "deletable": true,
    "editable": true
   },
   "source": [
    "Hurrah, we seem to have found a predictor. It appears that people use taxis more later in the week. Perhaps New Yorkers make weekly resolutions to walk more and then lose their determination later in the week, or maybe it reflects tourism dynamics in New York City.\n",
    "\n",
    "Perhaps if we took out the <em>confounding</em> effect of the day of the week, maximum temperature will start to have an effect. Let's see if that's the case:"
   ]
  },
  {
   "cell_type": "code",
   "execution_count": 30,
   "metadata": {
    "collapsed": false,
    "deletable": true,
    "editable": true
   },
   "outputs": [
    {
     "data": {
      "image/png": "[encoded data removed]",
      "text/plain": [
       "<matplotlib.figure.Figure at 0x7f2808a56250>"
      ]
     },
     "metadata": {},
     "output_type": "display_data"
    }
   ],
   "source": [
    "j = data[data['dayofweek'] == 7].plot(kind='scatter', x='maxtemp', y='numtrips')"
   ]
  },
  {
   "cell_type": "markdown",
   "metadata": {
    "deletable": true,
    "editable": true
   },
   "source": [
    "Removing the confounding factor does seem to reflect an underlying trend around temperature. But ... the data are a little sparse, don't you think?  This is something that you have to keep in mind -- the more predictors you start to consider (here we are using two: day of week and maximum temperature), the more rows you will need so as to avoid <em> overfitting </em> the model."
   ]
  },
  {
   "cell_type": "markdown",
   "metadata": {
    "deletable": true,
    "editable": true
   },
   "source": [
    "<h3> Adding 2014 data </h3>\n",
    "\n",
    "Let's add in 2014 data to the Pandas dataframe.  Note how useful it was for us to modularize our queries around the YEAR."
   ]
  },
  {
   "cell_type": "code",
   "execution_count": 31,
   "metadata": {
    "collapsed": false,
    "deletable": true,
    "editable": true
   },
   "outputs": [
    {
     "data": {
      "text/html": [
       "<div>\n",
       "<table border=\"1\" class=\"dataframe\">\n",
       "  <thead>\n",
       "    <tr style=\"text-align: right;\">\n",
       "      <th></th>\n",
       "      <th>daynumber</th>\n",
       "      <th>dayofweek</th>\n",
       "      <th>mintemp</th>\n",
       "      <th>maxtemp</th>\n",
       "      <th>rain</th>\n",
       "      <th>numtrips</th>\n",
       "    </tr>\n",
       "  </thead>\n",
       "  <tbody>\n",
       "    <tr>\n",
       "      <th>0</th>\n",
       "      <td>365</td>\n",
       "      <td>4</td>\n",
       "      <td>28.4</td>\n",
       "      <td>39.2</td>\n",
       "      <td>0.0</td>\n",
       "      <td>67518</td>\n",
       "    </tr>\n",
       "    <tr>\n",
       "      <th>1</th>\n",
       "      <td>364</td>\n",
       "      <td>3</td>\n",
       "      <td>28.4</td>\n",
       "      <td>44.6</td>\n",
       "      <td>0.0</td>\n",
       "      <td>43173</td>\n",
       "    </tr>\n",
       "    <tr>\n",
       "      <th>2</th>\n",
       "      <td>363</td>\n",
       "      <td>2</td>\n",
       "      <td>26.6</td>\n",
       "      <td>50.0</td>\n",
       "      <td>0.0</td>\n",
       "      <td>37979</td>\n",
       "    </tr>\n",
       "    <tr>\n",
       "      <th>3</th>\n",
       "      <td>362</td>\n",
       "      <td>1</td>\n",
       "      <td>30.2</td>\n",
       "      <td>44.6</td>\n",
       "      <td>0.0</td>\n",
       "      <td>43055</td>\n",
       "    </tr>\n",
       "    <tr>\n",
       "      <th>4</th>\n",
       "      <td>361</td>\n",
       "      <td>7</td>\n",
       "      <td>33.8</td>\n",
       "      <td>55.4</td>\n",
       "      <td>0.0</td>\n",
       "      <td>46961</td>\n",
       "    </tr>\n",
       "  </tbody>\n",
       "</table>\n",
       "</div>"
      ],
      "text/plain": [
       "   daynumber  dayofweek  mintemp  maxtemp  rain  numtrips\n",
       "0        365          4     28.4     39.2   0.0     67518\n",
       "1        364          3     28.4     44.6   0.0     43173\n",
       "2        363          2     26.6     50.0   0.0     37979\n",
       "3        362          1     30.2     44.6   0.0     43055\n",
       "4        361          7     33.8     55.4   0.0     46961"
      ]
     },
     "execution_count": 31,
     "metadata": {},
     "output_type": "execute_result"
    }
   ],
   "source": [
    "trips = bq.Query(taxiquery, YEAR=2014).to_dataframe()\n",
    "weather = bq.Query(wxquery, YEAR=2014).to_dataframe()\n",
    "data2014 = pd.merge(weather, trips, on='daynumber')\n",
    "data2014[:5]"
   ]
  },
  {
   "cell_type": "code",
   "execution_count": 32,
   "metadata": {
    "collapsed": false,
    "deletable": true,
    "editable": true
   },
   "outputs": [
    {
     "data": {
      "text/html": [
       "<div>\n",
       "<table border=\"1\" class=\"dataframe\">\n",
       "  <thead>\n",
       "    <tr style=\"text-align: right;\">\n",
       "      <th></th>\n",
       "      <th>daynumber</th>\n",
       "      <th>dayofweek</th>\n",
       "      <th>mintemp</th>\n",
       "      <th>maxtemp</th>\n",
       "      <th>rain</th>\n",
       "      <th>numtrips</th>\n",
       "    </tr>\n",
       "  </thead>\n",
       "  <tbody>\n",
       "    <tr>\n",
       "      <th>count</th>\n",
       "      <td>473.000000</td>\n",
       "      <td>473.000000</td>\n",
       "      <td>473.000000</td>\n",
       "      <td>473.000000</td>\n",
       "      <td>473.0</td>\n",
       "      <td>473.000000</td>\n",
       "    </tr>\n",
       "    <tr>\n",
       "      <th>mean</th>\n",
       "      <td>169.653277</td>\n",
       "      <td>4.000000</td>\n",
       "      <td>53.489641</td>\n",
       "      <td>74.370402</td>\n",
       "      <td>0.0</td>\n",
       "      <td>49275.378436</td>\n",
       "    </tr>\n",
       "    <tr>\n",
       "      <th>std</th>\n",
       "      <td>97.437606</td>\n",
       "      <td>2.007402</td>\n",
       "      <td>16.280989</td>\n",
       "      <td>16.856105</td>\n",
       "      <td>0.0</td>\n",
       "      <td>10397.774025</td>\n",
       "    </tr>\n",
       "    <tr>\n",
       "      <th>min</th>\n",
       "      <td>1.000000</td>\n",
       "      <td>1.000000</td>\n",
       "      <td>12.200000</td>\n",
       "      <td>28.400000</td>\n",
       "      <td>0.0</td>\n",
       "      <td>15406.000000</td>\n",
       "    </tr>\n",
       "    <tr>\n",
       "      <th>25%</th>\n",
       "      <td>96.000000</td>\n",
       "      <td>2.000000</td>\n",
       "      <td>41.000000</td>\n",
       "      <td>64.400000</td>\n",
       "      <td>0.0</td>\n",
       "      <td>41439.000000</td>\n",
       "    </tr>\n",
       "    <tr>\n",
       "      <th>50%</th>\n",
       "      <td>155.000000</td>\n",
       "      <td>4.000000</td>\n",
       "      <td>55.400000</td>\n",
       "      <td>78.800000</td>\n",
       "      <td>0.0</td>\n",
       "      <td>47802.000000</td>\n",
       "    </tr>\n",
       "    <tr>\n",
       "      <th>75%</th>\n",
       "      <td>247.000000</td>\n",
       "      <td>6.000000</td>\n",
       "      <td>68.000000</td>\n",
       "      <td>87.800000</td>\n",
       "      <td>0.0</td>\n",
       "      <td>55580.000000</td>\n",
       "    </tr>\n",
       "    <tr>\n",
       "      <th>max</th>\n",
       "      <td>365.000000</td>\n",
       "      <td>7.000000</td>\n",
       "      <td>80.600000</td>\n",
       "      <td>100.400000</td>\n",
       "      <td>0.0</td>\n",
       "      <td>81574.000000</td>\n",
       "    </tr>\n",
       "  </tbody>\n",
       "</table>\n",
       "</div>"
      ],
      "text/plain": [
       "        daynumber   dayofweek     mintemp     maxtemp   rain      numtrips\n",
       "count  473.000000  473.000000  473.000000  473.000000  473.0    473.000000\n",
       "mean   169.653277    4.000000   53.489641   74.370402    0.0  49275.378436\n",
       "std     97.437606    2.007402   16.280989   16.856105    0.0  10397.774025\n",
       "min      1.000000    1.000000   12.200000   28.400000    0.0  15406.000000\n",
       "25%     96.000000    2.000000   41.000000   64.400000    0.0  41439.000000\n",
       "50%    155.000000    4.000000   55.400000   78.800000    0.0  47802.000000\n",
       "75%    247.000000    6.000000   68.000000   87.800000    0.0  55580.000000\n",
       "max    365.000000    7.000000   80.600000  100.400000    0.0  81574.000000"
      ]
     },
     "execution_count": 32,
     "metadata": {},
     "output_type": "execute_result"
    }
   ],
   "source": [
    "data2 = pd.concat([data, data2014])\n",
    "data2.describe()"
   ]
  },
  {
   "cell_type": "code",
   "execution_count": 33,
   "metadata": {
    "collapsed": false,
    "deletable": true,
    "editable": true
   },
   "outputs": [
    {
     "data": {
      "image/png": "[encoded data removed]",
      "text/plain": [
       "<matplotlib.figure.Figure at 0x7f2808a56350>"
      ]
     },
     "metadata": {},
     "output_type": "display_data"
    }
   ],
   "source": [
    "j = data2[data2['dayofweek'] == 7].plot(kind='scatter', x='maxtemp', y='numtrips')"
   ]
  },
  {
   "cell_type": "markdown",
   "metadata": {
    "deletable": true,
    "editable": true
   },
   "source": [
    "The data do seem a bit more robust.  If we had more data, it would be better of course. But in this case, we only have 2014 and 2015 data, so that's what we will go with."
   ]
  },
  {
   "cell_type": "markdown",
   "metadata": {
    "deletable": true,
    "editable": true
   },
   "source": [
    "<h2> Machine Learning with Tensorflow </h2>\n",
    "\n",
    "We'll use 80% of our dataset for training and 20% of the data for testing the model we have trained. Let's shuffle the rows of the Pandas dataframe so that this division is random.  The predictor (or input) columns will be every column in the database other than the number-of-trips (which is our target, or what we want to predict).\n",
    "\n",
    "The machine learning models that we will use -- linear regression and neural networks -- both require that the input variables are numeric in nature.\n",
    "\n",
    "The day of the week, however, is a categorical variable (i.e. Tuesday is not really greater than Monday). So, we should create separate columns for whether it is a Monday (with values 0 or 1), Tuesday, etc.\n",
    "\n",
    "Against that, we do have limited data (remember: the more columns you use as input features, the more rows you need to have in your training dataset), and it appears that there is a clear linear trend by day of the week. So, we will opt for simplicity here and use the data as-is.  Try uncommenting the code that creates separate columns for the days of the week and re-run the notebook if you are curious about the impact of this simplification."
   ]
  },
  {
   "cell_type": "code",
   "execution_count": 34,
   "metadata": {
    "collapsed": false,
    "deletable": true,
    "editable": true
   },
   "outputs": [
    {
     "data": {
      "text/html": [
       "<div>\n",
       "<table border=\"1\" class=\"dataframe\">\n",
       "  <thead>\n",
       "    <tr style=\"text-align: right;\">\n",
       "      <th></th>\n",
       "      <th>dayofweek</th>\n",
       "      <th>mintemp</th>\n",
       "      <th>maxtemp</th>\n",
       "      <th>rain</th>\n",
       "    </tr>\n",
       "  </thead>\n",
       "  <tbody>\n",
       "    <tr>\n",
       "      <th>126</th>\n",
       "      <td>4</td>\n",
       "      <td>71.6</td>\n",
       "      <td>96.8</td>\n",
       "      <td>0.0</td>\n",
       "    </tr>\n",
       "    <tr>\n",
       "      <th>33</th>\n",
       "      <td>6</td>\n",
       "      <td>35.6</td>\n",
       "      <td>68.0</td>\n",
       "      <td>0.0</td>\n",
       "    </tr>\n",
       "    <tr>\n",
       "      <th>57</th>\n",
       "      <td>3</td>\n",
       "      <td>50.0</td>\n",
       "      <td>68.0</td>\n",
       "      <td>0.0</td>\n",
       "    </tr>\n",
       "    <tr>\n",
       "      <th>87</th>\n",
       "      <td>7</td>\n",
       "      <td>42.8</td>\n",
       "      <td>66.2</td>\n",
       "      <td>0.0</td>\n",
       "    </tr>\n",
       "    <tr>\n",
       "      <th>209</th>\n",
       "      <td>5</td>\n",
       "      <td>71.6</td>\n",
       "      <td>89.6</td>\n",
       "      <td>0.0</td>\n",
       "    </tr>\n",
       "  </tbody>\n",
       "</table>\n",
       "</div>"
      ],
      "text/plain": [
       "     dayofweek  mintemp  maxtemp  rain\n",
       "126          4     71.6     96.8   0.0\n",
       "33           6     35.6     68.0   0.0\n",
       "57           3     50.0     68.0   0.0\n",
       "87           7     42.8     66.2   0.0\n",
       "209          5     71.6     89.6   0.0"
      ]
     },
     "execution_count": 34,
     "metadata": {},
     "output_type": "execute_result"
    }
   ],
   "source": [
    "import tensorflow as tf\n",
    "shuffled = data2.sample(frac=1)\n",
    "# It would be a good idea, if we had more data, to treat the days as categorical variables\n",
    "# with the small amount of data, we have though, the model tends to overfit\n",
    "#predictors = shuffled.iloc[:,2:5]\n",
    "#for day in xrange(1,8):\n",
    "#  matching = shuffled['dayofweek'] == day\n",
    "#  predictors.loc[matching, 'day_' + str(day)] = 1\n",
    "#  predictors.loc[~matching, 'day_' + str(day)] = 0\n",
    "predictors = shuffled.iloc[:,1:5]\n",
    "predictors[:5]"
   ]
  },
  {
   "cell_type": "code",
   "execution_count": 35,
   "metadata": {
    "collapsed": false,
    "deletable": true,
    "editable": true
   },
   "outputs": [
    {
     "data": {
      "text/html": [
       "<div>\n",
       "<table border=\"1\" class=\"dataframe\">\n",
       "  <thead>\n",
       "    <tr style=\"text-align: right;\">\n",
       "      <th></th>\n",
       "      <th>daynumber</th>\n",
       "      <th>dayofweek</th>\n",
       "      <th>mintemp</th>\n",
       "      <th>maxtemp</th>\n",
       "      <th>rain</th>\n",
       "      <th>numtrips</th>\n",
       "    </tr>\n",
       "  </thead>\n",
       "  <tbody>\n",
       "    <tr>\n",
       "      <th>126</th>\n",
       "      <td>239</td>\n",
       "      <td>4</td>\n",
       "      <td>71.6</td>\n",
       "      <td>96.8</td>\n",
       "      <td>0.0</td>\n",
       "      <td>37955</td>\n",
       "    </tr>\n",
       "    <tr>\n",
       "      <th>33</th>\n",
       "      <td>332</td>\n",
       "      <td>6</td>\n",
       "      <td>35.6</td>\n",
       "      <td>68.0</td>\n",
       "      <td>0.0</td>\n",
       "      <td>47270</td>\n",
       "    </tr>\n",
       "    <tr>\n",
       "      <th>57</th>\n",
       "      <td>308</td>\n",
       "      <td>3</td>\n",
       "      <td>50.0</td>\n",
       "      <td>68.0</td>\n",
       "      <td>0.0</td>\n",
       "      <td>37577</td>\n",
       "    </tr>\n",
       "    <tr>\n",
       "      <th>87</th>\n",
       "      <td>94</td>\n",
       "      <td>7</td>\n",
       "      <td>42.8</td>\n",
       "      <td>66.2</td>\n",
       "      <td>0.0</td>\n",
       "      <td>68373</td>\n",
       "    </tr>\n",
       "    <tr>\n",
       "      <th>209</th>\n",
       "      <td>156</td>\n",
       "      <td>5</td>\n",
       "      <td>71.6</td>\n",
       "      <td>89.6</td>\n",
       "      <td>0.0</td>\n",
       "      <td>43049</td>\n",
       "    </tr>\n",
       "  </tbody>\n",
       "</table>\n",
       "</div>"
      ],
      "text/plain": [
       "     daynumber  dayofweek  mintemp  maxtemp  rain  numtrips\n",
       "126        239          4     71.6     96.8   0.0     37955\n",
       "33         332          6     35.6     68.0   0.0     47270\n",
       "57         308          3     50.0     68.0   0.0     37577\n",
       "87          94          7     42.8     66.2   0.0     68373\n",
       "209        156          5     71.6     89.6   0.0     43049"
      ]
     },
     "execution_count": 35,
     "metadata": {},
     "output_type": "execute_result"
    }
   ],
   "source": [
    "shuffled[:5]"
   ]
  },
  {
   "cell_type": "code",
   "execution_count": 36,
   "metadata": {
    "collapsed": false,
    "deletable": true,
    "editable": true
   },
   "outputs": [
    {
     "data": {
      "text/plain": [
       "126    37955\n",
       "33     47270\n",
       "57     37577\n",
       "87     68373\n",
       "209    43049\n",
       "Name: numtrips, dtype: int64"
      ]
     },
     "execution_count": 36,
     "metadata": {},
     "output_type": "execute_result"
    }
   ],
   "source": [
    "targets = shuffled.iloc[:,5]\n",
    "targets[:5]"
   ]
  },
  {
   "cell_type": "markdown",
   "metadata": {
    "deletable": true,
    "editable": true
   },
   "source": [
    "Let's update our benchmark based on the 80-20 split and the larger dataset."
   ]
  },
  {
   "cell_type": "code",
   "execution_count": 62,
   "metadata": {
    "collapsed": false,
    "deletable": true,
    "editable": true
   },
   "outputs": [
    {
     "name": "stdout",
     "output_type": "stream",
     "text": [
      "Just using average=49616.4365079 has RMSE of 10602.5569032\n",
      "(473,)\n",
      "378\n"
     ]
    }
   ],
   "source": [
    "trainsize = int(len(shuffled['numtrips']) * 0.8)\n",
    "avg = np.mean(shuffled['numtrips'][:trainsize])\n",
    "rmse = np.sqrt(np.mean((targets[trainsize:] - avg)**2))\n",
    "print 'Just using average={0} has RMSE of {1}'.format(avg, rmse)\n",
    "print(targets.shape)\n",
    "print(trainsize)"
   ]
  },
  {
   "cell_type": "markdown",
   "metadata": {
    "deletable": true,
    "editable": true
   },
   "source": [
    "<h2> Linear regression with tf.contrib.learn </h2>\n",
    "\n",
    "We scale the number of taxicab rides by 100,000 so that the model can keep its predicted values in the [0-1] range. The optimization goes a lot faster when the weights are small numbers.  We save the weights into /tmp/trained_model and display the root mean square error on the test dataset."
   ]
  },
  {
   "cell_type": "code",
   "execution_count": 71,
   "metadata": {
    "collapsed": false,
    "deletable": true,
    "editable": true
   },
   "outputs": [
    {
     "name": "stdout",
     "output_type": "stream",
     "text": [
      "WARNING:tensorflow:float64 is not supported by many models, consider casting to float32.\n",
      "starting to train ... this will take a while ... use verbosity=INFO to get more verbose output\n",
      "WARNING:tensorflow:From <ipython-input-71-f30712daf7c6>:13: calling fit (from tensorflow.contrib.learn.python.learn.estimators.estimator) with y is deprecated and will be removed after 2016-12-01.\n",
      "Instructions for updating:\n",
      "Estimator is decoupled from Scikit Learn interface by moving into\n",
      "separate class SKCompat. Arguments x, y and batch_size are only\n",
      "available in the SKCompat class, Estimator will only accept input_fn.\n",
      "Example conversion:\n",
      "  est = Estimator(...) -> est = SKCompat(Estimator(...))\n",
      "WARNING:tensorflow:From <ipython-input-71-f30712daf7c6>:13: calling fit (from tensorflow.contrib.learn.python.learn.estimators.estimator) with x is deprecated and will be removed after 2016-12-01.\n",
      "Instructions for updating:\n",
      "Estimator is decoupled from Scikit Learn interface by moving into\n",
      "separate class SKCompat. Arguments x, y and batch_size are only\n",
      "available in the SKCompat class, Estimator will only accept input_fn.\n",
      "Example conversion:\n",
      "  est = Estimator(...) -> est = SKCompat(Estimator(...))\n",
      "WARNING:tensorflow:float64 is not supported by many models, consider casting to float32.\n",
      "WARNING:tensorflow:float64 is not supported by many models, consider casting to float32.\n",
      "WARNING:tensorflow:From /usr/local/lib/python2.7/dist-packages/tensorflow/contrib/learn/python/learn/estimators/head.py:1362: scalar_summary (from tensorflow.python.ops.logging_ops) is deprecated and will be removed after 2016-11-30.\n",
      "Instructions for updating:\n",
      "Please switch to tf.summary.scalar. Note that tf.summary.scalar uses the node name instead of the tag. This means that TensorFlow will automatically de-duplicate summary names based on the scope they are created in. Also, passing a tensor or list of tags to a scalar summary op is no longer supported.\n",
      "WARNING:tensorflow:From /usr/local/lib/python2.7/dist-packages/tensorflow/contrib/learn/python/learn/estimators/linear.py:708: calling predict (from tensorflow.contrib.learn.python.learn.estimators.estimator) with x is deprecated and will be removed after 2016-12-01.\n",
      "Instructions for updating:\n",
      "Estimator is decoupled from Scikit Learn interface by moving into\n",
      "separate class SKCompat. Arguments x, y and batch_size are only\n",
      "available in the SKCompat class, Estimator will only accept input_fn.\n",
      "Example conversion:\n",
      "  est = Estimator(...) -> est = SKCompat(Estimator(...))\n",
      "WARNING:tensorflow:float64 is not supported by many models, consider casting to float32.\n",
      "LinearRegression has RMSE of 8231.16703677\n"
     ]
    }
   ],
   "source": [
    "SCALE_NUM_TRIPS = 100000.0\n",
    "trainsize = int(len(shuffled['numtrips']) * 0.8)\n",
    "testsize = len(shuffled['numtrips']) - trainsize\n",
    "npredictors = len(predictors.columns)\n",
    "noutputs = 1\n",
    "tf.logging.set_verbosity(tf.logging.WARN) # change to INFO to get output every 100 steps ...\n",
    "shutil.rmtree('/tmp/trained_model', ignore_errors=True) # so that we don't load weights from previous runs\n",
    "estimator = tf.contrib.learn.LinearRegressor(model_dir='/tmp/trained_model',\n",
    "                                             optimizer=tf.train.AdamOptimizer(learning_rate=0.1),\n",
    "                                             enable_centered_bias=False,\n",
    "                                             feature_columns=tf.contrib.learn.infer_real_valued_columns_from_input(predictors.values))\n",
    "print \"starting to train ... this will take a while ... use verbosity=INFO to get more verbose output\"\n",
    "estimator.fit(predictors[:trainsize].values, targets[:trainsize].values.reshape(trainsize, noutputs)/SCALE_NUM_TRIPS, steps=10000)\n",
    "pred = np.multiply(list(estimator.predict(predictors[trainsize:].values)), SCALE_NUM_TRIPS )\n",
    "rmse = np.sqrt(np.mean(np.power((targets[trainsize:].values - pred), 2)))\n",
    "print 'LinearRegression has RMSE of {0}'.format(rmse)\n",
    "\n",
    "tmp = targets[trainsize:].values\n"
   ]
  },
  {
   "cell_type": "markdown",
   "metadata": {
    "deletable": true,
    "editable": true
   },
   "source": [
    "The test error of about 11420 indicates that we are doing better with the machine learning model than we would be if we were to just use the historical average (our benchmark)."
   ]
  },
  {
   "cell_type": "markdown",
   "metadata": {
    "deletable": true,
    "editable": true
   },
   "source": [
    "<h2> Neural network with tf.contrib.learn </h2>\n",
    "\n",
    "Let's make a more complex model with a few hidden nodes."
   ]
  },
  {
   "cell_type": "code",
   "execution_count": 72,
   "metadata": {
    "collapsed": false,
    "deletable": true,
    "editable": true
   },
   "outputs": [
    {
     "name": "stdout",
     "output_type": "stream",
     "text": [
      "WARNING:tensorflow:float64 is not supported by many models, consider casting to float32.\n",
      "starting to train ... this will take a while ... use verbosity=INFO to get more verbose output\n",
      "WARNING:tensorflow:From <ipython-input-72-26c5aafd2ac4>:14: calling fit (from tensorflow.contrib.learn.python.learn.estimators.estimator) with y is deprecated and will be removed after 2016-12-01.\n",
      "Instructions for updating:\n",
      "Estimator is decoupled from Scikit Learn interface by moving into\n",
      "separate class SKCompat. Arguments x, y and batch_size are only\n",
      "available in the SKCompat class, Estimator will only accept input_fn.\n",
      "Example conversion:\n",
      "  est = Estimator(...) -> est = SKCompat(Estimator(...))\n",
      "WARNING:tensorflow:From <ipython-input-72-26c5aafd2ac4>:14: calling fit (from tensorflow.contrib.learn.python.learn.estimators.estimator) with x is deprecated and will be removed after 2016-12-01.\n",
      "Instructions for updating:\n",
      "Estimator is decoupled from Scikit Learn interface by moving into\n",
      "separate class SKCompat. Arguments x, y and batch_size are only\n",
      "available in the SKCompat class, Estimator will only accept input_fn.\n",
      "Example conversion:\n",
      "  est = Estimator(...) -> est = SKCompat(Estimator(...))\n",
      "WARNING:tensorflow:float64 is not supported by many models, consider casting to float32.\n",
      "WARNING:tensorflow:float64 is not supported by many models, consider casting to float32.\n",
      "WARNING:tensorflow:From /usr/local/lib/python2.7/dist-packages/tensorflow/contrib/learn/python/learn/estimators/head.py:1362: scalar_summary (from tensorflow.python.ops.logging_ops) is deprecated and will be removed after 2016-11-30.\n",
      "Instructions for updating:\n",
      "Please switch to tf.summary.scalar. Note that tf.summary.scalar uses the node name instead of the tag. This means that TensorFlow will automatically de-duplicate summary names based on the scope they are created in. Also, passing a tensor or list of tags to a scalar summary op is no longer supported.\n",
      "WARNING:tensorflow:From /usr/local/lib/python2.7/dist-packages/tensorflow/contrib/learn/python/learn/estimators/dnn.py:692: calling predict (from tensorflow.contrib.learn.python.learn.estimators.estimator) with x is deprecated and will be removed after 2016-12-01.\n",
      "Instructions for updating:\n",
      "Estimator is decoupled from Scikit Learn interface by moving into\n",
      "separate class SKCompat. Arguments x, y and batch_size are only\n",
      "available in the SKCompat class, Estimator will only accept input_fn.\n",
      "Example conversion:\n",
      "  est = Estimator(...) -> est = SKCompat(Estimator(...))\n",
      "WARNING:tensorflow:float64 is not supported by many models, consider casting to float32.\n",
      "Neural Network Regression has RMSE of 8231.16703677\n"
     ]
    }
   ],
   "source": [
    "SCALE_NUM_TRIPS = 100000.0\n",
    "trainsize = int(len(shuffled['numtrips']) * 0.8)\n",
    "testsize = len(shuffled['numtrips']) - trainsize\n",
    "npredictors = len(predictors.columns)\n",
    "noutputs = 1\n",
    "tf.logging.set_verbosity(tf.logging.WARN) # change to INFO to get output every 100 steps ...\n",
    "shutil.rmtree('/tmp/trained_model', ignore_errors=True) # so that we don't load weights from previous runs\n",
    "estimator = tf.contrib.learn.DNNRegressor(model_dir='/tmp/trained_model',\n",
    "                                          hidden_units=[5, 2],\n",
    "                                          optimizer=tf.train.AdamOptimizer(learning_rate=0.01),\n",
    "                                          enable_centered_bias=False,\n",
    "                                          feature_columns=tf.contrib.learn.infer_real_valued_columns_from_input(predictors.values))\n",
    "print \"starting to train ... this will take a while ... use verbosity=INFO to get more verbose output\"\n",
    "estimator.fit(predictors[:trainsize].values, targets[:trainsize].values.reshape(trainsize, noutputs)/SCALE_NUM_TRIPS, steps=10000)\n",
    "pred2 = np.multiply(list(estimator.predict(predictors[trainsize:].values)), SCALE_NUM_TRIPS)\n",
    "rmse = np.sqrt(np.mean((targets[trainsize:].values - pred)**2))\n",
    "print 'Neural Network Regression has RMSE of {0}'.format(rmse)\n",
    "\n",
    "tmp2 = targets[trainsize:].values"
   ]
  },
  {
   "cell_type": "markdown",
   "metadata": {
    "deletable": true,
    "editable": true
   },
   "source": [
    "Using a neural network does seem to get us an additional boost in performance (11400 to 10600 when I ran it -- because of random seeds, your actual answers might be different)."
   ]
  },
  {
   "cell_type": "markdown",
   "metadata": {
    "deletable": true,
    "editable": true
   },
   "source": [
    "<h2> Running a trained model </h2>\n",
    "\n",
    "So, we have trained a model, and saved it to a file. Let's use this model to predict taxicab demand given the expected weather for three days.\n",
    "\n",
    "Here we make a Dataframe out of those inputs, load up the saved model (note that we have to know the model equation -- it's not saved in the model file) and use it to predict the taxicab demand."
   ]
  },
  {
   "cell_type": "code",
   "execution_count": 74,
   "metadata": {
    "collapsed": false
   },
   "outputs": [
    {
     "data": {
      "image/png": "[encoded data removed]",
      "text/plain": [
       "<matplotlib.figure.Figure at 0x7f27fc486e90>"
      ]
     },
     "metadata": {},
     "output_type": "display_data"
    }
   ],
   "source": [
    "import matplotlib.pyplot as plt2\n",
    "\n",
    "\n",
    "plt2.plot(pred,color='red', label='prediction')\n",
    "plt2.plot(tmp,color='blue', label='values')\n",
    "plt2.plot(pred2,color='purple', label='predictionDNN')\n",
    "plt2.legend(loc='upper left')\n",
    "plt2.show()"
   ]
  },
  {
   "cell_type": "code",
   "execution_count": 76,
   "metadata": {
    "collapsed": false,
    "deletable": true,
    "editable": true
   },
   "outputs": [
    {
     "name": "stdout",
     "output_type": "stream",
     "text": [
      "WARNING:tensorflow:float64 is not supported by many models, consider casting to float32.\n",
      "WARNING:tensorflow:From /usr/local/lib/python2.7/dist-packages/tensorflow/contrib/learn/python/learn/estimators/dnn.py:692: calling predict (from tensorflow.contrib.learn.python.learn.estimators.estimator) with x is deprecated and will be removed after 2016-12-01.\n",
      "Instructions for updating:\n",
      "Estimator is decoupled from Scikit Learn interface by moving into\n",
      "separate class SKCompat. Arguments x, y and batch_size are only\n",
      "available in the SKCompat class, Estimator will only accept input_fn.\n",
      "Example conversion:\n",
      "  est = Estimator(...) -> est = SKCompat(Estimator(...))\n",
      "WARNING:tensorflow:float64 is not supported by many models, consider casting to float32.\n",
      "[ 45291.84375     56091.38671875  55550.8125    ]\n"
     ]
    }
   ],
   "source": [
    "input = pd.DataFrame.from_dict(data = \n",
    "                               {'dayofweek' : [4, 5, 6],\n",
    "                                'mintemp' : [40, 30, 70],\n",
    "                                'maxtemp' : [80, 70, 80],\n",
    "                                'rain' : [0, 0.8, 0]})\n",
    "# read trained model from /tmp/trained_model\n",
    "estimator = tf.contrib.learn.DNNRegressor(model_dir='/tmp/trained_model',\n",
    "#estimator = tf.contrib.learn.LinearRegressor(model_dir='/tmp/trained_model',\n",
    "                                          hidden_units=[5, 2],\n",
    "                                          enable_centered_bias=False,\n",
    "                                          feature_columns=tf.contrib.learn.infer_real_valued_columns_from_input(input.values))\n",
    "\n",
    "pred = np.multiply(list(estimator.predict(input.values)), SCALE_NUM_TRIPS)\n",
    "print pred"
   ]
  },
  {
   "cell_type": "markdown",
   "metadata": {
    "deletable": true,
    "editable": true
   },
   "source": [
    "Looks like we should tell some of our taxi drivers to take the day off on Wednesday (day=4) and be there in full strength on Thursday (day=5).  No wonder -- the forecast calls for extreme weather fluctuations on Thursday.\n",
    "\n",
    "Note that Thursdays are usually \"slow\" days (taxi demand peaks on the weekends), but the machine learning model tells us to expect heavy demand this particular Thursday because of the weather."
   ]
  }
 ],
 "metadata": {
  "kernelspec": {
   "display_name": "Python 2",
   "language": "python",
   "name": "python2"
  },
  "language_info": {
   "codemirror_mode": {
    "name": "ipython",
    "version": 2
   },
   "file_extension": ".py",
   "mimetype": "text/x-python",
   "name": "python",
   "nbconvert_exporter": "python",
   "pygments_lexer": "ipython2",
   "version": "2.7.9"
  }
 },
 "nbformat": 4,
 "nbformat_minor": 0
}
