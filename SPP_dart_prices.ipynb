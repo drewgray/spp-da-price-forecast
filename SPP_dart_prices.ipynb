{
 "cells": [
  {
   "cell_type": "code",
   "execution_count": 1,
   "metadata": {
    "collapsed": true
   },
   "outputs": [],
   "source": [
    "import time\n",
    "import datetime as dt\n",
    "import warnings\n",
    "import numpy as np\n",
    "import pandas as pd\n",
    "from numpy import newaxis\n",
    "#from keras.layers.core import Dense, Activation, Dropout\n",
    "#from keras.layers.recurrent import LSTM\n",
    "#from keras.models import Sequential\n",
    "import matplotlib.pyplot as plt\n",
    "import matplotlib.ticker as ticker\n",
    "\n",
    "import datalab.bigquery as bq\n",
    "import pandas as pd\n",
    "import numpy as np\n",
    "import collections\n",
    "import math\n",
    "import shutil\n"
   ]
  },
  {
   "cell_type": "code",
   "execution_count": 2,
   "metadata": {
    "collapsed": false
   },
   "outputs": [
    {
     "name": "stdout",
     "output_type": "stream",
     "text": [
      "      Date Hour      mec\n",
      "0  8012016   01  28.9543\n",
      "2  8012016   02  28.1353\n",
      "1  8012016   03  23.0198\n",
      "4  8012016   04  20.2738\n",
      "3  8012016   05  19.6931\n"
     ]
    }
   ],
   "source": [
    "fname = \"sppdamec.csv\"\n",
    "coln = ['Date','Hour','mec']\n",
    "mec = pd.read_csv(fname, names=coln)\n",
    "#read_csv index_col=0, skiprows=1\n",
    "#\n",
    "mdf = pd.DataFrame(mec)\n",
    "mdf['Hour'] = mdf['Hour'].str.lstrip('HE')\n",
    "mdf = mdf.sort_values(['Date', 'Hour'], ascending=[1, 1])\n",
    "print(mdf.head())"
   ]
  },
  {
   "cell_type": "code",
   "execution_count": 5,
   "metadata": {
    "collapsed": false
   },
   "outputs": [
    {
     "data": {
      "text/html": [
       "<div>\n",
       "<table border=\"1\" class=\"dataframe\">\n",
       "  <thead>\n",
       "    <tr style=\"text-align: right;\">\n",
       "      <th></th>\n",
       "      <th>Date</th>\n",
       "      <th>mec</th>\n",
       "      <th>rtmec</th>\n",
       "      <th>diffmec</th>\n",
       "    </tr>\n",
       "  </thead>\n",
       "  <tbody>\n",
       "    <tr>\n",
       "      <th>count</th>\n",
       "      <td>5.094000e+03</td>\n",
       "      <td>5094.000000</td>\n",
       "      <td>5094.000000</td>\n",
       "      <td>5094.000000</td>\n",
       "    </tr>\n",
       "    <tr>\n",
       "      <th>mean</th>\n",
       "      <td>1.411311e+07</td>\n",
       "      <td>24.783158</td>\n",
       "      <td>23.726857</td>\n",
       "      <td>1.056301</td>\n",
       "    </tr>\n",
       "    <tr>\n",
       "      <th>std</th>\n",
       "      <td>5.264568e+06</td>\n",
       "      <td>9.168643</td>\n",
       "      <td>18.591004</td>\n",
       "      <td>16.526046</td>\n",
       "    </tr>\n",
       "    <tr>\n",
       "      <th>min</th>\n",
       "      <td>8.012016e+06</td>\n",
       "      <td>2.785700</td>\n",
       "      <td>-18.205000</td>\n",
       "      <td>-345.784700</td>\n",
       "    </tr>\n",
       "    <tr>\n",
       "      <th>25%</th>\n",
       "      <td>9.232016e+06</td>\n",
       "      <td>18.317450</td>\n",
       "      <td>16.897750</td>\n",
       "      <td>0.062250</td>\n",
       "    </tr>\n",
       "    <tr>\n",
       "      <th>50%</th>\n",
       "      <td>1.115202e+07</td>\n",
       "      <td>23.148600</td>\n",
       "      <td>20.407400</td>\n",
       "      <td>2.613550</td>\n",
       "    </tr>\n",
       "    <tr>\n",
       "      <th>75%</th>\n",
       "      <td>2.017011e+07</td>\n",
       "      <td>30.184475</td>\n",
       "      <td>26.367925</td>\n",
       "      <td>5.901825</td>\n",
       "    </tr>\n",
       "    <tr>\n",
       "      <th>max</th>\n",
       "      <td>2.017030e+07</td>\n",
       "      <td>131.898900</td>\n",
       "      <td>380.685800</td>\n",
       "      <td>110.639400</td>\n",
       "    </tr>\n",
       "  </tbody>\n",
       "</table>\n",
       "</div>"
      ],
      "text/plain": [
       "               Date          mec        rtmec      diffmec\n",
       "count  5.094000e+03  5094.000000  5094.000000  5094.000000\n",
       "mean   1.411311e+07    24.783158    23.726857     1.056301\n",
       "std    5.264568e+06     9.168643    18.591004    16.526046\n",
       "min    8.012016e+06     2.785700   -18.205000  -345.784700\n",
       "25%    9.232016e+06    18.317450    16.897750     0.062250\n",
       "50%    1.115202e+07    23.148600    20.407400     2.613550\n",
       "75%    2.017011e+07    30.184475    26.367925     5.901825\n",
       "max    2.017030e+07   131.898900   380.685800   110.639400"
      ]
     },
     "execution_count": 5,
     "metadata": {},
     "output_type": "execute_result"
    }
   ],
   "source": [
    "fname = \"spprtmec.csv\"\n",
    "coln = ['Date','Hour','mec']\n",
    "mec = pd.read_csv(fname, names=coln)\n",
    "rdf = pd.DataFrame(mec)\n",
    "rdf['Hour'] = rdf['Hour'].str.lstrip('HE')\n",
    "rdf = rdf.sort_values(['Date', 'Hour'], ascending=[1, 1])\n",
    "#for below need to set indexes first and also name columns based on mkt type too\n",
    "#pd.merge(mdf,rdf, how='outer', left_index=True, right_index=True)\n",
    "#can use column instead of index too, left_on=col right_on=[col1,col2] ...\n",
    "mdf['rtmec'] = rdf['mec']\n",
    "mdf['diffmec'] = mdf['mec']-mdf['rtmec']\n",
    "mdf.describe()"
   ]
  },
  {
   "cell_type": "code",
   "execution_count": 33,
   "metadata": {
    "collapsed": false
   },
   "outputs": [
    {
     "name": "stdout",
     "output_type": "stream",
     "text": [
      "                     windforecast       date  loadforecast  ngprice  hour\n",
      "interval                                                                 \n",
      "2016-08-01 00:00:00       9419.15 2016-08-01         34925     2.97     0\n",
      "2016-08-01 01:00:00       9526.57 2016-08-01         33084     2.97     1\n",
      "2016-08-01 02:00:00       9508.95 2016-08-01         31562     2.97     2\n",
      "2016-08-01 03:00:00       9376.61 2016-08-01         30472     2.97     3\n",
      "2016-08-01 04:00:00       9228.14 2016-08-01         29909     2.97     4\n",
      "                     windforecast       date  loadforecast  ngprice  hour\n",
      "interval                                                                 \n",
      "2017-02-28 19:00:00      10789.89 2017-02-28         28246     2.54    19\n",
      "2017-02-28 20:00:00      11119.76 2017-02-28         28423     2.54    20\n",
      "2017-02-28 21:00:00      11434.75 2017-02-28         28229     2.54    21\n",
      "2017-02-28 22:00:00      11755.12 2017-02-28         27325     2.54    22\n",
      "2017-02-28 23:00:00      12078.26 2017-02-28         25891     2.54    23\n"
     ]
    }
   ],
   "source": [
    "#get wind \n",
    "fname = 'sppwind.csv'\n",
    "coln = ['interval','windforecast']\n",
    "wind = pd.read_csv(fname, names=coln)\n",
    "#get mtlf\n",
    "fname = 'sppmtlf.csv'\n",
    "coln = ['interval','loadforecast']\n",
    "mtlf = pd.read_csv(fname, names=coln)\n",
    "#get gas price\n",
    "fname = 'ngprices.csv'\n",
    "coln = ['interval','ngprice']\n",
    "gas = pd.read_csv(fname, names=coln)\n",
    "\n",
    "wind['interval'] = pd.to_datetime(wind['interval'])\n",
    "wind['date'] = wind['interval'].apply(lambda df : pd.datetime(year=df.year, month=df.month, day=df.day))\n",
    "mtlf['interval'] = pd.to_datetime(mtlf['interval'])\n",
    "mtlf['date'] = mtlf['interval'].apply(lambda df : pd.datetime(year=df.year, month=df.month, day=df.day))\n",
    "gas['interval'] = pd.to_datetime(gas['interval'])\n",
    "gas.rename(columns={'interval': 'date'}, inplace=True)\n",
    "\n",
    "wind = wind.sort_values(['interval'])\n",
    "mtlf = mtlf.sort_values(['interval'])\n",
    "\n",
    "wind['loadforecast'] = mtlf['loadforecast']\n",
    "data = pd.merge(wind, gas, on=['date'], how='inner')\n",
    "\n",
    "data['hour'] = data.interval.apply(lambda x: x.hour)\n",
    "\n",
    "data.set_index(['interval'], inplace=True)\n",
    "\n",
    "print(data.head())\n",
    "print(data.tail())\n"
   ]
  }
 ],
 "metadata": {
  "kernelspec": {
   "display_name": "Python 2",
   "language": "python",
   "name": "python2"
  },
  "language_info": {
   "codemirror_mode": {
    "name": "ipython",
    "version": 2
   },
   "file_extension": ".py",
   "mimetype": "text/x-python",
   "name": "python",
   "nbconvert_exporter": "python",
   "pygments_lexer": "ipython2",
   "version": "2.7.9"
  }
 },
 "nbformat": 4,
 "nbformat_minor": 2
}
