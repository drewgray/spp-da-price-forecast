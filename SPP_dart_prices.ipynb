{
 "cells": [
  {
   "cell_type": "code",
   "execution_count": 1,
   "metadata": {
    "collapsed": true
   },
   "outputs": [],
   "source": [
    "import time\n",
    "import datetime as dt\n",
    "import warnings\n",
    "import numpy as np\n",
    "import pandas as pd\n",
    "from numpy import newaxis\n",
    "#from keras.layers.core import Dense, Activation, Dropout\n",
    "#from keras.layers.recurrent import LSTM\n",
    "#from keras.models import Sequential\n",
    "import matplotlib.pyplot as plt\n",
    "import matplotlib.ticker as ticker\n",
    "\n",
    "import datalab.bigquery as bq\n",
    "import pandas as pd\n",
    "import numpy as np\n",
    "import collections\n",
    "import math\n",
    "import shutil\n"
   ]
  },
  {
   "cell_type": "code",
   "execution_count": 2,
   "metadata": {
    "collapsed": false
   },
   "outputs": [
    {
     "name": "stdout",
     "output_type": "stream",
     "text": [
      "      Date Hour      mec\n",
      "0  8012016   01  28.9543\n",
      "2  8012016   02  28.1353\n",
      "1  8012016   03  23.0198\n",
      "4  8012016   04  20.2738\n",
      "3  8012016   05  19.6931\n"
     ]
    }
   ],
   "source": [
    "fname = \"sppdamec.csv\"\n",
    "coln = ['Date','Hour','mec']\n",
    "mec = pd.read_csv(fname, names=coln)\n",
    "#read_csv index_col=0, skiprows=1\n",
    "#\n",
    "mdf = pd.DataFrame(mec)\n",
    "mdf['Hour'] = mdf['Hour'].str.lstrip('HE')\n",
    "mdf = mdf.sort_values(['Date', 'Hour'], ascending=[1, 1])\n",
    "print(mdf.head())"
   ]
  },
  {
   "cell_type": "code",
   "execution_count": 5,
   "metadata": {
    "collapsed": false
   },
   "outputs": [
    {
     "data": {
      "text/html": [
       "<div>\n",
       "<table border=\"1\" class=\"dataframe\">\n",
       "  <thead>\n",
       "    <tr style=\"text-align: right;\">\n",
       "      <th></th>\n",
       "      <th>Date</th>\n",
       "      <th>mec</th>\n",
       "      <th>rtmec</th>\n",
       "      <th>diffmec</th>\n",
       "    </tr>\n",
       "  </thead>\n",
       "  <tbody>\n",
       "    <tr>\n",
       "      <th>count</th>\n",
       "      <td>5.094000e+03</td>\n",
       "      <td>5094.000000</td>\n",
       "      <td>5094.000000</td>\n",
       "      <td>5094.000000</td>\n",
       "    </tr>\n",
       "    <tr>\n",
       "      <th>mean</th>\n",
       "      <td>1.411311e+07</td>\n",
       "      <td>24.783158</td>\n",
       "      <td>23.726857</td>\n",
       "      <td>1.056301</td>\n",
       "    </tr>\n",
       "    <tr>\n",
       "      <th>std</th>\n",
       "      <td>5.264568e+06</td>\n",
       "      <td>9.168643</td>\n",
       "      <td>18.591004</td>\n",
       "      <td>16.526046</td>\n",
       "    </tr>\n",
       "    <tr>\n",
       "      <th>min</th>\n",
       "      <td>8.012016e+06</td>\n",
       "      <td>2.785700</td>\n",
       "      <td>-18.205000</td>\n",
       "      <td>-345.784700</td>\n",
       "    </tr>\n",
       "    <tr>\n",
       "      <th>25%</th>\n",
       "      <td>9.232016e+06</td>\n",
       "      <td>18.317450</td>\n",
       "      <td>16.897750</td>\n",
       "      <td>0.062250</td>\n",
       "    </tr>\n",
       "    <tr>\n",
       "      <th>50%</th>\n",
       "      <td>1.115202e+07</td>\n",
       "      <td>23.148600</td>\n",
       "      <td>20.407400</td>\n",
       "      <td>2.613550</td>\n",
       "    </tr>\n",
       "    <tr>\n",
       "      <th>75%</th>\n",
       "      <td>2.017011e+07</td>\n",
       "      <td>30.184475</td>\n",
       "      <td>26.367925</td>\n",
       "      <td>5.901825</td>\n",
       "    </tr>\n",
       "    <tr>\n",
       "      <th>max</th>\n",
       "      <td>2.017030e+07</td>\n",
       "      <td>131.898900</td>\n",
       "      <td>380.685800</td>\n",
       "      <td>110.639400</td>\n",
       "    </tr>\n",
       "  </tbody>\n",
       "</table>\n",
       "</div>"
      ],
      "text/plain": [
       "               Date          mec        rtmec      diffmec\n",
       "count  5.094000e+03  5094.000000  5094.000000  5094.000000\n",
       "mean   1.411311e+07    24.783158    23.726857     1.056301\n",
       "std    5.264568e+06     9.168643    18.591004    16.526046\n",
       "min    8.012016e+06     2.785700   -18.205000  -345.784700\n",
       "25%    9.232016e+06    18.317450    16.897750     0.062250\n",
       "50%    1.115202e+07    23.148600    20.407400     2.613550\n",
       "75%    2.017011e+07    30.184475    26.367925     5.901825\n",
       "max    2.017030e+07   131.898900   380.685800   110.639400"
      ]
     },
     "execution_count": 5,
     "metadata": {},
     "output_type": "execute_result"
    }
   ],
   "source": [
    "fname = \"spprtmec.csv\"\n",
    "coln = ['Date','Hour','mec']\n",
    "mec = pd.read_csv(fname, names=coln)\n",
    "rdf = pd.DataFrame(mec)\n",
    "rdf['Hour'] = rdf['Hour'].str.lstrip('HE')\n",
    "rdf = rdf.sort_values(['Date', 'Hour'], ascending=[1, 1])\n",
    "#for below need to set indexes first and also name columns based on mkt type too\n",
    "#pd.merge(mdf,rdf, how='outer', left_index=True, right_index=True)\n",
    "#can use column instead of index too, left_on=col right_on=[col1,col2] ...\n",
    "mdf['rtmec'] = rdf['mec']\n",
    "mdf['diffmec'] = mdf['mec']-mdf['rtmec']\n",
    "mdf.describe()"
   ]
  },
  {
   "cell_type": "code",
   "execution_count": null,
   "metadata": {
    "collapsed": true
   },
   "outputs": [],
   "source": [
    "#get wind \n",
    "#get mtlf\n",
    "#get gas price"
   ]
  }
 ],
 "metadata": {
  "kernelspec": {
   "display_name": "Python 2",
   "language": "python",
   "name": "python2"
  },
  "language_info": {
   "codemirror_mode": {
    "name": "ipython",
    "version": 2
   },
   "file_extension": ".py",
   "mimetype": "text/x-python",
   "name": "python",
   "nbconvert_exporter": "python",
   "pygments_lexer": "ipython2",
   "version": "2.7.9"
  }
 },
 "nbformat": 4,
 "nbformat_minor": 2
}
