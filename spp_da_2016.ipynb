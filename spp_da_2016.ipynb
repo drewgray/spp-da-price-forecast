{
 "cells": [
  {
   "cell_type": "code",
   "execution_count": 103,
   "metadata": {
    "collapsed": false
   },
   "outputs": [],
   "source": [
    "import time\n",
    "import warnings\n",
    "import numpy as np\n",
    "import pandas as pd\n",
    "from numpy import newaxis\n",
    "#from keras.layers.core import Dense, Activation, Dropout\n",
    "#from keras.layers.recurrent import LSTM\n",
    "#from keras.models import Sequential\n",
    "import matplotlib.pyplot as plt\n",
    "\n",
    "import datalab.bigquery as bq\n",
    "import pandas as pd\n",
    "import numpy as np\n",
    "import collections\n",
    "import math\n",
    "import shutil\n"
   ]
  },
  {
   "cell_type": "code",
   "execution_count": 104,
   "metadata": {
    "collapsed": false
   },
   "outputs": [],
   "source": [
    "def convertSPPMonthlyDA(fname):\n",
    "    #fname = \"data/DA-LMP-MONTHLY-SL-201608.csv\"\n",
    "    col_names = ['Date', 'Settlement Location Name', 'PNODE Name', 'Price Type', 'HE01','HE02','HE03','HE04','HE05','HE06','HE07','HE08','HE09','HE10','HE11','HE12','HE13','HE14','HE15','HE16','HE17','HE18','HE19','HE20','HE21','HE22','HE23','HE24']\n",
    "    da_price = pd.read_csv(fname, header=0, names=col_names)\n",
    "    df = pd.DataFrame(da_price)\n",
    "    date_split = df['Date'].str.split('/').str\n",
    "    market_days = collections.OrderedDict()\n",
    "\n",
    "    pdx = 0\n",
    "    for index, row in df.iterrows():\n",
    "        nodes = collections.OrderedDict()\n",
    "        hours = collections.OrderedDict()   \n",
    "\n",
    "        if not market_days.has_key(row['Date'].replace(\"/\",\"\")):\n",
    "            market_days[row['Date'].replace(\"/\",\"\")] = {}\n",
    "        nodes = market_days.get(row['Date'].replace(\"/\",\"\"))\n",
    "\n",
    "        if not nodes.has_key(row['Settlement Location Name']):\n",
    "            nodes[row['Settlement Location Name']] = {}\n",
    "        hours = nodes.get(row['Settlement Location Name'])\n",
    "\n",
    "        for index in range(4,len(row)):\n",
    "            index = index - 4\n",
    "            #LMP, MCC, MLC\n",
    "            prices = [0,0,0]\n",
    "            if index<9:\n",
    "                hourstring = 'HE0'+str(index+1)\n",
    "            else:\n",
    "                hourstring = 'HE'+str(index+1)\n",
    "\n",
    "            if not hours.has_key(str(hourstring)):\n",
    "                hours[hourstring] = prices\n",
    "            prices = market_days[row['Date'].replace(\"/\",\"\")][row['Settlement Location Name']][hourstring]\n",
    "\n",
    "            if row['Price Type'] == 'LMP':\n",
    "                market_days[row['Date'].replace(\"/\",\"\")][row['Settlement Location Name']][hourstring][0] = row[hourstring]\n",
    "            elif row['Price Type'] == 'MCC':\n",
    "                market_days[row['Date'].replace(\"/\",\"\")][row['Settlement Location Name']][hourstring][1] = row[hourstring]\n",
    "            elif row['Price Type'] == 'MLC':\n",
    "                market_days[row['Date'].replace(\"/\",\"\")][row['Settlement Location Name']][hourstring][2] = row[hourstring]\n",
    "    with open('sppdamarket.csv', 'a') as out:\n",
    "        #out.write('day,node,hour,lmp,mcc,mlc\\n') #header\n",
    "        for day in market_days.keys():\n",
    "            for gen in market_days[day].keys():\n",
    "                for hour in market_days[day][gen].keys():\n",
    "                    if not math.isnan(market_days[day][gen][hour][0]):\n",
    "                        out.write(day + \",\" + gen + \",\" + hour + \",\" + \n",
    "                                  str(market_days[day][gen][hour][0]) + \",\" + \n",
    "                                  str(market_days[day][gen][hour][1]) + \",\" + \n",
    "                                  str(market_days[day][gen][hour][2]) + \"\\n\")\n",
    "\n",
    "    with open('sppdamec.csv', 'a') as out:\n",
    "        #out.write('day,hour,mec\\n') #header\n",
    "        for day in market_days.keys():\n",
    "            for hour in next(market_days[day].itervalues()).keys():\n",
    "                if not math.isnan(next(market_days[day].itervalues())[hour][0]):\n",
    "                    out.write(day + \",\" + hour + \",\" + \n",
    "                        str(next(market_days[day].itervalues())[hour][0] - next(market_days[day].itervalues())[hour][1] - next(market_days[day].itervalues())[hour][2]) + \"\\n\")\n"
   ]
  },
  {
   "cell_type": "code",
   "execution_count": 106,
   "metadata": {
    "collapsed": false
   },
   "outputs": [],
   "source": [
    "convertSPPMonthlyDA(\"data/DA-LMP-MONTHLY-SL-201608.csv\")\n",
    "convertSPPMonthlyDA(\"data/DA-LMP-MONTHLY-SL-201609.csv\")\n",
    "convertSPPMonthlyDA(\"data/DA-LMP-MONTHLY-SL-201610.csv\")\n",
    "convertSPPMonthlyDA(\"data/DA-LMP-MONTHLY-SL-201611.csv\")\n",
    "convertSPPMonthlyDA(\"data/DA-LMP-MONTHLY-SL-201612.csv\")\n",
    "convertSPPMonthlyDA(\"data/DA-LMP-MONTHLY-SL-201701.csv\")\n",
    "convertSPPMonthlyDA(\"data/DA-LMP-MONTHLY-SL-201702.csv\")"
   ]
  },
  {
   "cell_type": "code",
   "execution_count": 5,
   "metadata": {
    "collapsed": true
   },
   "outputs": [],
   "source": [
    "%projects set drwgry-proj"
   ]
  },
  {
   "cell_type": "code",
   "execution_count": 8,
   "metadata": {
    "collapsed": false
   },
   "outputs": [
    {
     "data": {
      "text/html": [
       "\n",
       "    <div class=\"bqsv\" id=\"1_148937666256\"></div>\n",
       "    <script>\n",
       "      require.config({\n",
       "        map: {\n",
       "          '*': {\n",
       "            datalab: 'nbextensions/gcpdatalab'\n",
       "          }\n",
       "        },\n",
       "      });\n",
       "\n",
       "      require(['datalab/bigquery', 'datalab/element!1_148937666256',\n",
       "          'datalab/style!/nbextensions/gcpdatalab/bigquery.css'],\n",
       "        function(bq, dom) {\n",
       "          bq.renderSchema(dom, [{\"type\": \"STRING\", \"name\": \"Date\", \"mode\": \"REQUIRED\"}, {\"type\": \"STRING\", \"name\": \"SL\", \"mode\": \"REQUIRED\"}, {\"type\": \"STRING\", \"name\": \"PN\", \"mode\": \"REQUIRED\"}, {\"type\": \"STRING\", \"name\": \"Type\", \"mode\": \"REQUIRED\"}, {\"type\": \"FLOAT\", \"name\": \"h01\", \"mode\": \"NULLABLE\"}, {\"type\": \"FLOAT\", \"name\": \"h02\", \"mode\": \"NULLABLE\"}, {\"type\": \"FLOAT\", \"name\": \"h03\", \"mode\": \"NULLABLE\"}, {\"type\": \"FLOAT\", \"name\": \"h04\", \"mode\": \"NULLABLE\"}, {\"type\": \"FLOAT\", \"name\": \"h05\", \"mode\": \"NULLABLE\"}, {\"type\": \"FLOAT\", \"name\": \"h06\", \"mode\": \"NULLABLE\"}, {\"type\": \"FLOAT\", \"name\": \"h07\", \"mode\": \"NULLABLE\"}, {\"type\": \"FLOAT\", \"name\": \"h08\", \"mode\": \"NULLABLE\"}, {\"type\": \"FLOAT\", \"name\": \"h09\", \"mode\": \"NULLABLE\"}, {\"type\": \"FLOAT\", \"name\": \"h10\", \"mode\": \"NULLABLE\"}, {\"type\": \"FLOAT\", \"name\": \"h11\", \"mode\": \"NULLABLE\"}, {\"type\": \"FLOAT\", \"name\": \"h12\", \"mode\": \"NULLABLE\"}, {\"type\": \"FLOAT\", \"name\": \"h13\", \"mode\": \"NULLABLE\"}, {\"type\": \"FLOAT\", \"name\": \"h14\", \"mode\": \"NULLABLE\"}, {\"type\": \"FLOAT\", \"name\": \"h15\", \"mode\": \"NULLABLE\"}, {\"type\": \"FLOAT\", \"name\": \"h16\", \"mode\": \"NULLABLE\"}, {\"type\": \"FLOAT\", \"name\": \"h17\", \"mode\": \"NULLABLE\"}, {\"type\": \"FLOAT\", \"name\": \"h18\", \"mode\": \"NULLABLE\"}, {\"type\": \"FLOAT\", \"name\": \"h19\", \"mode\": \"NULLABLE\"}, {\"type\": \"FLOAT\", \"name\": \"h20\", \"mode\": \"NULLABLE\"}, {\"type\": \"FLOAT\", \"name\": \"h21\", \"mode\": \"NULLABLE\"}, {\"type\": \"FLOAT\", \"name\": \"h22\", \"mode\": \"NULLABLE\"}, {\"type\": \"FLOAT\", \"name\": \"h23\", \"mode\": \"NULLABLE\"}, {\"type\": \"FLOAT\", \"name\": \"h24\", \"mode\": \"NULLABLE\"}]);\n",
       "        }\n",
       "      );\n",
       "    </script>\n",
       "    "
      ],
      "text/plain": [
       "<IPython.core.display.HTML object>"
      ]
     },
     "execution_count": 8,
     "metadata": {},
     "output_type": "execute_result"
    }
   ],
   "source": [
    "%bigquery schema --table \"sppda_2016_8.t1\""
   ]
  },
  {
   "cell_type": "code",
   "execution_count": 10,
   "metadata": {
    "collapsed": false
   },
   "outputs": [
    {
     "data": {
      "text/html": [
       "\n",
       "    <div class=\"bqtv\" id=\"3_148937675427\"><table><tr><th>daynumber</th></tr><tr><td>08/01/2016</td></tr><tr><td>08/01/2016</td></tr><tr><td>08/01/2016</td></tr><tr><td>08/01/2016</td></tr><tr><td>08/01/2016</td></tr><tr><td>08/01/2016</td></tr><tr><td>08/01/2016</td></tr><tr><td>08/01/2016</td></tr><tr><td>08/01/2016</td></tr><tr><td>08/01/2016</td></tr></table></div>\n",
       "    <br />(rows: 10, time: 0.5s,     1MB processed, job: job_maoFNNmTosZEAlBD7D9bBVq8vhI)<br />\n",
       "    <script>\n",
       "\n",
       "      require.config({\n",
       "        paths: {\n",
       "          d3: '//cdnjs.cloudflare.com/ajax/libs/d3/3.4.13/d3',\n",
       "          plotly: 'https://cdn.plot.ly/plotly-1.5.1.min.js?noext',\n",
       "          jquery: '//ajax.googleapis.com/ajax/libs/jquery/2.0.0/jquery.min'\n",
       "        },\n",
       "        map: {\n",
       "          '*': {\n",
       "            datalab: 'nbextensions/gcpdatalab'\n",
       "          }\n",
       "        },\n",
       "        shim: {\n",
       "          plotly: {\n",
       "            deps: ['d3', 'jquery'],\n",
       "            exports: 'plotly'\n",
       "          }\n",
       "        }\n",
       "      });\n",
       "\n",
       "      require(['datalab/charting', 'datalab/element!3_148937675427', 'base/js/events',\n",
       "          'datalab/style!/nbextensions/gcpdatalab/charting.css'],\n",
       "        function(charts, dom, events) {\n",
       "          charts.render('gcharts', dom, events, 'table', [], {\"rows\": [{\"c\": [{\"v\": \"08/01/2016\"}]}, {\"c\": [{\"v\": \"08/01/2016\"}]}, {\"c\": [{\"v\": \"08/01/2016\"}]}, {\"c\": [{\"v\": \"08/01/2016\"}]}, {\"c\": [{\"v\": \"08/01/2016\"}]}, {\"c\": [{\"v\": \"08/01/2016\"}]}, {\"c\": [{\"v\": \"08/01/2016\"}]}, {\"c\": [{\"v\": \"08/01/2016\"}]}, {\"c\": [{\"v\": \"08/01/2016\"}]}, {\"c\": [{\"v\": \"08/01/2016\"}]}], \"cols\": [{\"type\": \"string\", \"id\": \"daynumber\", \"label\": \"daynumber\"}]},\n",
       "            {\n",
       "              pageSize: 25,\n",
       "              cssClassNames:  {\n",
       "                tableRow: 'gchart-table-row',\n",
       "                headerRow: 'gchart-table-headerrow',\n",
       "                oddTableRow: 'gchart-table-oddrow',\n",
       "                selectedTableRow: 'gchart-table-selectedrow',\n",
       "                hoverTableRow: 'gchart-table-hoverrow',\n",
       "                tableCell: 'gchart-table-cell',\n",
       "                headerCell: 'gchart-table-headercell',\n",
       "                rowNumberCell: 'gchart-table-rownumcell'\n",
       "              }\n",
       "            },\n",
       "            {source_index: 1, fields: 'daynumber'},\n",
       "            0,\n",
       "            10);\n",
       "        }\n",
       "      );\n",
       "    </script>\n",
       "  "
      ],
      "text/plain": [
       "QueryResultsTable job_maoFNNmTosZEAlBD7D9bBVq8vhI"
      ]
     },
     "execution_count": 10,
     "metadata": {},
     "output_type": "execute_result"
    }
   ],
   "source": [
    "%sql\n",
    "SELECT Date AS daynumber FROM [sppda_2016_8.t1] LIMIT 10"
   ]
  }
 ],
 "metadata": {
  "kernelspec": {
   "display_name": "Python 2",
   "language": "python",
   "name": "python2"
  },
  "language_info": {
   "codemirror_mode": {
    "name": "ipython",
    "version": 2
   },
   "file_extension": ".py",
   "mimetype": "text/x-python",
   "name": "python",
   "nbconvert_exporter": "python",
   "pygments_lexer": "ipython2",
   "version": "2.7.9"
  }
 },
 "nbformat": 4,
 "nbformat_minor": 2
}
