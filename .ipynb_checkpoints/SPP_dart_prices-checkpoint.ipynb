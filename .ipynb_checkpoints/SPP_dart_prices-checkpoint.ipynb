{
 "cells": [
  {
   "cell_type": "code",
   "execution_count": null,
   "metadata": {
    "collapsed": true
   },
   "outputs": [],
   "source": [
    "import time\n",
    "import datetime as dt\n",
    "import warnings\n",
    "import numpy as np\n",
    "import pandas as pd\n",
    "from numpy import newaxis\n",
    "#from keras.layers.core import Dense, Activation, Dropout\n",
    "#from keras.layers.recurrent import LSTM\n",
    "#from keras.models import Sequential\n",
    "import matplotlib.pyplot as plt\n",
    "import matplotlib.ticker as ticker\n",
    "\n",
    "import datalab.bigquery as bq\n",
    "import pandas as pd\n",
    "import numpy as np\n",
    "import collections\n",
    "import math\n",
    "import shutil\n"
   ]
  },
  {
   "cell_type": "code",
   "execution_count": null,
   "metadata": {
    "collapsed": true
   },
   "outputs": [],
   "source": [
    "fname = \"sppdamec.csv\"\n",
    "coln = ['Date','Hour','mec']\n",
    "mec = pd.read_csv(fname, names=coln)\n",
    "#read_csv index_col=0, skiprows=1\n",
    "#\n",
    "mdf = pd.DataFrame(mec)\n",
    "mdf['Hour'] = mdf['Hour'].str.lstrip('HE')\n",
    "mdf = mdf.sort_values(['Date', 'Hour'], ascending=[1, 1])\n",
    "print(mdf.head())"
   ]
  },
  {
   "cell_type": "code",
   "execution_count": null,
   "metadata": {
    "collapsed": true
   },
   "outputs": [],
   "source": [
    "fname = \"spprtmec.csv\"\n",
    "coln = ['Date','Hour','mec']\n",
    "mec = pd.read_csv(fname, names=coln)\n",
    "rdf = pd.DataFrame(mec)\n",
    "rdf['Hour'] = rdf['Hour'].str.lstrip('HE')\n",
    "rdf = rdf.sort_values(['Date', 'Hour'], ascending=[1, 1])\n",
    "#for below need to set indexes first and also name columns based on mkt type too\n",
    "#pd.merge(mdf,rdf, how='outer', left_index=True, right_index=True)\n",
    "#can use column instead of index too, left_on=col right_on=[col1,col2] ...\n",
    "mdf['rtmec'] = rdf['mec']\n",
    "mdf['diffmec'] = mdf['mec']-mdf['rtmec']\n",
    "mdf.tail()"
   ]
  }
 ],
 "metadata": {
  "kernelspec": {
   "display_name": "Python 2",
   "language": "python",
   "name": "python2"
  },
  "language_info": {
   "codemirror_mode": {
    "name": "ipython",
    "version": 2
   },
   "file_extension": ".py",
   "mimetype": "text/x-python",
   "name": "python",
   "nbconvert_exporter": "python",
   "pygments_lexer": "ipython2",
   "version": "2.7.9"
  }
 },
 "nbformat": 4,
 "nbformat_minor": 2
}
