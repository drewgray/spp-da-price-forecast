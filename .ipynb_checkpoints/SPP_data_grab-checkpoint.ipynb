{
 "cells": [
  {
   "cell_type": "code",
   "execution_count": 11,
   "metadata": {
    "collapsed": false
   },
   "outputs": [],
   "source": [
    "import ftplib\n",
    "import os\n",
    "\n"
   ]
  },
  {
   "cell_type": "code",
   "execution_count": 13,
   "metadata": {
    "collapsed": false
   },
   "outputs": [],
   "source": [
    "def getData(path):\n",
    "  ftp = ftplib.FTP('pubftp.spp.org')\n",
    "  ftp.login()\n",
    "  ftp.cwd('Operational_Data')\n",
    "  ftp.cwd('DAWF')\n",
    "  ftp.cwd('2017')\n",
    "  ftp.retrlines('LIST')  \n",
    "  filenames = ftp.nlst()\n",
    "\n",
    "  for filename in filenames:\n",
    "      host_file = os.path.join(path, filename)\n",
    "      print(host_file)\n",
    "      if os.path.isdir(host_file):\n",
    "          if not os.path.exists(os.path.dirname(host_file)):\n",
    "              try:\n",
    "                  os.makedirs(os.path.dirname(host_file))\n",
    "              except OSError as exc: # Guard against race condition\n",
    "                  if exc.errno != errno.EEXIST:\n",
    "                      raise\n",
    "          getData(filename)\n",
    "      else:\n",
    "          print('amfile')\n",
    "          #try:\n",
    "          #    with open(host_file, 'wb') as local_file:\n",
    "          #        ftp.retrbinary('RETR ' + filename, local_file.write)\n",
    "          #except ftplib.error_perm:\n",
    "          #    pass\n",
    "\n",
    "  ftp.quit()"
   ]
  },
  {
   "cell_type": "code",
   "execution_count": 14,
   "metadata": {
    "collapsed": false
   },
   "outputs": [
    {
     "name": "stdout",
     "output_type": "stream",
     "text": [
      "dr-xr--r--   1 user     group           0 Jan 31 00:05 01\n",
      "dr-xr--r--   1 user     group           0 Feb 28 00:05 02\n",
      "dr-xr--r--   1 user     group           0 Mar 24 00:05 03\n",
      "/home/drew/dev/spp-da-price-forecast/data/DAWF/01\n",
      "amfile\n",
      "/home/drew/dev/spp-da-price-forecast/data/DAWF/02\n",
      "amfile\n",
      "/home/drew/dev/spp-da-price-forecast/data/DAWF/03\n",
      "amfile\n"
     ]
    }
   ],
   "source": [
    "getData('/home/drew/dev/spp-da-price-forecast/data/DAWF')"
   ]
  },
  {
   "cell_type": "code",
   "execution_count": null,
   "metadata": {
    "collapsed": true
   },
   "outputs": [],
   "source": []
  }
 ],
 "metadata": {
  "kernelspec": {
   "display_name": "Python 2",
   "language": "python",
   "name": "python2"
  },
  "language_info": {
   "codemirror_mode": {
    "name": "ipython",
    "version": 2
   },
   "file_extension": ".py",
   "mimetype": "text/x-python",
   "name": "python",
   "nbconvert_exporter": "python",
   "pygments_lexer": "ipython2",
   "version": "2.7.9"
  }
 },
 "nbformat": 4,
 "nbformat_minor": 2
}
