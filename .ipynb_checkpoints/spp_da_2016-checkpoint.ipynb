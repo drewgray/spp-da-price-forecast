{
 "cells": [
  {
   "cell_type": "code",
   "execution_count": 26,
   "metadata": {
    "collapsed": false
   },
   "outputs": [],
   "source": [
    "import time\n",
    "import datetime as dt\n",
    "import warnings\n",
    "import numpy as np\n",
    "import pandas as pd\n",
    "from numpy import newaxis\n",
    "#from keras.layers.core import Dense, Activation, Dropout\n",
    "#from keras.layers.recurrent import LSTM\n",
    "#from keras.models import Sequential\n",
    "import matplotlib.pyplot as plt\n",
    "import matplotlib.ticker as ticker\n",
    "\n",
    "import datalab.bigquery as bq\n",
    "import pandas as pd\n",
    "import numpy as np\n",
    "import collections\n",
    "import math\n",
    "import shutil\n"
   ]
  },
  {
   "cell_type": "code",
   "execution_count": 67,
   "metadata": {
    "collapsed": false
   },
   "outputs": [],
   "source": [
    "def convertSPPMonthlyDA(fname, mkt):\n",
    "    #fname = \"data/DA-LMP-MONTHLY-SL-201608.csv\"\n",
    "    col_names = ['Date', 'Settlement Location Name', 'PNODE Name', 'Price Type', 'HE01','HE02','HE03','HE04','HE05','HE06','HE07','HE08','HE09','HE10','HE11','HE12','HE13','HE14','HE15','HE16','HE17','HE18','HE19','HE20','HE21','HE22','HE23','HE24']\n",
    "    da_price = pd.read_csv(fname, header=0, names=col_names)\n",
    "    df = pd.DataFrame(da_price)\n",
    "    date_split = df['Date'].str.split('/').str\n",
    "    market_days = collections.OrderedDict()\n",
    "\n",
    "    for index, row in df.iterrows():\n",
    "        nodes = collections.OrderedDict()\n",
    "        hours = collections.OrderedDict()   \n",
    "\n",
    "        if not market_days.has_key(row['Date'].replace(\"/\",\"\")):\n",
    "            market_days[row['Date'].replace(\"/\",\"\")] = {}\n",
    "        nodes = market_days.get(row['Date'].replace(\"/\",\"\"))\n",
    "\n",
    "        if not nodes.has_key(row['Settlement Location Name']):\n",
    "            nodes[row['Settlement Location Name']] = {}\n",
    "        hours = nodes.get(row['Settlement Location Name'])\n",
    "\n",
    "        for index in range(4,len(row)):\n",
    "            index = index - 4\n",
    "            #LMP, MCC, MLC\n",
    "            prices = [0,0,0]\n",
    "            if index<9:\n",
    "                hourstring = 'HE0'+str(index+1)\n",
    "            else:\n",
    "                hourstring = 'HE'+str(index+1)\n",
    "\n",
    "            if not hours.has_key(str(hourstring)):\n",
    "                hours[hourstring] = prices\n",
    "            prices = market_days[row['Date'].replace(\"/\",\"\")][row['Settlement Location Name']][hourstring]\n",
    "\n",
    "            if row['Price Type'] == 'LMP':\n",
    "                market_days[row['Date'].replace(\"/\",\"\")][row['Settlement Location Name']][hourstring][0] = row[hourstring]\n",
    "            elif row['Price Type'] == 'MCC':\n",
    "                market_days[row['Date'].replace(\"/\",\"\")][row['Settlement Location Name']][hourstring][1] = row[hourstring]\n",
    "            elif row['Price Type'] == 'MLC':\n",
    "                market_days[row['Date'].replace(\"/\",\"\")][row['Settlement Location Name']][hourstring][2] = row[hourstring]\n",
    "    with open('spp%smarket.csv' % mkt, 'a') as out:\n",
    "        #out.write('day,node,hour,lmp,mcc,mlc\\n') #header\n",
    "        for day in market_days.keys():\n",
    "            for gen in market_days[day].keys():\n",
    "                for hour in market_days[day][gen].keys():\n",
    "                    if not math.isnan(market_days[day][gen][hour][0]):\n",
    "                        out.write(day + \",\" + gen + \",\" + hour + \",\" + \n",
    "                                  str(market_days[day][gen][hour][0]) + \",\" + \n",
    "                                  str(market_days[day][gen][hour][1]) + \",\" + \n",
    "                                  str(market_days[day][gen][hour][2]) + \"\\n\")\n",
    "\n",
    "    with open('spp%smec.csv' % mkt, 'a') as out:\n",
    "        #out.write('day,hour,mec\\n') #header\n",
    "        for day in market_days.keys():\n",
    "            for hour in next(market_days[day].itervalues()).keys():\n",
    "                if not math.isnan(next(market_days[day].itervalues())[hour][0]):\n",
    "                    out.write(day + \",\" + hour + \",\" + \n",
    "                        str(next(market_days[day].itervalues())[hour][0] - next(market_days[day].itervalues())[hour][1] - next(market_days[day].itervalues())[hour][2]) + \"\\n\")\n"
   ]
  },
  {
   "cell_type": "code",
   "execution_count": 106,
   "metadata": {
    "collapsed": false
   },
   "outputs": [],
   "source": [
    "convertSPPMonthlyDA(\"data/DA-LMP-MONTHLY-SL-201608.csv\",'da')\n",
    "convertSPPMonthlyDA(\"data/DA-LMP-MONTHLY-SL-201609.csv\",'da')\n",
    "convertSPPMonthlyDA(\"data/DA-LMP-MONTHLY-SL-201610.csv\",'da')\n",
    "convertSPPMonthlyDA(\"data/DA-LMP-MONTHLY-SL-201611.csv\",'da')\n",
    "convertSPPMonthlyDA(\"data/DA-LMP-MONTHLY-SL-201612.csv\",'da')\n",
    "convertSPPMonthlyDA(\"data/DA-LMP-MONTHLY-SL-201701.csv\",'da')\n",
    "convertSPPMonthlyDA(\"data/DA-LMP-MONTHLY-SL-201702.csv\",'da')"
   ]
  },
  {
   "cell_type": "code",
   "execution_count": 68,
   "metadata": {
    "collapsed": false
   },
   "outputs": [
    {
     "ename": "NameError",
     "evalue": "name 'rt' is not defined",
     "output_type": "error",
     "traceback": [
      "\u001b[0;31m\u001b[0m",
      "\u001b[0;31mNameError\u001b[0mTraceback (most recent call last)",
      "\u001b[0;32m<ipython-input-68-d4516fa61a21>\u001b[0m in \u001b[0;36m<module>\u001b[0;34m()\u001b[0m\n\u001b[0;32m----> 1\u001b[0;31m \u001b[0mconvertSPPMonthlyDA\u001b[0m\u001b[0;34m(\u001b[0m\u001b[0;34m\"data/RTBM-LMP-MONTHLY-SL-201607.csv\"\u001b[0m\u001b[0;34m,\u001b[0m\u001b[0mrt\u001b[0m\u001b[0;34m)\u001b[0m\u001b[0;34m\u001b[0m\u001b[0m\n\u001b[0m\u001b[1;32m      2\u001b[0m \u001b[0mconvertSPPMonthlyDA\u001b[0m\u001b[0;34m(\u001b[0m\u001b[0;34m\"data/RTBM-LMP-MONTHLY-SL-201608.csv\"\u001b[0m\u001b[0;34m,\u001b[0m\u001b[0mrt\u001b[0m\u001b[0;34m)\u001b[0m\u001b[0;34m\u001b[0m\u001b[0m\n\u001b[1;32m      3\u001b[0m \u001b[0mconvertSPPMonthlyDA\u001b[0m\u001b[0;34m(\u001b[0m\u001b[0;34m\"data/RTBM-LMP-MONTHLY-SL-201609.csv\"\u001b[0m\u001b[0;34m,\u001b[0m\u001b[0mrt\u001b[0m\u001b[0;34m)\u001b[0m\u001b[0;34m\u001b[0m\u001b[0m\n\u001b[1;32m      4\u001b[0m \u001b[0mconvertSPPMonthlyDA\u001b[0m\u001b[0;34m(\u001b[0m\u001b[0;34m\"data/RTBM-LMP-MONTHLY-SL-201611.csv\"\u001b[0m\u001b[0;34m,\u001b[0m\u001b[0mrt\u001b[0m\u001b[0;34m)\u001b[0m\u001b[0;34m\u001b[0m\u001b[0m\n\u001b[1;32m      5\u001b[0m \u001b[0mconvertSPPMonthlyDA\u001b[0m\u001b[0;34m(\u001b[0m\u001b[0;34m\"data/RTBM-LMP-MONTHLY-SL-201612.csv\"\u001b[0m\u001b[0;34m,\u001b[0m\u001b[0mrt\u001b[0m\u001b[0;34m)\u001b[0m\u001b[0;34m\u001b[0m\u001b[0m\n",
      "\u001b[0;31mNameError\u001b[0m: name 'rt' is not defined"
     ]
    }
   ],
   "source": [
    "convertSPPMonthlyDA(\"data/RTBM-LMP-MONTHLY-SL-201607.csv\",'rt')\n",
    "convertSPPMonthlyDA(\"data/RTBM-LMP-MONTHLY-SL-201608.csv\",'rt')\n",
    "convertSPPMonthlyDA(\"data/RTBM-LMP-MONTHLY-SL-201609.csv\",'rt')\n",
    "convertSPPMonthlyDA(\"data/RTBM-LMP-MONTHLY-SL-201610.csv\",'rt')\n",
    "convertSPPMonthlyDA(\"data/RTBM-LMP-MONTHLY-SL-201611.csv\",'rt')\n",
    "convertSPPMonthlyDA(\"data/RTBM-LMP-MONTHLY-SL-201612.csv\",'rt')\n",
    "convertSPPMonthlyDA(\"data/RTBM-LMP-MONTHLY-SL-201701.csv\",'rt')\n",
    "convertSPPMonthlyDA(\"data/RTBM-LMP-MONTHLY-SL-201702.csv\",'rt')"
   ]
  },
  {
   "cell_type": "code",
   "execution_count": 4,
   "metadata": {
    "collapsed": false
   },
   "outputs": [
    {
     "name": "stdout",
     "output_type": "stream",
     "text": [
      "      Date Hour      mec\n",
      "0  8012016   01  28.9543\n",
      "2  8012016   02  28.1353\n",
      "1  8012016   03  23.0198\n",
      "4  8012016   04  20.2738\n",
      "3  8012016   05  19.6931\n"
     ]
    }
   ],
   "source": [
    "fname = \"sppdamec.csv\"\n",
    "coln = ['Date','Hour','mec']\n",
    "mec = pd.read_csv(fname, names=coln)\n",
    "mdf = pd.DataFrame(mec)\n",
    "mdf['Hour'] = mdf['Hour'].str.lstrip('HE')\n",
    "mdf = mdf.sort_values(['Date', 'Hour'], ascending=[1, 1])\n",
    "print(mdf.head())"
   ]
  },
  {
   "cell_type": "code",
   "execution_count": 5,
   "metadata": {
    "collapsed": false
   },
   "outputs": [
    {
     "data": {
      "image/png": "[encoded data removed]",
      "text/plain": [
       "<matplotlib.figure.Figure at 0x7f33a6193210>"
      ]
     },
     "metadata": {},
     "output_type": "display_data"
    }
   ],
   "source": [
    "xl, yl = mdf.shape\n",
    "x = range(xl)\n",
    "fig, ax = plt.subplots()\n",
    "ax.plot(x,mdf['mec'],color='red', label='MEC')\n",
    "#plt.plot(y_test2,color='blue', label='y_test')\n",
    "plt.legend(loc='upper left')\n",
    "plt.xlabel('time', fontsize=18)\n",
    "plt.ylabel('$', fontsize=16)\n",
    "plt.xticks(x,mdf['Date'].astype(str)+\"_\"+mdf['Hour'].astype(str))\n",
    "#loc = ticker.MultipleLocator(base=1000.0) \n",
    "#ax.xaxis.set_major_locator(loc)\n",
    "plt.show()"
   ]
  },
  {
   "cell_type": "code",
   "execution_count": 33,
   "metadata": {
    "collapsed": false
   },
   "outputs": [
    {
     "name": "stdout",
     "output_type": "stream",
     "text": [
      "24.7831576168\n",
      "23.1486\n",
      "9.16864330618\n",
      "2.7857\n",
      "131.8989\n",
      "[('01', 30.943974647887323), ('02', 27.469023004694826), ('03', 24.399170422535196), ('04', 21.352051643192507), ('05', 19.005552112676053), ('06', 17.532017370892017), ('07', 17.785279245283018), ('08', 17.376483962264146), ('09', 17.20840849056603), ('10', 17.333396698113205), ('11', 18.37640518867925), ('12', 21.40532405660377), ('13', 25.633180188679255), ('14', 26.7895466981132), ('15', 27.260205660377352), ('16', 28.67567358490566), ('17', 28.910110849056586), ('18', 29.049609433962274), ('19', 29.1025603773585), ('20', 28.921006132075476), ('21', 29.43409575471699), ('22', 29.626507547169812), ('23', 29.128808962264113), ('24', 32.11511320754715)]\n"
     ]
    }
   ],
   "source": [
    "print(mdf['mec'].mean())\n",
    "print(mdf['mec'].median())\n",
    "print(mdf['mec'].std())\n",
    "print(mdf['mec'].min())\n",
    "print(mdf['mec'].max())\n",
    "\n",
    "hours = set(r for r in mdf['Hour'])\n",
    "\n",
    "houravgmec = []\n",
    "\n",
    "for h in hours:\n",
    "  hourmecsum = 0\n",
    "  hourcount = 0\n",
    "  for index, row in mdf.iterrows():\n",
    "    if row['Hour'] == h:\n",
    "      hourmecsum += float(row['mec'])\n",
    "      hourcount += 1\n",
    "  houravgmec.append((h, hourmecsum/hourcount))\n",
    "  \n",
    "houravgmec.sort(key=lambda x: x[0])\n",
    "print(houravgmec)"
   ]
  },
  {
   "cell_type": "code",
   "execution_count": 41,
   "metadata": {
    "collapsed": false
   },
   "outputs": [
    {
     "data": {
      "text/plain": [
       "('01',           Date Hour      mec\n",
       " 0      8012016   01  28.9543\n",
       " 24     8022016   01  34.8423\n",
       " 48     8032016   01  38.0185\n",
       " 72     8042016   01  34.5559\n",
       " 96     8052016   01  34.7899\n",
       " 120    8062016   01  32.2743\n",
       " 144    8072016   01  28.4175\n",
       " 168    8082016   01  28.8132\n",
       " 192    8092016   01  32.9092\n",
       " 216    8102016   01  32.2599\n",
       " 240    8112016   01  31.4217\n",
       " 264    8122016   01  36.0237\n",
       " 288    8132016   01  30.7934\n",
       " 312    8142016   01  28.9782\n",
       " 336    8152016   01  29.2425\n",
       " 360    8162016   01  29.5024\n",
       " 384    8172016   01  31.1757\n",
       " 408    8182016   01  30.1232\n",
       " 432    8192016   01  27.8043\n",
       " 456    8202016   01  25.9309\n",
       " 480    8212016   01  25.5881\n",
       " 504    8222016   01  22.1231\n",
       " 528    8232016   01  22.7674\n",
       " 552    8242016   01  22.4458\n",
       " 576    8252016   01  28.2576\n",
       " 600    8262016   01  30.3893\n",
       " 624    8272016   01  26.8807\n",
       " 648    8282016   01  29.2066\n",
       " 672    8292016   01  31.3712\n",
       " 696    8302016   01  34.1362\n",
       " ...        ...  ...      ...\n",
       " 4392  20170131   01  27.3839\n",
       " 4416  20170201   01  26.1300\n",
       " 4440  20170202   01  29.3742\n",
       " 4464  20170203   01  35.4781\n",
       " 4488  20170204   01  28.3211\n",
       " 4512  20170205   01  30.6402\n",
       " 4536  20170206   01  31.8320\n",
       " 4560  20170207   01  25.9542\n",
       " 4584  20170208   01  31.6943\n",
       " 4608  20170209   01  35.5444\n",
       " 4632  20170210   01  20.9542\n",
       " 4656  20170211   01  19.7447\n",
       " 4680  20170212   01  19.9452\n",
       " 4704  20170213   01  31.5973\n",
       " 4728  20170214   01  31.9749\n",
       " 4752  20170215   01  24.3721\n",
       " 4776  20170216   01  32.8034\n",
       " 4800  20170217   01  20.0656\n",
       " 4824  20170218   01  21.9109\n",
       " 4848  20170219   01  21.9885\n",
       " 4872  20170220   01  15.7304\n",
       " 4896  20170221   01  32.5731\n",
       " 4920  20170222   01  28.3373\n",
       " 4944  20170223   01  28.9811\n",
       " 4968  20170224   01  17.8956\n",
       " 4992  20170225   01  21.0191\n",
       " 5016  20170226   01  22.9518\n",
       " 5040  20170227   01  30.7096\n",
       " 5064  20170228   01  21.8762\n",
       " 5088  20170301   01  20.8633\n",
       " \n",
       " [213 rows x 3 columns])"
      ]
     },
     "execution_count": 41,
     "metadata": {},
     "output_type": "execute_result"
    }
   ],
   "source": [
    "hourmec = []\n",
    "for h in hours:\n",
    "  hm = mdf.loc[mdf['Hour'] == h]\n",
    "  hourmec.append((h, hm))\n",
    "hourmec.sort(key=lambda x: x[0])\n",
    "hourmec[0]"
   ]
  },
  {
   "cell_type": "code",
   "execution_count": 66,
   "metadata": {
    "collapsed": false
   },
   "outputs": [
    {
     "data": {
      "image/png": "[encoded data removed]",
      "text/plain": [
       "<matplotlib.figure.Figure at 0x7f3398bb36d0>"
      ]
     },
     "metadata": {},
     "output_type": "display_data"
    }
   ],
   "source": [
    "price = [x[1] for x in houravgmec]\n",
    "maxprice = [x[1]['mec'].max() for x in hourmec]\n",
    "minprice = [x[1]['mec'].min() for x in hourmec]\n",
    "stdprice = [x[1]['mec'].std() for x in hourmec]\n",
    "medianprice = [x[1]['mec'].median() for x in hourmec]\n",
    "\n",
    "t = np.arange(0,len(price),1)\n",
    "plt.plot(t,price,color='green', label='Avg MEC')\n",
    "plt.plot(t,maxprice,color='red', label='Max MEC')\n",
    "plt.plot(t,minprice,color='blue', label='Min MEC')\n",
    "plt.errorbar(t,price,stdprice,0)\n",
    "plt.plot(t,medianprice,color='orange', label='Median MEC')\n",
    "#plt.plot(t,stdprice,color='yellow', label='err')\n",
    "\n",
    "plt.legend(loc='upper left')\n",
    "plt.xlabel('hour', fontsize=18)\n",
    "plt.ylabel('MEC', fontsize=16)\n",
    "plt.show()"
   ]
  },
  {
   "cell_type": "code",
   "execution_count": 31,
   "metadata": {
    "collapsed": false
   },
   "outputs": [
    {
     "data": {
      "text/plain": [
       "datetime.datetime(2017, 3, 11, 17, 52, 40, 89202)"
      ]
     },
     "execution_count": 31,
     "metadata": {},
     "output_type": "execute_result"
    }
   ],
   "source": [
    "t = time.time()\n",
    "dtnow = dt.datetime.fromtimestamp(t)\n",
    "delta = dt.timedelta(days = 10)\n",
    "nd = dtnow - delta\n",
    "nd"
   ]
  },
  {
   "cell_type": "code",
   "execution_count": 5,
   "metadata": {
    "collapsed": true
   },
   "outputs": [],
   "source": [
    "%projects set drwgry-proj"
   ]
  },
  {
   "cell_type": "code",
   "execution_count": 8,
   "metadata": {
    "collapsed": false
   },
   "outputs": [
    {
     "data": {
      "text/html": [
       "\n",
       "    <div class=\"bqsv\" id=\"1_148937666256\"></div>\n",
       "    <script>\n",
       "      require.config({\n",
       "        map: {\n",
       "          '*': {\n",
       "            datalab: 'nbextensions/gcpdatalab'\n",
       "          }\n",
       "        },\n",
       "      });\n",
       "\n",
       "      require(['datalab/bigquery', 'datalab/element!1_148937666256',\n",
       "          'datalab/style!/nbextensions/gcpdatalab/bigquery.css'],\n",
       "        function(bq, dom) {\n",
       "          bq.renderSchema(dom, [{\"type\": \"STRING\", \"name\": \"Date\", \"mode\": \"REQUIRED\"}, {\"type\": \"STRING\", \"name\": \"SL\", \"mode\": \"REQUIRED\"}, {\"type\": \"STRING\", \"name\": \"PN\", \"mode\": \"REQUIRED\"}, {\"type\": \"STRING\", \"name\": \"Type\", \"mode\": \"REQUIRED\"}, {\"type\": \"FLOAT\", \"name\": \"h01\", \"mode\": \"NULLABLE\"}, {\"type\": \"FLOAT\", \"name\": \"h02\", \"mode\": \"NULLABLE\"}, {\"type\": \"FLOAT\", \"name\": \"h03\", \"mode\": \"NULLABLE\"}, {\"type\": \"FLOAT\", \"name\": \"h04\", \"mode\": \"NULLABLE\"}, {\"type\": \"FLOAT\", \"name\": \"h05\", \"mode\": \"NULLABLE\"}, {\"type\": \"FLOAT\", \"name\": \"h06\", \"mode\": \"NULLABLE\"}, {\"type\": \"FLOAT\", \"name\": \"h07\", \"mode\": \"NULLABLE\"}, {\"type\": \"FLOAT\", \"name\": \"h08\", \"mode\": \"NULLABLE\"}, {\"type\": \"FLOAT\", \"name\": \"h09\", \"mode\": \"NULLABLE\"}, {\"type\": \"FLOAT\", \"name\": \"h10\", \"mode\": \"NULLABLE\"}, {\"type\": \"FLOAT\", \"name\": \"h11\", \"mode\": \"NULLABLE\"}, {\"type\": \"FLOAT\", \"name\": \"h12\", \"mode\": \"NULLABLE\"}, {\"type\": \"FLOAT\", \"name\": \"h13\", \"mode\": \"NULLABLE\"}, {\"type\": \"FLOAT\", \"name\": \"h14\", \"mode\": \"NULLABLE\"}, {\"type\": \"FLOAT\", \"name\": \"h15\", \"mode\": \"NULLABLE\"}, {\"type\": \"FLOAT\", \"name\": \"h16\", \"mode\": \"NULLABLE\"}, {\"type\": \"FLOAT\", \"name\": \"h17\", \"mode\": \"NULLABLE\"}, {\"type\": \"FLOAT\", \"name\": \"h18\", \"mode\": \"NULLABLE\"}, {\"type\": \"FLOAT\", \"name\": \"h19\", \"mode\": \"NULLABLE\"}, {\"type\": \"FLOAT\", \"name\": \"h20\", \"mode\": \"NULLABLE\"}, {\"type\": \"FLOAT\", \"name\": \"h21\", \"mode\": \"NULLABLE\"}, {\"type\": \"FLOAT\", \"name\": \"h22\", \"mode\": \"NULLABLE\"}, {\"type\": \"FLOAT\", \"name\": \"h23\", \"mode\": \"NULLABLE\"}, {\"type\": \"FLOAT\", \"name\": \"h24\", \"mode\": \"NULLABLE\"}]);\n",
       "        }\n",
       "      );\n",
       "    </script>\n",
       "    "
      ],
      "text/plain": [
       "<IPython.core.display.HTML object>"
      ]
     },
     "execution_count": 8,
     "metadata": {},
     "output_type": "execute_result"
    }
   ],
   "source": [
    "%bigquery schema --table \"sppda_2016_8.t1\""
   ]
  },
  {
   "cell_type": "code",
   "execution_count": 10,
   "metadata": {
    "collapsed": false
   },
   "outputs": [
    {
     "data": {
      "text/html": [
       "\n",
       "    <div class=\"bqtv\" id=\"3_148937675427\"><table><tr><th>daynumber</th></tr><tr><td>08/01/2016</td></tr><tr><td>08/01/2016</td></tr><tr><td>08/01/2016</td></tr><tr><td>08/01/2016</td></tr><tr><td>08/01/2016</td></tr><tr><td>08/01/2016</td></tr><tr><td>08/01/2016</td></tr><tr><td>08/01/2016</td></tr><tr><td>08/01/2016</td></tr><tr><td>08/01/2016</td></tr></table></div>\n",
       "    <br />(rows: 10, time: 0.5s,     1MB processed, job: job_maoFNNmTosZEAlBD7D9bBVq8vhI)<br />\n",
       "    <script>\n",
       "\n",
       "      require.config({\n",
       "        paths: {\n",
       "          d3: '//cdnjs.cloudflare.com/ajax/libs/d3/3.4.13/d3',\n",
       "          plotly: 'https://cdn.plot.ly/plotly-1.5.1.min.js?noext',\n",
       "          jquery: '//ajax.googleapis.com/ajax/libs/jquery/2.0.0/jquery.min'\n",
       "        },\n",
       "        map: {\n",
       "          '*': {\n",
       "            datalab: 'nbextensions/gcpdatalab'\n",
       "          }\n",
       "        },\n",
       "        shim: {\n",
       "          plotly: {\n",
       "            deps: ['d3', 'jquery'],\n",
       "            exports: 'plotly'\n",
       "          }\n",
       "        }\n",
       "      });\n",
       "\n",
       "      require(['datalab/charting', 'datalab/element!3_148937675427', 'base/js/events',\n",
       "          'datalab/style!/nbextensions/gcpdatalab/charting.css'],\n",
       "        function(charts, dom, events) {\n",
       "          charts.render('gcharts', dom, events, 'table', [], {\"rows\": [{\"c\": [{\"v\": \"08/01/2016\"}]}, {\"c\": [{\"v\": \"08/01/2016\"}]}, {\"c\": [{\"v\": \"08/01/2016\"}]}, {\"c\": [{\"v\": \"08/01/2016\"}]}, {\"c\": [{\"v\": \"08/01/2016\"}]}, {\"c\": [{\"v\": \"08/01/2016\"}]}, {\"c\": [{\"v\": \"08/01/2016\"}]}, {\"c\": [{\"v\": \"08/01/2016\"}]}, {\"c\": [{\"v\": \"08/01/2016\"}]}, {\"c\": [{\"v\": \"08/01/2016\"}]}], \"cols\": [{\"type\": \"string\", \"id\": \"daynumber\", \"label\": \"daynumber\"}]},\n",
       "            {\n",
       "              pageSize: 25,\n",
       "              cssClassNames:  {\n",
       "                tableRow: 'gchart-table-row',\n",
       "                headerRow: 'gchart-table-headerrow',\n",
       "                oddTableRow: 'gchart-table-oddrow',\n",
       "                selectedTableRow: 'gchart-table-selectedrow',\n",
       "                hoverTableRow: 'gchart-table-hoverrow',\n",
       "                tableCell: 'gchart-table-cell',\n",
       "                headerCell: 'gchart-table-headercell',\n",
       "                rowNumberCell: 'gchart-table-rownumcell'\n",
       "              }\n",
       "            },\n",
       "            {source_index: 1, fields: 'daynumber'},\n",
       "            0,\n",
       "            10);\n",
       "        }\n",
       "      );\n",
       "    </script>\n",
       "  "
      ],
      "text/plain": [
       "QueryResultsTable job_maoFNNmTosZEAlBD7D9bBVq8vhI"
      ]
     },
     "execution_count": 10,
     "metadata": {},
     "output_type": "execute_result"
    }
   ],
   "source": [
    "%sql\n",
    "SELECT Date AS daynumber FROM [sppda_2016_8.t1] LIMIT 10"
   ]
  }
 ],
 "metadata": {
  "kernelspec": {
   "display_name": "Python 2",
   "language": "python",
   "name": "python2"
  },
  "language_info": {
   "codemirror_mode": {
    "name": "ipython",
    "version": 2
   },
   "file_extension": ".py",
   "mimetype": "text/x-python",
   "name": "python",
   "nbconvert_exporter": "python",
   "pygments_lexer": "ipython2",
   "version": "2.7.9"
  }
 },
 "nbformat": 4,
 "nbformat_minor": 2
}
