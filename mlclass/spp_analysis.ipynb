{
 "cells": [
  {
   "cell_type": "code",
   "execution_count": null,
   "metadata": {
    "collapsed": true
   },
   "outputs": [],
   "source": [
    "import graphlab"
   ]
  },
  {
   "cell_type": "code",
   "execution_count": null,
   "metadata": {
    "collapsed": true
   },
   "outputs": [],
   "source": [
    "mec = graphlab.SFrame('data/sppmecdata.csv')"
   ]
  },
  {
   "cell_type": "code",
   "execution_count": 1,
   "metadata": {
    "collapsed": false
   },
   "outputs": [
    {
     "ename": "NameError",
     "evalue": "name 'mec' is not defined",
     "output_type": "error",
     "traceback": [
      "\u001b[0;31m\u001b[0m",
      "\u001b[0;31mNameError\u001b[0mTraceback (most recent call last)",
      "\u001b[0;32m<ipython-input-1-f01c5f8a67e1>\u001b[0m in \u001b[0;36m<module>\u001b[0;34m()\u001b[0m\n\u001b[0;32m----> 1\u001b[0;31m \u001b[0mmec\u001b[0m\u001b[0;34m[\u001b[0m\u001b[0;34m'buysig'\u001b[0m\u001b[0;34m]\u001b[0m \u001b[0;34m=\u001b[0m \u001b[0mmec\u001b[0m\u001b[0;34m[\u001b[0m\u001b[0;34m'diffmec'\u001b[0m\u001b[0;34m]\u001b[0m \u001b[0;34m<\u001b[0m \u001b[0;36m0\u001b[0m\u001b[0;34m\u001b[0m\u001b[0m\n\u001b[0m\u001b[1;32m      2\u001b[0m \u001b[0mmec\u001b[0m\u001b[0;34m.\u001b[0m\u001b[0mhead\u001b[0m\u001b[0;34m(\u001b[0m\u001b[0;34m)\u001b[0m\u001b[0;34m\u001b[0m\u001b[0m\n",
      "\u001b[0;31mNameError\u001b[0m: name 'mec' is not defined"
     ]
    }
   ],
   "source": [
    "mec['buysig'] = mec['diffmec'] < 0\n",
    "mec.head()"
   ]
  },
  {
   "cell_type": "code",
   "execution_count": null,
   "metadata": {
    "collapsed": true
   },
   "outputs": [],
   "source": [
    "graphlab.canvas.set_target('ipynb')"
   ]
  },
  {
   "cell_type": "code",
   "execution_count": null,
   "metadata": {
    "collapsed": true
   },
   "outputs": [],
   "source": [
    "trdata,tedata = mec.random_split(.8,seed=0)"
   ]
  },
  {
   "cell_type": "code",
   "execution_count": null,
   "metadata": {
    "collapsed": true
   },
   "outputs": [],
   "source": [
    "sppfeatures = ['loadforecast','windforecast','natgasprice','0','1','2','3','4','5','6','7','8','9','10','11','12','13','14','15','16','17','18','19','20','21','22','23']\n",
    "mec[sppfeatures].show()"
   ]
  },
  {
   "cell_type": "code",
   "execution_count": null,
   "metadata": {
    "collapsed": true
   },
   "outputs": [],
   "source": [
    "mec.show(view='BoxWhisker Plot', x='hour', y='diffmec')"
   ]
  },
  {
   "cell_type": "code",
   "execution_count": null,
   "metadata": {
    "collapsed": true
   },
   "outputs": [],
   "source": [
    "spp_regression_model = graphlab.linear_regression.create(trdata,target='diffmec',features=sppfeatures,validation_set=tedata)"
   ]
  },
  {
   "cell_type": "code",
   "execution_count": null,
   "metadata": {
    "collapsed": true
   },
   "outputs": [],
   "source": [
    "print spp_regression_model.evaluate(tedata)"
   ]
  },
  {
   "cell_type": "code",
   "execution_count": null,
   "metadata": {
    "collapsed": true
   },
   "outputs": [],
   "source": [
    "tint = {'windforecast':[7500],\n",
    "        'loadforecast':[28777],\n",
    "        'natgasprice':[3.20],\n",
    "        '0':[0],\n",
    "        '1':[0],\n",
    "        '2':[0],\n",
    "        '3':[0],\n",
    "        '4':[0],\n",
    "        '5':[0],\n",
    "        '6':[0],\n",
    "        '7':[0],\n",
    "        '8':[1],\n",
    "        '9':[0],\n",
    "        '10':[0],\n",
    "        '11':[0],\n",
    "        '12':[0],\n",
    "        '13':[0],\n",
    "        '14':[0],\n",
    "        '15':[0],\n",
    "        '16':[0],\n",
    "        '17':[0],\n",
    "        '18':[0],\n",
    "        '19':[0],\n",
    "        '20':[0],\n",
    "        '21':[0],\n",
    "        '22':[0],\n",
    "        '23':[0]}\n",
    "\n",
    "print spp_regression_model.predict(graphlab.SFrame(tint))"
   ]
  },
  {
   "cell_type": "code",
   "execution_count": null,
   "metadata": {
    "collapsed": true
   },
   "outputs": [],
   "source": [
    "\n",
    "\n",
    "spp_classifier_model = graphlab.logistic_classifier.create(trdata,\n",
    "                                                     target='buysig',\n",
    "                                                     features=sppfeatures,\n",
    "                                                     validation_set=tedata)"
   ]
  },
  {
   "cell_type": "code",
   "execution_count": null,
   "metadata": {
    "collapsed": true
   },
   "outputs": [],
   "source": [
    "\n",
    "spp_nn_model = graphlab.neuralnet_classifier.create(trdata,\n",
    "                                                     target='buysig',\n",
    "                                                     features=sppfeatures,\n",
    "                                                     validation_set=tedata)"
   ]
  },
  {
   "cell_type": "code",
   "execution_count": null,
   "metadata": {
    "collapsed": true
   },
   "outputs": [],
   "source": [
    "spp_classifier_model.evaluate(tedata, metric='roc_curve')"
   ]
  },
  {
   "cell_type": "code",
   "execution_count": null,
   "metadata": {
    "collapsed": true
   },
   "outputs": [],
   "source": [
    "spp_classifier_model.show(view='Evaluation')"
   ]
  },
  {
   "cell_type": "code",
   "execution_count": null,
   "metadata": {
    "collapsed": true
   },
   "outputs": [],
   "source": [
    "mec['predicted_buysig'] = spp_classifier_model.predict(mec, output_type='probability')\n",
    "reg = spp_regression_model.predict(graphlab.SFrame(tint))\n",
    "cla = spp_classifier_model.predict(graphlab.SFrame(tint))\n",
    "#nn = spp_nn_model.predict(graphlab.SFrame(tint))\n",
    "print 'Regression model predicts diffmec of ' + str(reg)\n",
    "print 'Classifier model predicts a DA buy? (0:Sell , 1:Buy) : ' + str(cla)\n",
    "#print 'NN model predicts a DA buy? (0:Sell , 1:Buy) : ' + str(nn)"
   ]
  },
  {
   "cell_type": "code",
   "execution_count": 2,
   "metadata": {
    "collapsed": true
   },
   "outputs": [],
   "source": [
    "def create_hour(w,l,n,hour):\n",
    "    return {'windforecast':[w],\n",
    "        'loadforecast':[l],\n",
    "        'natgasprice':[n],\n",
    "        str(hour):[1]}\n",
    "    "
   ]
  },
  {
   "cell_type": "code",
   "execution_count": 3,
   "metadata": {
    "collapsed": false
   },
   "outputs": [
    {
     "ename": "NameError",
     "evalue": "name 'spp_regression_model' is not defined",
     "output_type": "error",
     "traceback": [
      "\u001b[0;31m\u001b[0m",
      "\u001b[0;31mNameError\u001b[0mTraceback (most recent call last)",
      "\u001b[0;32m<ipython-input-3-7fa9e9757196>\u001b[0m in \u001b[0;36m<module>\u001b[0;34m()\u001b[0m\n\u001b[1;32m      4\u001b[0m \u001b[0mng\u001b[0m \u001b[0;34m=\u001b[0m \u001b[0;36m3.20\u001b[0m\u001b[0;34m\u001b[0m\u001b[0m\n\u001b[1;32m      5\u001b[0m \u001b[0;32mfor\u001b[0m \u001b[0mh\u001b[0m \u001b[0;32min\u001b[0m \u001b[0mrange\u001b[0m\u001b[0;34m(\u001b[0m\u001b[0;36m0\u001b[0m\u001b[0;34m,\u001b[0m\u001b[0;36m24\u001b[0m\u001b[0;34m)\u001b[0m\u001b[0;34m:\u001b[0m\u001b[0;34m\u001b[0m\u001b[0m\n\u001b[0;32m----> 6\u001b[0;31m     \u001b[0mreg\u001b[0m \u001b[0;34m=\u001b[0m \u001b[0mspp_regression_model\u001b[0m\u001b[0;34m.\u001b[0m\u001b[0mpredict\u001b[0m\u001b[0;34m(\u001b[0m\u001b[0mgraphlab\u001b[0m\u001b[0;34m.\u001b[0m\u001b[0mSFrame\u001b[0m\u001b[0;34m(\u001b[0m\u001b[0mcreate_hour\u001b[0m\u001b[0;34m(\u001b[0m\u001b[0mwf\u001b[0m\u001b[0;34m[\u001b[0m\u001b[0mh\u001b[0m\u001b[0;34m]\u001b[0m\u001b[0;34m,\u001b[0m\u001b[0mlf\u001b[0m\u001b[0;34m[\u001b[0m\u001b[0mh\u001b[0m\u001b[0;34m]\u001b[0m\u001b[0;34m,\u001b[0m\u001b[0mng\u001b[0m\u001b[0;34m,\u001b[0m\u001b[0mh\u001b[0m\u001b[0;34m)\u001b[0m\u001b[0;34m)\u001b[0m\u001b[0;34m)\u001b[0m\u001b[0;34m\u001b[0m\u001b[0m\n\u001b[0m\u001b[1;32m      7\u001b[0m     \u001b[0mcla\u001b[0m \u001b[0;34m=\u001b[0m \u001b[0mspp_classifier_model\u001b[0m\u001b[0;34m.\u001b[0m\u001b[0mpredict\u001b[0m\u001b[0;34m(\u001b[0m\u001b[0mgraphlab\u001b[0m\u001b[0;34m.\u001b[0m\u001b[0mSFrame\u001b[0m\u001b[0;34m(\u001b[0m\u001b[0mcreate_hour\u001b[0m\u001b[0;34m(\u001b[0m\u001b[0mwf\u001b[0m\u001b[0;34m[\u001b[0m\u001b[0mh\u001b[0m\u001b[0;34m]\u001b[0m\u001b[0;34m,\u001b[0m\u001b[0mlf\u001b[0m\u001b[0;34m[\u001b[0m\u001b[0mh\u001b[0m\u001b[0;34m]\u001b[0m\u001b[0;34m,\u001b[0m\u001b[0mng\u001b[0m\u001b[0;34m,\u001b[0m\u001b[0mh\u001b[0m\u001b[0;34m)\u001b[0m\u001b[0;34m)\u001b[0m\u001b[0;34m)\u001b[0m\u001b[0;34m\u001b[0m\u001b[0m\n\u001b[1;32m      8\u001b[0m     \u001b[0;31m#print 'Regression model predicts diffmec of ' + str(reg)\u001b[0m\u001b[0;34m\u001b[0m\u001b[0;34m\u001b[0m\u001b[0m\n",
      "\u001b[0;31mNameError\u001b[0m: name 'spp_regression_model' is not defined"
     ]
    }
   ],
   "source": [
    "#3/31/2017 pred\n",
    "wf = [5130,5295,5260,5140,5046,5000,4924,4814,4797,4763,4765,5080,5543,5952,6294,6528,6767,7132,7586,7993,8335,8658,8919,8970]\n",
    "lf = [24510,23501,22994,22768,22780,23261,24618,26973,28441,28467,28337,28266,28090,27834,27725,27585,27231,27284,27124,26951,26965,27327,27327,26701,25464]\n",
    "ng = 3.20\n",
    "for h in range(0,24):\n",
    "    reg = spp_regression_model.predict(graphlab.SFrame(create_hour(wf[h],lf[h],ng,h)))\n",
    "    cla = spp_classifier_model.predict(graphlab.SFrame(create_hour(wf[h],lf[h],ng,h)))\n",
    "    \n",
    "    if reg[0] < -2 and cla[0] == 1:\n",
    "        print 'Hour ' + str(h)\n",
    "        print '---------------------'\n",
    "        print 'STRONG BUY'\n",
    "        print 'Regression model predicts diffmec of ' + str(reg)\n",
    "        print 'Classifier model predicts a DA buy? (0:Sell , 1:Buy) : ' + str(cla)\n",
    "        print ''\n",
    "    elif reg[0] > 2 and cla[0] == 0:\n",
    "        print 'Hour ' + str(h)\n",
    "        print '---------------------'\n",
    "        print 'STRONG SELL'\n",
    "        print 'Regression model predicts diffmec of ' + str(reg)\n",
    "        print 'Classifier model predicts a DA buy? (0:Sell , 1:Buy) : ' + str(cla)\n",
    "        print ''\n",
    "    #else:\n",
    "        #print 'Hour ' + str(h)\n",
    "        #print '---------------------'\n",
    "        #print 'MIXED'\n",
    "        #print ''"
   ]
  }
 ],
 "metadata": {
  "kernelspec": {
   "display_name": "Python 2",
   "language": "python",
   "name": "python2"
  },
  "language_info": {
   "codemirror_mode": {
    "name": "ipython",
    "version": 2
   },
   "file_extension": ".py",
   "mimetype": "text/x-python",
   "name": "python",
   "nbconvert_exporter": "python",
   "pygments_lexer": "ipython2",
   "version": "2.7.9"
  }
 },
 "nbformat": 4,
 "nbformat_minor": 2
}
