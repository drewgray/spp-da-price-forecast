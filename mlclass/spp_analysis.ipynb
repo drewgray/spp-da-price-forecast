{
 "cells": [
  {
   "cell_type": "code",
   "execution_count": 1,
   "metadata": {
    "collapsed": false,
    "deletable": true,
    "editable": true
   },
   "outputs": [
    {
     "name": "stderr",
     "output_type": "stream",
     "text": [
      "Using TensorFlow backend.\n"
     ]
    }
   ],
   "source": [
    "%matplotlib notebook\n",
    "%matplotlib inline\n",
    "\n",
    "import os\n",
    "import time\n",
    "import datetime as dt\n",
    "import numpy as np\n",
    "from numpy import newaxis\n",
    "import matplotlib.pyplot as plt\n",
    "import pandas as pd\n",
    "import pandas_datareader\n",
    "import keras"
   ]
  },
  {
   "cell_type": "code",
   "execution_count": 2,
   "metadata": {
    "collapsed": false,
    "deletable": true,
    "editable": true
   },
   "outputs": [
    {
     "data": {
      "text/html": [
       "<div>\n",
       "<table border=\"1\" class=\"dataframe\">\n",
       "  <thead>\n",
       "    <tr style=\"text-align: right;\">\n",
       "      <th></th>\n",
       "      <th>interval</th>\n",
       "      <th>hour</th>\n",
       "      <th>windforecast</th>\n",
       "      <th>loadforecast</th>\n",
       "      <th>natgasprice</th>\n",
       "      <th>diffmec</th>\n",
       "      <th>0</th>\n",
       "      <th>1</th>\n",
       "      <th>2</th>\n",
       "      <th>3</th>\n",
       "      <th>...</th>\n",
       "      <th>14</th>\n",
       "      <th>15</th>\n",
       "      <th>16</th>\n",
       "      <th>17</th>\n",
       "      <th>18</th>\n",
       "      <th>19</th>\n",
       "      <th>20</th>\n",
       "      <th>21</th>\n",
       "      <th>22</th>\n",
       "      <th>23</th>\n",
       "    </tr>\n",
       "  </thead>\n",
       "  <tbody>\n",
       "    <tr>\n",
       "      <th>0</th>\n",
       "      <td>2016-08-01 00:00:00</td>\n",
       "      <td>0.0</td>\n",
       "      <td>9419.15</td>\n",
       "      <td>34925.0</td>\n",
       "      <td>2.97</td>\n",
       "      <td>5.5041</td>\n",
       "      <td>1.0</td>\n",
       "      <td>0.0</td>\n",
       "      <td>0.0</td>\n",
       "      <td>0.0</td>\n",
       "      <td>...</td>\n",
       "      <td>0.0</td>\n",
       "      <td>0.0</td>\n",
       "      <td>0.0</td>\n",
       "      <td>0.0</td>\n",
       "      <td>0.0</td>\n",
       "      <td>0.0</td>\n",
       "      <td>0.0</td>\n",
       "      <td>0.0</td>\n",
       "      <td>0.0</td>\n",
       "      <td>0.0</td>\n",
       "    </tr>\n",
       "    <tr>\n",
       "      <th>1</th>\n",
       "      <td>2016-08-01 01:00:00</td>\n",
       "      <td>1.0</td>\n",
       "      <td>9526.57</td>\n",
       "      <td>33084.0</td>\n",
       "      <td>2.97</td>\n",
       "      <td>6.5692</td>\n",
       "      <td>0.0</td>\n",
       "      <td>1.0</td>\n",
       "      <td>0.0</td>\n",
       "      <td>0.0</td>\n",
       "      <td>...</td>\n",
       "      <td>0.0</td>\n",
       "      <td>0.0</td>\n",
       "      <td>0.0</td>\n",
       "      <td>0.0</td>\n",
       "      <td>0.0</td>\n",
       "      <td>0.0</td>\n",
       "      <td>0.0</td>\n",
       "      <td>0.0</td>\n",
       "      <td>0.0</td>\n",
       "      <td>0.0</td>\n",
       "    </tr>\n",
       "    <tr>\n",
       "      <th>2</th>\n",
       "      <td>2016-08-01 02:00:00</td>\n",
       "      <td>2.0</td>\n",
       "      <td>9508.95</td>\n",
       "      <td>31562.0</td>\n",
       "      <td>2.97</td>\n",
       "      <td>3.9592</td>\n",
       "      <td>0.0</td>\n",
       "      <td>0.0</td>\n",
       "      <td>1.0</td>\n",
       "      <td>0.0</td>\n",
       "      <td>...</td>\n",
       "      <td>0.0</td>\n",
       "      <td>0.0</td>\n",
       "      <td>0.0</td>\n",
       "      <td>0.0</td>\n",
       "      <td>0.0</td>\n",
       "      <td>0.0</td>\n",
       "      <td>0.0</td>\n",
       "      <td>0.0</td>\n",
       "      <td>0.0</td>\n",
       "      <td>0.0</td>\n",
       "    </tr>\n",
       "    <tr>\n",
       "      <th>3</th>\n",
       "      <td>2016-08-01 03:00:00</td>\n",
       "      <td>3.0</td>\n",
       "      <td>9376.61</td>\n",
       "      <td>30472.0</td>\n",
       "      <td>2.97</td>\n",
       "      <td>2.8883</td>\n",
       "      <td>0.0</td>\n",
       "      <td>0.0</td>\n",
       "      <td>0.0</td>\n",
       "      <td>1.0</td>\n",
       "      <td>...</td>\n",
       "      <td>0.0</td>\n",
       "      <td>0.0</td>\n",
       "      <td>0.0</td>\n",
       "      <td>0.0</td>\n",
       "      <td>0.0</td>\n",
       "      <td>0.0</td>\n",
       "      <td>0.0</td>\n",
       "      <td>0.0</td>\n",
       "      <td>0.0</td>\n",
       "      <td>0.0</td>\n",
       "    </tr>\n",
       "    <tr>\n",
       "      <th>4</th>\n",
       "      <td>2016-08-01 04:00:00</td>\n",
       "      <td>4.0</td>\n",
       "      <td>9228.14</td>\n",
       "      <td>29909.0</td>\n",
       "      <td>2.97</td>\n",
       "      <td>3.2920</td>\n",
       "      <td>0.0</td>\n",
       "      <td>0.0</td>\n",
       "      <td>0.0</td>\n",
       "      <td>0.0</td>\n",
       "      <td>...</td>\n",
       "      <td>0.0</td>\n",
       "      <td>0.0</td>\n",
       "      <td>0.0</td>\n",
       "      <td>0.0</td>\n",
       "      <td>0.0</td>\n",
       "      <td>0.0</td>\n",
       "      <td>0.0</td>\n",
       "      <td>0.0</td>\n",
       "      <td>0.0</td>\n",
       "      <td>0.0</td>\n",
       "    </tr>\n",
       "  </tbody>\n",
       "</table>\n",
       "<p>5 rows × 30 columns</p>\n",
       "</div>"
      ],
      "text/plain": [
       "              interval  hour  windforecast  loadforecast  natgasprice  \\\n",
       "0  2016-08-01 00:00:00   0.0       9419.15       34925.0         2.97   \n",
       "1  2016-08-01 01:00:00   1.0       9526.57       33084.0         2.97   \n",
       "2  2016-08-01 02:00:00   2.0       9508.95       31562.0         2.97   \n",
       "3  2016-08-01 03:00:00   3.0       9376.61       30472.0         2.97   \n",
       "4  2016-08-01 04:00:00   4.0       9228.14       29909.0         2.97   \n",
       "\n",
       "   diffmec    0    1    2    3 ...    14   15   16   17   18   19   20   21  \\\n",
       "0   5.5041  1.0  0.0  0.0  0.0 ...   0.0  0.0  0.0  0.0  0.0  0.0  0.0  0.0   \n",
       "1   6.5692  0.0  1.0  0.0  0.0 ...   0.0  0.0  0.0  0.0  0.0  0.0  0.0  0.0   \n",
       "2   3.9592  0.0  0.0  1.0  0.0 ...   0.0  0.0  0.0  0.0  0.0  0.0  0.0  0.0   \n",
       "3   2.8883  0.0  0.0  0.0  1.0 ...   0.0  0.0  0.0  0.0  0.0  0.0  0.0  0.0   \n",
       "4   3.2920  0.0  0.0  0.0  0.0 ...   0.0  0.0  0.0  0.0  0.0  0.0  0.0  0.0   \n",
       "\n",
       "    22   23  \n",
       "0  0.0  0.0  \n",
       "1  0.0  0.0  \n",
       "2  0.0  0.0  \n",
       "3  0.0  0.0  \n",
       "4  0.0  0.0  \n",
       "\n",
       "[5 rows x 30 columns]"
      ]
     },
     "execution_count": 2,
     "metadata": {},
     "output_type": "execute_result"
    }
   ],
   "source": [
    "#mec = graphlab.SFrame('data/sppmecdata.csv')\n",
    "\n",
    "fname = \"data/sppmecdata.csv\"\n",
    "coln = ['interval','hour','windforecast','loadforecast','natgasprice','diffmec','0','1','2','3','4','5','6','7','8','9','10','11','12','13','14','15','16','17','18','19','20','21','22','23']\n",
    "mec = pd.read_csv(fname)\n",
    "mec.head()"
   ]
  },
  {
   "cell_type": "code",
   "execution_count": 3,
   "metadata": {
    "collapsed": false,
    "deletable": true,
    "editable": true
   },
   "outputs": [
    {
     "data": {
      "text/html": [
       "<div>\n",
       "<table border=\"1\" class=\"dataframe\">\n",
       "  <thead>\n",
       "    <tr style=\"text-align: right;\">\n",
       "      <th></th>\n",
       "      <th>hour</th>\n",
       "      <th>windforecast</th>\n",
       "      <th>loadforecast</th>\n",
       "      <th>natgasprice</th>\n",
       "      <th>diffmec</th>\n",
       "      <th>0</th>\n",
       "      <th>1</th>\n",
       "      <th>2</th>\n",
       "      <th>3</th>\n",
       "      <th>4</th>\n",
       "      <th>...</th>\n",
       "      <th>16</th>\n",
       "      <th>17</th>\n",
       "      <th>18</th>\n",
       "      <th>19</th>\n",
       "      <th>20</th>\n",
       "      <th>21</th>\n",
       "      <th>22</th>\n",
       "      <th>23</th>\n",
       "      <th>buysig</th>\n",
       "      <th>weekday</th>\n",
       "    </tr>\n",
       "    <tr>\n",
       "      <th>interval</th>\n",
       "      <th></th>\n",
       "      <th></th>\n",
       "      <th></th>\n",
       "      <th></th>\n",
       "      <th></th>\n",
       "      <th></th>\n",
       "      <th></th>\n",
       "      <th></th>\n",
       "      <th></th>\n",
       "      <th></th>\n",
       "      <th></th>\n",
       "      <th></th>\n",
       "      <th></th>\n",
       "      <th></th>\n",
       "      <th></th>\n",
       "      <th></th>\n",
       "      <th></th>\n",
       "      <th></th>\n",
       "      <th></th>\n",
       "      <th></th>\n",
       "      <th></th>\n",
       "    </tr>\n",
       "  </thead>\n",
       "  <tbody>\n",
       "    <tr>\n",
       "      <th>2017-03-01 01:00:00</th>\n",
       "      <td>1.0</td>\n",
       "      <td>11282.88</td>\n",
       "      <td>23646.0</td>\n",
       "      <td>2.54</td>\n",
       "      <td>1.9541</td>\n",
       "      <td>0.0</td>\n",
       "      <td>1.0</td>\n",
       "      <td>0.0</td>\n",
       "      <td>0.0</td>\n",
       "      <td>0.0</td>\n",
       "      <td>...</td>\n",
       "      <td>0.0</td>\n",
       "      <td>0.0</td>\n",
       "      <td>0.0</td>\n",
       "      <td>0.0</td>\n",
       "      <td>0.0</td>\n",
       "      <td>0.0</td>\n",
       "      <td>0.0</td>\n",
       "      <td>0.0</td>\n",
       "      <td>False</td>\n",
       "      <td>2</td>\n",
       "    </tr>\n",
       "    <tr>\n",
       "      <th>2017-03-01 02:00:00</th>\n",
       "      <td>2.0</td>\n",
       "      <td>10766.69</td>\n",
       "      <td>23273.0</td>\n",
       "      <td>2.54</td>\n",
       "      <td>-0.2795</td>\n",
       "      <td>0.0</td>\n",
       "      <td>0.0</td>\n",
       "      <td>1.0</td>\n",
       "      <td>0.0</td>\n",
       "      <td>0.0</td>\n",
       "      <td>...</td>\n",
       "      <td>0.0</td>\n",
       "      <td>0.0</td>\n",
       "      <td>0.0</td>\n",
       "      <td>0.0</td>\n",
       "      <td>0.0</td>\n",
       "      <td>0.0</td>\n",
       "      <td>0.0</td>\n",
       "      <td>0.0</td>\n",
       "      <td>True</td>\n",
       "      <td>2</td>\n",
       "    </tr>\n",
       "    <tr>\n",
       "      <th>2017-03-01 03:00:00</th>\n",
       "      <td>3.0</td>\n",
       "      <td>10275.86</td>\n",
       "      <td>23197.0</td>\n",
       "      <td>2.54</td>\n",
       "      <td>11.9349</td>\n",
       "      <td>0.0</td>\n",
       "      <td>0.0</td>\n",
       "      <td>0.0</td>\n",
       "      <td>1.0</td>\n",
       "      <td>0.0</td>\n",
       "      <td>...</td>\n",
       "      <td>0.0</td>\n",
       "      <td>0.0</td>\n",
       "      <td>0.0</td>\n",
       "      <td>0.0</td>\n",
       "      <td>0.0</td>\n",
       "      <td>0.0</td>\n",
       "      <td>0.0</td>\n",
       "      <td>0.0</td>\n",
       "      <td>False</td>\n",
       "      <td>2</td>\n",
       "    </tr>\n",
       "    <tr>\n",
       "      <th>2017-03-01 04:00:00</th>\n",
       "      <td>4.0</td>\n",
       "      <td>9915.80</td>\n",
       "      <td>23384.0</td>\n",
       "      <td>2.54</td>\n",
       "      <td>7.5464</td>\n",
       "      <td>0.0</td>\n",
       "      <td>0.0</td>\n",
       "      <td>0.0</td>\n",
       "      <td>0.0</td>\n",
       "      <td>1.0</td>\n",
       "      <td>...</td>\n",
       "      <td>0.0</td>\n",
       "      <td>0.0</td>\n",
       "      <td>0.0</td>\n",
       "      <td>0.0</td>\n",
       "      <td>0.0</td>\n",
       "      <td>0.0</td>\n",
       "      <td>0.0</td>\n",
       "      <td>0.0</td>\n",
       "      <td>False</td>\n",
       "      <td>2</td>\n",
       "    </tr>\n",
       "    <tr>\n",
       "      <th>2017-03-01 05:00:00</th>\n",
       "      <td>5.0</td>\n",
       "      <td>9694.18</td>\n",
       "      <td>23980.0</td>\n",
       "      <td>2.54</td>\n",
       "      <td>1.3101</td>\n",
       "      <td>0.0</td>\n",
       "      <td>0.0</td>\n",
       "      <td>0.0</td>\n",
       "      <td>0.0</td>\n",
       "      <td>0.0</td>\n",
       "      <td>...</td>\n",
       "      <td>0.0</td>\n",
       "      <td>0.0</td>\n",
       "      <td>0.0</td>\n",
       "      <td>0.0</td>\n",
       "      <td>0.0</td>\n",
       "      <td>0.0</td>\n",
       "      <td>0.0</td>\n",
       "      <td>0.0</td>\n",
       "      <td>False</td>\n",
       "      <td>2</td>\n",
       "    </tr>\n",
       "  </tbody>\n",
       "</table>\n",
       "<p>5 rows × 31 columns</p>\n",
       "</div>"
      ],
      "text/plain": [
       "                     hour  windforecast  loadforecast  natgasprice  diffmec  \\\n",
       "interval                                                                      \n",
       "2017-03-01 01:00:00   1.0      11282.88       23646.0         2.54   1.9541   \n",
       "2017-03-01 02:00:00   2.0      10766.69       23273.0         2.54  -0.2795   \n",
       "2017-03-01 03:00:00   3.0      10275.86       23197.0         2.54  11.9349   \n",
       "2017-03-01 04:00:00   4.0       9915.80       23384.0         2.54   7.5464   \n",
       "2017-03-01 05:00:00   5.0       9694.18       23980.0         2.54   1.3101   \n",
       "\n",
       "                       0    1    2    3    4   ...      16   17   18   19  \\\n",
       "interval                                       ...                          \n",
       "2017-03-01 01:00:00  0.0  1.0  0.0  0.0  0.0   ...     0.0  0.0  0.0  0.0   \n",
       "2017-03-01 02:00:00  0.0  0.0  1.0  0.0  0.0   ...     0.0  0.0  0.0  0.0   \n",
       "2017-03-01 03:00:00  0.0  0.0  0.0  1.0  0.0   ...     0.0  0.0  0.0  0.0   \n",
       "2017-03-01 04:00:00  0.0  0.0  0.0  0.0  1.0   ...     0.0  0.0  0.0  0.0   \n",
       "2017-03-01 05:00:00  0.0  0.0  0.0  0.0  0.0   ...     0.0  0.0  0.0  0.0   \n",
       "\n",
       "                      20   21   22   23  buysig  weekday  \n",
       "interval                                                  \n",
       "2017-03-01 01:00:00  0.0  0.0  0.0  0.0   False        2  \n",
       "2017-03-01 02:00:00  0.0  0.0  0.0  0.0    True        2  \n",
       "2017-03-01 03:00:00  0.0  0.0  0.0  0.0   False        2  \n",
       "2017-03-01 04:00:00  0.0  0.0  0.0  0.0   False        2  \n",
       "2017-03-01 05:00:00  0.0  0.0  0.0  0.0   False        2  \n",
       "\n",
       "[5 rows x 31 columns]"
      ]
     },
     "execution_count": 3,
     "metadata": {},
     "output_type": "execute_result"
    }
   ],
   "source": [
    "mec['buysig'] = mec['diffmec'] < 0\n",
    "mec['interval'] = pd.to_datetime(mec['interval'])\n",
    "mec['weekday'] = mec['interval'].dt.dayofweek\n",
    "mec_nolg = mec[abs(mec['diffmec']) < 100]\n",
    "mec = mec.set_index(['interval'])\n",
    "mec.tail()"
   ]
  },
  {
   "cell_type": "code",
   "execution_count": null,
   "metadata": {
    "collapsed": true,
    "deletable": true,
    "editable": true
   },
   "outputs": [],
   "source": [
    "graphlab.canvas.set_target('ipynb')"
   ]
  },
  {
   "cell_type": "code",
   "execution_count": 4,
   "metadata": {
    "collapsed": false,
    "deletable": true,
    "editable": true
   },
   "outputs": [],
   "source": [
    "#trdata,tedata = mec.random_split(.8,seed=0)\n",
    "#traindata,testdata = mec_nolg.random_split(.8,seed=0)\n",
    "\n",
    "# training data\n",
    "prediction_time = 1 #day\n",
    "testdatasize = int(len(mec)*.1)\n",
    "unroll_length = 48\n",
    "testdatacut = testdatasize + unroll_length  + 1\n",
    "\n",
    "x_train = mec[0:-prediction_time-testdatacut].as_matrix()\n",
    "y_train = mec[prediction_time:-testdatacut]['diffmec'].as_matrix()\n",
    "\n",
    "# test data\n",
    "x_test = mec[0-testdatacut:-prediction_time].as_matrix()\n",
    "y_test = mec[prediction_time-testdatacut:]['diffmec'].as_matrix()"
   ]
  },
  {
   "cell_type": "code",
   "execution_count": 5,
   "metadata": {
    "collapsed": false
   },
   "outputs": [
    {
     "name": "stdout",
     "output_type": "stream",
     "text": [
      "x_train (4488, 48, 31)\n",
      "y_train (4488,)\n",
      "x_test (509, 48, 31)\n",
      "y_test (509,)\n"
     ]
    }
   ],
   "source": [
    "def unroll(data,sequence_length=24):\n",
    "    result = []\n",
    "    for index in range(len(data) - sequence_length):\n",
    "        result.append(data[index: index + sequence_length])\n",
    "    return np.asarray(result)\n",
    "\n",
    "\n",
    "x_train = unroll(x_train,unroll_length)\n",
    "x_test  = unroll(x_test,unroll_length)\n",
    "y_train = y_train[-x_train.shape[0]:]\n",
    "y_test  = y_test[-x_test.shape[0]:]\n",
    "\n",
    "\n",
    "print(\"x_train\", x_train.shape)\n",
    "print(\"y_train\", y_train.shape)\n",
    "print(\"x_test\", x_test.shape)\n",
    "print(\"y_test\", y_test.shape)"
   ]
  },
  {
   "cell_type": "code",
   "execution_count": 6,
   "metadata": {
    "collapsed": false
   },
   "outputs": [],
   "source": [
    "from keras.layers.core import Dense, Activation, Dropout\n",
    "from keras.layers.recurrent import LSTM\n",
    "from keras.models import Sequential\n",
    "#import lstm, time #helper libraries"
   ]
  },
  {
   "cell_type": "code",
   "execution_count": 7,
   "metadata": {
    "collapsed": false
   },
   "outputs": [
    {
     "name": "stdout",
     "output_type": "stream",
     "text": [
      "compilation time : 0.010058403015136719\n"
     ]
    }
   ],
   "source": [
    "#Step 2 Build Model\n",
    "model = Sequential()\n",
    "\n",
    "model.add(LSTM(\n",
    "    input_dim=x_train.shape[-1],\n",
    "    output_dim=50,\n",
    "    return_sequences=True))\n",
    "model.add(Dropout(0.2))\n",
    "\n",
    "model.add(LSTM(\n",
    "    100,\n",
    "    return_sequences=False))\n",
    "model.add(Dropout(0.2))\n",
    "\n",
    "model.add(Dense(\n",
    "    output_dim=1))\n",
    "model.add(Activation('linear'))\n",
    "\n",
    "start = time.time()\n",
    "model.compile(loss='mse', optimizer='rmsprop')\n",
    "print('compilation time : {}'.format(time.time() - start))"
   ]
  },
  {
   "cell_type": "code",
   "execution_count": null,
   "metadata": {
    "collapsed": false
   },
   "outputs": [
    {
     "name": "stdout",
     "output_type": "stream",
     "text": [
      "Train on 4263 samples, validate on 225 samples\n",
      "Epoch 1/256\n",
      "4263/4263 [==============================] - 14s - loss: 291.0325 - val_loss: 157.5555\b\b\b\b\b\b\b\b\b\b\b\b\b\b\b\b\b\b\b\b\b\b\b\b\b\b\b\b\b\b\b\b\b\b\b\b\b\b\b\b\b\b\b\b\b\b\b\b\b\b\b\b\n",
      "Epoch 2/256\n",
      "4263/4263 [==============================] - 13s - loss: 289.1622 - val_loss: 156.3116\b\b\b\b\b\b\b\b\b\b\b\b\b\b\b\b\b\b\b\b\b\b\b\b\b\b\b\b\b\b\b\b\b\b\b\b\b\b\b\b\b\b\b\b\b\b\b\b\b\b\b\b\n",
      "Epoch 3/256\n",
      "4263/4263 [==============================] - 14s - loss: 287.6665 - val_loss: 156.3595\b\b\b\b\b\b\b\b\b\b\b\b\b\b\b\b\b\b\b\b\b\b\b\b\b\b\b\b\b\b\b\b\b\b\b\b\b\b\b\b\b\b\b\b\b\b\b\b\b\b\b\b\n",
      "Epoch 4/256\n",
      "4263/4263 [==============================] - 12s - loss: 287.7343 - val_loss: 157.2396\b\b\b\b\b\b\b\b\b\b\b\b\b\b\b\b\b\b\b\b\b\b\b\b\b\b\b\b\b\b\b\b\b\b\b\b\b\b\b\b\b\b\b\b\b\b\b\b\b\b\b\b\n",
      "Epoch 5/256\n",
      "4263/4263 [==============================] - 13s - loss: 288.1813 - val_loss: 157.2883\b\b\b\b\b\b\b\b\b\b\b\b\b\b\b\b\b\b\b\b\b\b\b\b\b\b\b\b\b\b\b\b\b\b\b\b\b\b\b\b\b\b\b\b\b\b\b\b\b\b\b\b\n",
      "Epoch 6/256\n",
      "4263/4263 [==============================] - 14s - loss: 287.9090 - val_loss: 157.2977\b\b\b\b\b\b\b\b\b\b\b\b\b\b\b\b\b\b\b\b\b\b\b\b\b\b\b\b\b\b\b\b\b\b\b\b\b\b\b\b\b\b\b\b\b\b\b\b\b\b\b\b\n",
      "Epoch 7/256\n",
      "4263/4263 [==============================] - 13s - loss: 287.8610 - val_loss: 157.4036\b\b\b\b\b\b\b\b\b\b\b\b\b\b\b\b\b\b\b\b\b\b\b\b\b\b\b\b\b\b\b\b\b\b\b\b\b\b\b\b\b\b\b\b\b\b\b\b\b\b\b\b\n",
      "Epoch 8/256\n",
      "4263/4263 [==============================] - 14s - loss: 287.5378 - val_loss: 157.7052\b\b\b\b\b\b\b\b\b\b\b\b\b\b\b\b\b\b\b\b\b\b\b\b\b\b\b\b\b\b\b\b\b\b\b\b\b\b\b\b\b\b\b\b\b\b\b\b\b\b\b\b\n",
      "Epoch 9/256\n",
      "4263/4263 [==============================] - 18s - loss: 287.8963 - val_loss: 157.5016\b\b\b\b\b\b\b\b\b\b\b\b\b\b\b\b\b\b\b\b\b\b\b\b\b\b\b\b\b\b\b\b\b\b\b\b\b\b\b\b\b\b\b\b\b\b\b\b\b\b\b\b\n",
      "Epoch 10/256\n",
      "4263/4263 [==============================] - 16s - loss: 288.3720 - val_loss: 157.7749\b\b\b\b\b\b\b\b\b\b\b\b\b\b\b\b\b\b\b\b\b\b\b\b\b\b\b\b\b\b\b\b\b\b\b\b\b\b\b\b\b\b\b\b\b\b\b\b\b\b\b\b\n",
      "Epoch 11/256\n",
      "4263/4263 [==============================] - 12s - loss: 287.5891 - val_loss: 158.4933\b\b\b\b\b\b\b\b\b\b\b\b\b\b\b\b\b\b\b\b\b\b\b\b\b\b\b\b\b\b\b\b\b\b\b\b\b\b\b\b\b\b\b\b\b\b\b\b\b\b\b\b\n",
      "Epoch 12/256\n",
      "4263/4263 [==============================] - 12s - loss: 287.7877 - val_loss: 157.9687\b\b\b\b\b\b\b\b\b\b\b\b\b\b\b\b\b\b\b\b\b\b\b\b\b\b\b\b\b\b\b\b\b\b\b\b\b\b\b\b\b\b\b\b\b\b\b\b\b\b\b\b\n",
      "Epoch 13/256\n",
      "4263/4263 [==============================] - 12s - loss: 287.7745 - val_loss: 157.6849\b\b\b\b\b\b\b\b\b\b\b\b\b\b\b\b\b\b\b\b\b\b\b\b\b\b\b\b\b\b\b\b\b\b\b\b\b\b\b\b\b\b\b\b\b\b\b\b\b\b\b\b\n",
      "Epoch 14/256\n",
      "4263/4263 [==============================] - 12s - loss: 287.7485 - val_loss: 158.2055\b\b\b\b\b\b\b\b\b\b\b\b\b\b\b\b\b\b\b\b\b\b\b\b\b\b\b\b\b\b\b\b\b\b\b\b\b\b\b\b\b\b\b\b\b\b\b\b\b\b\b\b\n",
      "Epoch 15/256\n",
      "4263/4263 [==============================] - 12s - loss: 287.4764 - val_loss: 157.9181\b\b\b\b\b\b\b\b\b\b\b\b\b\b\b\b\b\b\b\b\b\b\b\b\b\b\b\b\b\b\b\b\b\b\b\b\b\b\b\b\b\b\b\b\b\b\b\b\b\b\b\b\n",
      "Epoch 16/256\n",
      "4263/4263 [==============================] - 13s - loss: 287.9153 - val_loss: 157.2003\b\b\b\b\b\b\b\b\b\b\b\b\b\b\b\b\b\b\b\b\b\b\b\b\b\b\b\b\b\b\b\b\b\b\b\b\b\b\b\b\b\b\b\b\b\b\b\b\b\b\b\b\n",
      "Epoch 17/256\n",
      "4263/4263 [==============================] - 13s - loss: 287.4745 - val_loss: 157.4130\b\b\b\b\b\b\b\b\b\b\b\b\b\b\b\b\b\b\b\b\b\b\b\b\b\b\b\b\b\b\b\b\b\b\b\b\b\b\b\b\b\b\b\b\b\b\b\b\b\b\b\b\n",
      "Epoch 18/256\n",
      "4263/4263 [==============================] - 12s - loss: 287.6227 - val_loss: 158.5014\b\b\b\b\b\b\b\b\b\b\b\b\b\b\b\b\b\b\b\b\b\b\b\b\b\b\b\b\b\b\b\b\b\b\b\b\b\b\b\b\b\b\b\b\b\b\b\b\b\b\b\b\n",
      "Epoch 19/256\n",
      "4263/4263 [==============================] - 12s - loss: 288.1437 - val_loss: 157.6461\b\b\b\b\b\b\b\b\b\b\b\b\b\b\b\b\b\b\b\b\b\b\b\b\b\b\b\b\b\b\b\b\b\b\b\b\b\b\b\b\b\b\b\b\b\b\b\b\b\b\b\b\n",
      "Epoch 20/256\n",
      "4263/4263 [==============================] - 12s - loss: 287.4338 - val_loss: 157.3982\b\b\b\b\b\b\b\b\b\b\b\b\b\b\b\b\b\b\b\b\b\b\b\b\b\b\b\b\b\b\b\b\b\b\b\b\b\b\b\b\b\b\b\b\b\b\b\b\b\b\b\b\n",
      "Epoch 21/256\n",
      "4263/4263 [==============================] - 12s - loss: 287.1548 - val_loss: 157.1327\b\b\b\b\b\b\b\b\b\b\b\b\b\b\b\b\b\b\b\b\b\b\b\b\b\b\b\b\b\b\b\b\b\b\b\b\b\b\b\b\b\b\b\b\b\b\b\b\b\b\b\b\n",
      "Epoch 22/256\n",
      "4263/4263 [==============================] - 12s - loss: 287.0590 - val_loss: 157.8353\b\b\b\b\b\b\b\b\b\b\b\b\b\b\b\b\b\b\b\b\b\b\b\b\b\b\b\b\b\b\b\b\b\b\b\b\b\b\b\b\b\b\b\b\b\b\b\b\b\b\b\b\n",
      "Epoch 23/256\n",
      "4263/4263 [==============================] - 12s - loss: 287.1904 - val_loss: 158.2321\b\b\b\b\b\b\b\b\b\b\b\b\b\b\b\b\b\b\b\b\b\b\b\b\b\b\b\b\b\b\b\b\b\b\b\b\b\b\b\b\b\b\b\b\b\b\b\b\b\b\b\b\n",
      "Epoch 24/256\n",
      "4263/4263 [==============================] - 12s - loss: 287.1888 - val_loss: 157.7337\b\b\b\b\b\b\b\b\b\b\b\b\b\b\b\b\b\b\b\b\b\b\b\b\b\b\b\b\b\b\b\b\b\b\b\b\b\b\b\b\b\b\b\b\b\b\b\b\b\b\b\b\n",
      "Epoch 25/256\n",
      "4263/4263 [==============================] - 17s - loss: 287.6720 - val_loss: 157.9212\b\b\b\b\b\b\b\b\b\b\b\b\b\b\b\b\b\b\b\b\b\b\b\b\b\b\b\b\b\b\b\b\b\b\b\b\b\b\b\b\b\b\b\b\b\b\b\b\b\b\b\b\n",
      "Epoch 26/256\n",
      "4263/4263 [==============================] - 12s - loss: 287.0234 - val_loss: 158.2711\b\b\b\b\b\b\b\b\b\b\b\b\b\b\b\b\b\b\b\b\b\b\b\b\b\b\b\b\b\b\b\b\b\b\b\b\b\b\b\b\b\b\b\b\b\b\b\b\b\b\b\b\n",
      "Epoch 27/256\n",
      "4263/4263 [==============================] - 12s - loss: 287.1979 - val_loss: 159.5199\b\b\b\b\b\b\b\b\b\b\b\b\b\b\b\b\b\b\b\b\b\b\b\b\b\b\b\b\b\b\b\b\b\b\b\b\b\b\b\b\b\b\b\b\b\b\b\b\b\b\b\b\n",
      "Epoch 28/256\n",
      "4263/4263 [==============================] - 12s - loss: 287.3462 - val_loss: 158.5328\b\b\b\b\b\b\b\b\b\b\b\b\b\b\b\b\b\b\b\b\b\b\b\b\b\b\b\b\b\b\b\b\b\b\b\b\b\b\b\b\b\b\b\b\b\b\b\b\b\b\b\b\n",
      "Epoch 29/256\n",
      "4263/4263 [==============================] - 12s - loss: 287.0484 - val_loss: 159.7805\b\b\b\b\b\b\b\b\b\b\b\b\b\b\b\b\b\b\b\b\b\b\b\b\b\b\b\b\b\b\b\b\b\b\b\b\b\b\b\b\b\b\b\b\b\b\b\b\b\b\b\b\n",
      "Epoch 30/256\n",
      "4263/4263 [==============================] - 12s - loss: 286.7997 - val_loss: 160.0213\b\b\b\b\b\b\b\b\b\b\b\b\b\b\b\b\b\b\b\b\b\b\b\b\b\b\b\b\b\b\b\b\b\b\b\b\b\b\b\b\b\b\b\b\b\b\b\b\b\b\b\b\n",
      "Epoch 31/256\n",
      "4263/4263 [==============================] - 14s - loss: 286.8644 - val_loss: 158.6736\b\b\b\b\b\b\b\b\b\b\b\b\b\b\b\b\b\b\b\b\b\b\b\b\b\b\b\b\b\b\b\b\b\b\b\b\b\b\b\b\b\b\b\b\b\b\b\b\b\b\b\b\n",
      "Epoch 32/256\n",
      "4263/4263 [==============================] - 14s - loss: 286.2315 - val_loss: 158.1349\b\b\b\b\b\b\b\b\b\b\b\b\b\b\b\b\b\b\b\b\b\b\b\b\b\b\b\b\b\b\b\b\b\b\b\b\b\b\b\b\b\b\b\b\b\b\b\b\b\b\b\b\n",
      "Epoch 33/256\n",
      "4263/4263 [==============================] - 13s - loss: 286.5928 - val_loss: 158.6158\b\b\b\b\b\b\b\b\b\b\b\b\b\b\b\b\b\b\b\b\b\b\b\b\b\b\b\b\b\b\b\b\b\b\b\b\b\b\b\b\b\b\b\b\b\b\b\b\b\b\b\b\n",
      "Epoch 34/256\n",
      "4263/4263 [==============================] - 12s - loss: 286.8794 - val_loss: 160.0103\b\b\b\b\b\b\b\b\b\b\b\b\b\b\b\b\b\b\b\b\b\b\b\b\b\b\b\b\b\b\b\b\b\b\b\b\b\b\b\b\b\b\b\b\b\b\b\b\b\b\b\b\n",
      "Epoch 35/256\n",
      "4263/4263 [==============================] - 12s - loss: 286.9997 - val_loss: 159.3292\b\b\b\b\b\b\b\b\b\b\b\b\b\b\b\b\b\b\b\b\b\b\b\b\b\b\b\b\b\b\b\b\b\b\b\b\b\b\b\b\b\b\b\b\b\b\b\b\b\b\b\b\n",
      "Epoch 36/256\n",
      "4263/4263 [==============================] - 12s - loss: 286.5522 - val_loss: 160.1041\b\b\b\b\b\b\b\b\b\b\b\b\b\b\b\b\b\b\b\b\b\b\b\b\b\b\b\b\b\b\b\b\b\b\b\b\b\b\b\b\b\b\b\b\b\b\b\b\b\b\b\b\n",
      "Epoch 37/256\n",
      "4263/4263 [==============================] - 12s - loss: 286.9790 - val_loss: 159.3475\b\b\b\b\b\b\b\b\b\b\b\b\b\b\b\b\b\b\b\b\b\b\b\b\b\b\b\b\b\b\b\b\b\b\b\b\b\b\b\b\b\b\b\b\b\b\b\b\b\b\b\b\n",
      "Epoch 38/256\n",
      "4263/4263 [==============================] - 12s - loss: 286.7051 - val_loss: 158.3728\b\b\b\b\b\b\b\b\b\b\b\b\b\b\b\b\b\b\b\b\b\b\b\b\b\b\b\b\b\b\b\b\b\b\b\b\b\b\b\b\b\b\b\b\b\b\b\b\b\b\b\b\n",
      "Epoch 39/256\n",
      "4263/4263 [==============================] - 12s - loss: 286.2553 - val_loss: 159.6512\b\b\b\b\b\b\b\b\b\b\b\b\b\b\b\b\b\b\b\b\b\b\b\b\b\b\b\b\b\b\b\b\b\b\b\b\b\b\b\b\b\b\b\b\b\b\b\b\b\b\b\b\n",
      "Epoch 40/256\n",
      "4263/4263 [==============================] - 12s - loss: 286.2725 - val_loss: 160.0292\b\b\b\b\b\b\b\b\b\b\b\b\b\b\b\b\b\b\b\b\b\b\b\b\b\b\b\b\b\b\b\b\b\b\b\b\b\b\b\b\b\b\b\b\b\b\b\b\b\b\b\b\n",
      "Epoch 41/256\n",
      "4263/4263 [==============================] - 12s - loss: 285.7330 - val_loss: 160.2617\b\b\b\b\b\b\b\b\b\b\b\b\b\b\b\b\b\b\b\b\b\b\b\b\b\b\b\b\b\b\b\b\b\b\b\b\b\b\b\b\b\b\b\b\b\b\b\b\b\b\b\b\n",
      "Epoch 42/256\n",
      "4263/4263 [==============================] - 12s - loss: 286.0788 - val_loss: 160.7267\b\b\b\b\b\b\b\b\b\b\b\b\b\b\b\b\b\b\b\b\b\b\b\b\b\b\b\b\b\b\b\b\b\b\b\b\b\b\b\b\b\b\b\b\b\b\b\b\b\b\b\b\n",
      "Epoch 43/256\n",
      "4263/4263 [==============================] - 12s - loss: 286.0043 - val_loss: 160.6307\b\b\b\b\b\b\b\b\b\b\b\b\b\b\b\b\b\b\b\b\b\b\b\b\b\b\b\b\b\b\b\b\b\b\b\b\b\b\b\b\b\b\b\b\b\b\b\b\b\b\b\b\n",
      "Epoch 44/256\n",
      "4263/4263 [==============================] - 12s - loss: 286.0637 - val_loss: 159.9515\b\b\b\b\b\b\b\b\b\b\b\b\b\b\b\b\b\b\b\b\b\b\b\b\b\b\b\b\b\b\b\b\b\b\b\b\b\b\b\b\b\b\b\b\b\b\b\b\b\b\b\b\n",
      "Epoch 45/256\n",
      "4263/4263 [==============================] - 12s - loss: 287.6520 - val_loss: 162.1673\b\b\b\b\b\b\b\b\b\b\b\b\b\b\b\b\b\b\b\b\b\b\b\b\b\b\b\b\b\b\b\b\b\b\b\b\b\b\b\b\b\b\b\b\b\b\b\b\b\b\b\b\n",
      "Epoch 46/256\n",
      "4263/4263 [==============================] - 12s - loss: 286.2631 - val_loss: 160.5594\b\b\b\b\b\b\b\b\b\b\b\b\b\b\b\b\b\b\b\b\b\b\b\b\b\b\b\b\b\b\b\b\b\b\b\b\b\b\b\b\b\b\b\b\b\b\b\b\b\b\b\b\n",
      "Epoch 47/256\n",
      "4263/4263 [==============================] - 12s - loss: 287.6858 - val_loss: 161.3241\b\b\b\b\b\b\b\b\b\b\b\b\b\b\b\b\b\b\b\b\b\b\b\b\b\b\b\b\b\b\b\b\b\b\b\b\b\b\b\b\b\b\b\b\b\b\b\b\b\b\b\b\n",
      "Epoch 48/256\n",
      "4263/4263 [==============================] - 12s - loss: 286.2389 - val_loss: 162.0423\b\b\b\b\b\b\b\b\b\b\b\b\b\b\b\b\b\b\b\b\b\b\b\b\b\b\b\b\b\b\b\b\b\b\b\b\b\b\b\b\b\b\b\b\b\b\b\b\b\b\b\b\n",
      "Epoch 49/256\n",
      "4263/4263 [==============================] - 13s - loss: 285.8022 - val_loss: 160.5316\b\b\b\b\b\b\b\b\b\b\b\b\b\b\b\b\b\b\b\b\b\b\b\b\b\b\b\b\b\b\b\b\b\b\b\b\b\b\b\b\b\b\b\b\b\b\b\b\b\b\b\b\n",
      "Epoch 50/256\n",
      "4263/4263 [==============================] - 12s - loss: 285.8269 - val_loss: 159.7844\b\b\b\b\b\b\b\b\b\b\b\b\b\b\b\b\b\b\b\b\b\b\b\b\b\b\b\b\b\b\b\b\b\b\b\b\b\b\b\b\b\b\b\b\b\b\b\b\b\b\b\b\n",
      "Epoch 51/256\n",
      "4263/4263 [==============================] - 12s - loss: 285.8442 - val_loss: 159.9094\b\b\b\b\b\b\b\b\b\b\b\b\b\b\b\b\b\b\b\b\b\b\b\b\b\b\b\b\b\b\b\b\b\b\b\b\b\b\b\b\b\b\b\b\b\b\b\b\b\b\b\b\n",
      "Epoch 52/256\n",
      "4263/4263 [==============================] - 12s - loss: 285.6575 - val_loss: 159.3223\b\b\b\b\b\b\b\b\b\b\b\b\b\b\b\b\b\b\b\b\b\b\b\b\b\b\b\b\b\b\b\b\b\b\b\b\b\b\b\b\b\b\b\b\b\b\b\b\b\b\b\b\n",
      "Epoch 53/256\n",
      "4263/4263 [==============================] - 12s - loss: 286.1373 - val_loss: 159.8488\b\b\b\b\b\b\b\b\b\b\b\b\b\b\b\b\b\b\b\b\b\b\b\b\b\b\b\b\b\b\b\b\b\b\b\b\b\b\b\b\b\b\b\b\b\b\b\b\b\b\b\b\n",
      "Epoch 54/256\n",
      "4263/4263 [==============================] - 12s - loss: 285.5059 - val_loss: 158.6366\b\b\b\b\b\b\b\b\b\b\b\b\b\b\b\b\b\b\b\b\b\b\b\b\b\b\b\b\b\b\b\b\b\b\b\b\b\b\b\b\b\b\b\b\b\b\b\b\b\b\b\b\n",
      "Epoch 55/256\n",
      "4263/4263 [==============================] - 14s - loss: 286.4123 - val_loss: 159.0249\b\b\b\b\b\b\b\b\b\b\b\b\b\b\b\b\b\b\b\b\b\b\b\b\b\b\b\b\b\b\b\b\b\b\b\b\b\b\b\b\b\b\b\b\b\b\b\b\b\b\b\b\n",
      "Epoch 56/256\n",
      "4263/4263 [==============================] - 17s - loss: 286.3572 - val_loss: 160.0141\b\b\b\b\b\b\b\b\b\b\b\b\b\b\b\b\b\b\b\b\b\b\b\b\b\b\b\b\b\b\b\b\b\b\b\b\b\b\b\b\b\b\b\b\b\b\b\b\b\b\b\b\n",
      "Epoch 57/256\n",
      "4263/4263 [==============================] - 39s - loss: 285.6656 - val_loss: 159.9250\b\b\b\b\b\b\b\b\b\b\b\b\b\b\b\b\b\b\b\b\b\b\b\b\b\b\b\b\b\b\b\b\b\b\b\b\b\b\b\b\b\b\b\b\b\b\b\b\b\b\b\b\n",
      "Epoch 58/256\n",
      "4263/4263 [==============================] - 19s - loss: 285.9562 - val_loss: 159.1421\b\b\b\b\b\b\b\b\b\b\b\b\b\b\b\b\b\b\b\b\b\b\b\b\b\b\b\b\b\b\b\b\b\b\b\b\b\b\b\b\b\b\b\b\b\b\b\b\b\b\b\b\n",
      "Epoch 59/256\n",
      "4263/4263 [==============================] - 17s - loss: 285.5803 - val_loss: 159.1608\b\b\b\b\b\b\b\b\b\b\b\b\b\b\b\b\b\b\b\b\b\b\b\b\b\b\b\b\b\b\b\b\b\b\b\b\b\b\b\b\b\b\b\b\b\b\b\b\b\b\b\b\n",
      "Epoch 60/256\n",
      "4263/4263 [==============================] - 19s - loss: 285.6847 - val_loss: 160.1949\b\b\b\b\b\b\b\b\b\b\b\b\b\b\b\b\b\b\b\b\b\b\b\b\b\b\b\b\b\b\b\b\b\b\b\b\b\b\b\b\b\b\b\b\b\b\b\b\b\b\b\b\n",
      "Epoch 61/256\n",
      "4263/4263 [==============================] - 37s - loss: 285.4554 - val_loss: 159.8400\b\b\b\b\b\b\b\b\b\b\b\b\b\b\b\b\b\b\b\b\b\b\b\b\b\b\b\b\b\b\b\b\b\b\b\b\b\b\b\b\b\b\b\b\b\b\b\b\b\b\b\b\n",
      "Epoch 62/256\n",
      "4263/4263 [==============================] - 45s - loss: 285.7396 - val_loss: 159.9726\b\b\b\b\b\b\b\b\b\b\b\b\b\b\b\b\b\b\b\b\b\b\b\b\b\b\b\b\b\b\b\b\b\b\b\b\b\b\b\b\b\b\b\b\b\b\b\b\b\b\b\b\n",
      "Epoch 63/256\n",
      "4263/4263 [==============================] - 16s - loss: 285.4269 - val_loss: 160.5724\b\b\b\b\b\b\b\b\b\b\b\b\b\b\b\b\b\b\b\b\b\b\b\b\b\b\b\b\b\b\b\b\b\b\b\b\b\b\b\b\b\b\b\b\b\b\b\b\b\b\b\b\n",
      "Epoch 64/256\n"
     ]
    }
   ],
   "source": [
    "#Step 3 Train the model\n",
    "model.fit(\n",
    "    x_train,\n",
    "    y_train,\n",
    "    batch_size=4096,\n",
    "    nb_epoch=256,\n",
    "    validation_split=0.05)"
   ]
  },
  {
   "cell_type": "code",
   "execution_count": null,
   "metadata": {
    "collapsed": true,
    "deletable": true,
    "editable": true
   },
   "outputs": [],
   "source": [
    "sppfeatures = ['loadforecast','windforecast','natgasprice','0','1','2','3','4','5','6','7','8','9','10','11','12','13','14','15','16','17','18','19','20','21','22','23']\n",
    "mec[sppfeatures].show()"
   ]
  },
  {
   "cell_type": "code",
   "execution_count": null,
   "metadata": {
    "collapsed": true,
    "deletable": true,
    "editable": true
   },
   "outputs": [],
   "source": [
    "mec.show(view='BoxWhisker Plot', x='hour', y='diffmec')"
   ]
  },
  {
   "cell_type": "code",
   "execution_count": null,
   "metadata": {
    "collapsed": true,
    "deletable": true,
    "editable": true
   },
   "outputs": [],
   "source": [
    "spp_nolg_regression_model = graphlab.linear_regression.create(traindata,target='diffmec',features=sppfeatures,validation_set=testdata)"
   ]
  },
  {
   "cell_type": "code",
   "execution_count": null,
   "metadata": {
    "collapsed": true,
    "deletable": true,
    "editable": true
   },
   "outputs": [],
   "source": [
    "import matplotlib.pyplot as plt\n",
    "%matplotlib inline\n",
    "plt.plot(mec_nolg['loadforecast'],mec_nolg['diffmec'],'.',\n",
    "        mec_nolg['loadforecast'],spp_nolg_regression_model.predict(mec_nolg),'-')"
   ]
  },
  {
   "cell_type": "code",
   "execution_count": null,
   "metadata": {
    "collapsed": true,
    "deletable": true,
    "editable": true
   },
   "outputs": [],
   "source": [
    "spp_regression_model = graphlab.linear_regression.create(trdata,target='diffmec',features=sppfeatures,validation_set=tedata)"
   ]
  },
  {
   "cell_type": "code",
   "execution_count": null,
   "metadata": {
    "collapsed": true,
    "deletable": true,
    "editable": true
   },
   "outputs": [],
   "source": [
    "plt.plot(mec['loadforecast'],mec['diffmec'],'.',\n",
    "        mec['loadforecast'],spp_regression_model.predict(mec),'-')\n",
    "plt.ylim(-30,30)\n",
    "plt.show()"
   ]
  },
  {
   "cell_type": "code",
   "execution_count": null,
   "metadata": {
    "collapsed": true,
    "deletable": true,
    "editable": true
   },
   "outputs": [],
   "source": [
    "coeff = spp_regression_model.get(\"coefficients\")\n",
    "print coeff"
   ]
  },
  {
   "cell_type": "code",
   "execution_count": null,
   "metadata": {
    "collapsed": true,
    "deletable": true,
    "editable": true
   },
   "outputs": [],
   "source": [
    "print spp_regression_model.evaluate(tedata)"
   ]
  },
  {
   "cell_type": "code",
   "execution_count": null,
   "metadata": {
    "collapsed": true,
    "deletable": true,
    "editable": true
   },
   "outputs": [],
   "source": [
    "tint = {'windforecast':[7500],\n",
    "        'loadforecast':[28777],\n",
    "        'natgasprice':[3.20],\n",
    "        '0':[0],\n",
    "        '1':[0],\n",
    "        '2':[0],\n",
    "        '3':[0],\n",
    "        '4':[0],\n",
    "        '5':[0],\n",
    "        '6':[0],\n",
    "        '7':[0],\n",
    "        '8':[1],\n",
    "        '9':[0],\n",
    "        '10':[0],\n",
    "        '11':[0],\n",
    "        '12':[0],\n",
    "        '13':[0],\n",
    "        '14':[0],\n",
    "        '15':[0],\n",
    "        '16':[0],\n",
    "        '17':[0],\n",
    "        '18':[0],\n",
    "        '19':[0],\n",
    "        '20':[0],\n",
    "        '21':[0],\n",
    "        '22':[0],\n",
    "        '23':[0]}\n",
    "\n",
    "print spp_regression_model.predict(graphlab.SFrame(tint))"
   ]
  },
  {
   "cell_type": "code",
   "execution_count": null,
   "metadata": {
    "collapsed": true,
    "deletable": true,
    "editable": true
   },
   "outputs": [],
   "source": [
    "\n",
    "\n",
    "spp_classifier_model = graphlab.logistic_classifier.create(trdata,\n",
    "                                                     target='buysig',\n",
    "                                                     features=sppfeatures,\n",
    "                                                     validation_set=tedata)"
   ]
  },
  {
   "cell_type": "code",
   "execution_count": null,
   "metadata": {
    "collapsed": true,
    "deletable": true,
    "editable": true
   },
   "outputs": [],
   "source": [
    "\n",
    "spp_nolg_classifier_model = graphlab.logistic_classifier.create(traindata,\n",
    "                                                     target='buysig',\n",
    "                                                     features=sppfeatures,\n",
    "                                                     validation_set=testdata)"
   ]
  },
  {
   "cell_type": "code",
   "execution_count": null,
   "metadata": {
    "collapsed": true,
    "deletable": true,
    "editable": true
   },
   "outputs": [],
   "source": [
    "\n",
    "spp_nn_model = graphlab.neuralnet_classifier.create(trdata,\n",
    "                                                     target='buysig',\n",
    "                                                     features=sppfeatures,\n",
    "                                                     validation_set=tedata)"
   ]
  },
  {
   "cell_type": "code",
   "execution_count": null,
   "metadata": {
    "collapsed": true,
    "deletable": true,
    "editable": true
   },
   "outputs": [],
   "source": [
    "spp_classifier_model.evaluate(tedata, metric='roc_curve')"
   ]
  },
  {
   "cell_type": "code",
   "execution_count": null,
   "metadata": {
    "collapsed": true,
    "deletable": true,
    "editable": true
   },
   "outputs": [],
   "source": [
    "spp_classifier_model.show(view='Evaluation')"
   ]
  },
  {
   "cell_type": "code",
   "execution_count": null,
   "metadata": {
    "collapsed": true,
    "deletable": true,
    "editable": true
   },
   "outputs": [],
   "source": [
    "mec['predicted_buysig'] = spp_classifier_model.predict(mec, output_type='probability')\n",
    "reg = spp_regression_model.predict(graphlab.SFrame(tint))\n",
    "cla = spp_classifier_model.predict(graphlab.SFrame(tint))\n",
    "#nn = spp_nn_model.predict(graphlab.SFrame(tint))\n",
    "print 'Regression model predicts diffmec of ' + str(reg)\n",
    "print 'Classifier model predicts a DA buy? (0:Sell , 1:Buy) : ' + str(cla)\n",
    "#print 'NN model predicts a DA buy? (0:Sell , 1:Buy) : ' + str(nn)"
   ]
  },
  {
   "cell_type": "code",
   "execution_count": 2,
   "metadata": {
    "collapsed": true,
    "deletable": true,
    "editable": true
   },
   "outputs": [],
   "source": [
    "def create_hour(w,l,n,hour):\n",
    "    return {'windforecast':[w],\n",
    "        'loadforecast':[l],\n",
    "        'natgasprice':[n],\n",
    "        str(hour):[1]}\n",
    "    "
   ]
  },
  {
   "cell_type": "code",
   "execution_count": 3,
   "metadata": {
    "collapsed": false,
    "deletable": true,
    "editable": true
   },
   "outputs": [
    {
     "ename": "NameError",
     "evalue": "name 'spp_regression_model' is not defined",
     "output_type": "error",
     "traceback": [
      "\u001b[0;31m\u001b[0m",
      "\u001b[0;31mNameError\u001b[0mTraceback (most recent call last)",
      "\u001b[0;32m<ipython-input-3-7fa9e9757196>\u001b[0m in \u001b[0;36m<module>\u001b[0;34m()\u001b[0m\n\u001b[1;32m      4\u001b[0m \u001b[0mng\u001b[0m \u001b[0;34m=\u001b[0m \u001b[0;36m3.20\u001b[0m\u001b[0;34m\u001b[0m\u001b[0m\n\u001b[1;32m      5\u001b[0m \u001b[0;32mfor\u001b[0m \u001b[0mh\u001b[0m \u001b[0;32min\u001b[0m \u001b[0mrange\u001b[0m\u001b[0;34m(\u001b[0m\u001b[0;36m0\u001b[0m\u001b[0;34m,\u001b[0m\u001b[0;36m24\u001b[0m\u001b[0;34m)\u001b[0m\u001b[0;34m:\u001b[0m\u001b[0;34m\u001b[0m\u001b[0m\n\u001b[0;32m----> 6\u001b[0;31m     \u001b[0mreg\u001b[0m \u001b[0;34m=\u001b[0m \u001b[0mspp_regression_model\u001b[0m\u001b[0;34m.\u001b[0m\u001b[0mpredict\u001b[0m\u001b[0;34m(\u001b[0m\u001b[0mgraphlab\u001b[0m\u001b[0;34m.\u001b[0m\u001b[0mSFrame\u001b[0m\u001b[0;34m(\u001b[0m\u001b[0mcreate_hour\u001b[0m\u001b[0;34m(\u001b[0m\u001b[0mwf\u001b[0m\u001b[0;34m[\u001b[0m\u001b[0mh\u001b[0m\u001b[0;34m]\u001b[0m\u001b[0;34m,\u001b[0m\u001b[0mlf\u001b[0m\u001b[0;34m[\u001b[0m\u001b[0mh\u001b[0m\u001b[0;34m]\u001b[0m\u001b[0;34m,\u001b[0m\u001b[0mng\u001b[0m\u001b[0;34m,\u001b[0m\u001b[0mh\u001b[0m\u001b[0;34m)\u001b[0m\u001b[0;34m)\u001b[0m\u001b[0;34m)\u001b[0m\u001b[0;34m\u001b[0m\u001b[0m\n\u001b[0m\u001b[1;32m      7\u001b[0m     \u001b[0mcla\u001b[0m \u001b[0;34m=\u001b[0m \u001b[0mspp_classifier_model\u001b[0m\u001b[0;34m.\u001b[0m\u001b[0mpredict\u001b[0m\u001b[0;34m(\u001b[0m\u001b[0mgraphlab\u001b[0m\u001b[0;34m.\u001b[0m\u001b[0mSFrame\u001b[0m\u001b[0;34m(\u001b[0m\u001b[0mcreate_hour\u001b[0m\u001b[0;34m(\u001b[0m\u001b[0mwf\u001b[0m\u001b[0;34m[\u001b[0m\u001b[0mh\u001b[0m\u001b[0;34m]\u001b[0m\u001b[0;34m,\u001b[0m\u001b[0mlf\u001b[0m\u001b[0;34m[\u001b[0m\u001b[0mh\u001b[0m\u001b[0;34m]\u001b[0m\u001b[0;34m,\u001b[0m\u001b[0mng\u001b[0m\u001b[0;34m,\u001b[0m\u001b[0mh\u001b[0m\u001b[0;34m)\u001b[0m\u001b[0;34m)\u001b[0m\u001b[0;34m)\u001b[0m\u001b[0;34m\u001b[0m\u001b[0m\n\u001b[1;32m      8\u001b[0m     \u001b[0;31m#print 'Regression model predicts diffmec of ' + str(reg)\u001b[0m\u001b[0;34m\u001b[0m\u001b[0;34m\u001b[0m\u001b[0m\n",
      "\u001b[0;31mNameError\u001b[0m: name 'spp_regression_model' is not defined"
     ]
    }
   ],
   "source": [
    "#3/31/2017 pred\n",
    "wf = [5130,5295,5260,5140,5046,5000,4924,4814,4797,4763,4765,5080,5543,5952,6294,6528,6767,7132,7586,7993,8335,8658,8919,8970]\n",
    "lf = [24510,23501,22994,22768,22780,23261,24618,26973,28441,28467,28337,28266,28090,27834,27725,27585,27231,27284,27124,26951,26965,27327,27327,26701,25464]\n",
    "ng = 3.20\n",
    "for h in range(0,24):\n",
    "    reg = spp_regression_model.predict(graphlab.SFrame(create_hour(wf[h],lf[h],ng,h)))\n",
    "    cla = spp_classifier_model.predict(graphlab.SFrame(create_hour(wf[h],lf[h],ng,h)))\n",
    "    \n",
    "    if reg[0] < -2 and cla[0] == 1:\n",
    "        print 'Hour ' + str(h)\n",
    "        print '---------------------'\n",
    "        print 'STRONG BUY'\n",
    "        print 'Regression model predicts diffmec of ' + str(reg)\n",
    "        print 'Classifier model predicts a DA buy? (0:Sell , 1:Buy) : ' + str(cla)\n",
    "        print ''\n",
    "    elif reg[0] > 2 and cla[0] == 0:\n",
    "        print 'Hour ' + str(h)\n",
    "        print '---------------------'\n",
    "        print 'STRONG SELL'\n",
    "        print 'Regression model predicts diffmec of ' + str(reg)\n",
    "        print 'Classifier model predicts a DA buy? (0:Sell , 1:Buy) : ' + str(cla)\n",
    "        print ''\n",
    "    #else:\n",
    "        #print 'Hour ' + str(h)\n",
    "        #print '---------------------'\n",
    "        #print 'MIXED'\n",
    "        #print ''"
   ]
  }
 ],
 "metadata": {
  "kernelspec": {
   "display_name": "Python 3",
   "language": "python",
   "name": "python3"
  },
  "language_info": {
   "codemirror_mode": {
    "name": "ipython",
    "version": 3
   },
   "file_extension": ".py",
   "mimetype": "text/x-python",
   "name": "python",
   "nbconvert_exporter": "python",
   "pygments_lexer": "ipython3",
   "version": "3.5.2"
  }
 },
 "nbformat": 4,
 "nbformat_minor": 2
}
