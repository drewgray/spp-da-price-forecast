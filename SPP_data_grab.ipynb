{
 "cells": [
  {
   "cell_type": "code",
   "execution_count": 101,
   "metadata": {
    "collapsed": false
   },
   "outputs": [],
   "source": [
    "import ftplib\n",
    "import os\n",
    "\n",
    "#data_path = '/home/drew/dev/spp-da-price-forecast/data/'\n",
    "data_path = 'data/'\n"
   ]
  },
  {
   "cell_type": "code",
   "execution_count": 83,
   "metadata": {
    "collapsed": false
   },
   "outputs": [],
   "source": [
    "def getData(ftp,path,fpath):\n",
    "    for pa in fpath:\n",
    "        ftp.cwd(pa)\n",
    "    filenames = ftp.nlst()\n",
    "\n",
    "    for filename in filenames:\n",
    "        host_file = os.path.join(path, filename)\n",
    "        if not host_file.endswith('0800.csv'):\n",
    "            if \".\" not in host_file:\n",
    "                try:\n",
    "                    ftp = getData(ftp,path,[filename])\n",
    "                    \n",
    "                except OSError as exc: \n",
    "                        print(exc)\n",
    "                        raise\n",
    "        else:\n",
    "            try:\n",
    "                with open(host_file, 'wb') as local_file:\n",
    "                    ftp.retrbinary('RETR ' + filename, local_file.write)\n",
    "            except Exception as e:\n",
    "                    print str(e)\n",
    "    ftp.cwd('..')\n",
    "    return ftp"
   ]
  },
  {
   "cell_type": "code",
   "execution_count": 102,
   "metadata": {
    "collapsed": true
   },
   "outputs": [],
   "source": [
    "def getWind(year):\n",
    "  if not os.path.exists(data_path + 'DAWF/'+year):\n",
    "    print(\"mdir \" + data_path + 'DAWF/'+year)\n",
    "    os.makedirs(data_path + 'DAWF/'+year)\n",
    "    \n",
    "  ftp = ftplib.FTP('pubftp.spp.org')\n",
    "  fpath = ['Operational_Data', 'DAWF', year]\n",
    "  ftp.login()\n",
    "  ftp = getData(ftp, data_path + 'DAWF/'+year, fpath)\n",
    "  ftp.quit()"
   ]
  },
  {
   "cell_type": "code",
   "execution_count": 103,
   "metadata": {
    "collapsed": true
   },
   "outputs": [],
   "source": [
    "def getMTLF(year):\n",
    "  if not os.path.exists(data_path + 'MTLF/'+year):\n",
    "    print(\"mdir \" + data_path + 'MTLF/'+year)\n",
    "    os.makedirs(data_path + 'MTLF/'+year)\n",
    "    \n",
    "  ftp = ftplib.FTP('pubftp.spp.org')\n",
    "  fpath = ['Operational_Data', 'MTLF', year]\n",
    "  ftp.login()\n",
    "  ftp = getData(ftp, data_path + 'MTLF/'+year, fpath)\n",
    "  ftp.quit()"
   ]
  },
  {
   "cell_type": "code",
   "execution_count": null,
   "metadata": {
    "collapsed": false
   },
   "outputs": [],
   "source": [
    "getWind('2016')\n",
    "getMTLF('2016')\n"
   ]
  },
  {
   "cell_type": "code",
   "execution_count": null,
   "metadata": {
    "collapsed": false
   },
   "outputs": [
    {
     "name": "stdout",
     "output_type": "stream",
     "text": [
      "mdir data/MTLF/2017\n"
     ]
    }
   ],
   "source": [
    "#getWind('2017')\n",
    "getMTLF('2017')"
   ]
  },
  {
   "cell_type": "code",
   "execution_count": null,
   "metadata": {
    "collapsed": true
   },
   "outputs": [],
   "source": []
  }
 ],
 "metadata": {
  "kernelspec": {
   "display_name": "Python 2",
   "language": "python",
   "name": "python2"
  },
  "language_info": {
   "codemirror_mode": {
    "name": "ipython",
    "version": 2
   },
   "file_extension": ".py",
   "mimetype": "text/x-python",
   "name": "python",
   "nbconvert_exporter": "python",
   "pygments_lexer": "ipython2",
   "version": "2.7.9"
  }
 },
 "nbformat": 4,
 "nbformat_minor": 2
}
