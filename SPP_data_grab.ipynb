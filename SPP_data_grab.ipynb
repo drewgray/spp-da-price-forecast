{
 "cells": [
  {
   "cell_type": "code",
   "execution_count": 1,
   "metadata": {
    "collapsed": false
   },
   "outputs": [],
   "source": [
    "import ftplib\n",
    "import os\n",
    "import numpy as np\n",
    "import pandas as pd\n",
    "\n",
    "#data_path = '/home/drew/dev/spp-da-price-forecast/data/'\n",
    "data_path = 'data/'\n"
   ]
  },
  {
   "cell_type": "code",
   "execution_count": 10,
   "metadata": {
    "collapsed": false
   },
   "outputs": [],
   "source": [
    "def getData(ftp,path,fpath, match):\n",
    "    for pa in fpath:\n",
    "        ftp.cwd(pa)\n",
    "    filenames = ftp.nlst()\n",
    "\n",
    "    for filename in filenames:\n",
    "        host_file = os.path.join(path, filename)\n",
    "        #if not host_file.endswith(match):\n",
    "        if match not in host_file:\n",
    "            if \".\" not in host_file:\n",
    "                try:\n",
    "                    ftp = getData(ftp,path,[filename],match)\n",
    "                    \n",
    "                except OSError as exc: \n",
    "                        print(exc)\n",
    "                        raise\n",
    "        else:\n",
    "            if not os.path.exists(host_file):\n",
    "                try:\n",
    "                    with open(host_file, 'wb') as local_file:\n",
    "                        ftp.retrbinary('RETR ' + filename, local_file.write)\n",
    "                except Exception as e:\n",
    "                        print str(e)\n",
    "    ftp.cwd('..')\n",
    "    return ftp"
   ]
  },
  {
   "cell_type": "code",
   "execution_count": 3,
   "metadata": {
    "collapsed": true
   },
   "outputs": [],
   "source": [
    "def getWind(year):\n",
    "  if not os.path.exists(data_path + 'DAWF/'+year):\n",
    "    print(\"mdir \" + data_path + 'DAWF/'+year)\n",
    "    os.makedirs(data_path + 'DAWF/'+year)\n",
    "    \n",
    "  ftp = ftplib.FTP('pubftp.spp.org')\n",
    "  fpath = ['Operational_Data', 'DAWF', year]\n",
    "  ftp.login()\n",
    "  ftp = getData(ftp, data_path + 'DAWF/'+year, fpath, '0800.csv')\n",
    "  ftp.quit()"
   ]
  },
  {
   "cell_type": "code",
   "execution_count": 4,
   "metadata": {
    "collapsed": true
   },
   "outputs": [],
   "source": [
    "def getMTLF(year):\n",
    "  if not os.path.exists(data_path + 'MTLF/'+year):\n",
    "    print(\"mdir \" + data_path + 'MTLF/'+year)\n",
    "    os.makedirs(data_path + 'MTLF/'+year)\n",
    "    \n",
    "  ftp = ftplib.FTP('pubftp.spp.org')\n",
    "  fpath = ['Operational_Data', 'MTLF', year]\n",
    "  ftp.login()\n",
    "  ftp = getData(ftp, data_path + 'MTLF/'+year, fpath, 'LMP-MONTHLY-SL')\n",
    "  ftp.quit()"
   ]
  },
  {
   "cell_type": "code",
   "execution_count": 9,
   "metadata": {
    "collapsed": true
   },
   "outputs": [],
   "source": [
    "def getDAPrices(year):\n",
    "  if not os.path.exists(data_path + 'DALMP/'+year):\n",
    "    print(\"mdir \" + data_path + 'DALMP/'+year)\n",
    "    os.makedirs(data_path + 'DALMP/'+year)\n",
    "    \n",
    "  ftp = ftplib.FTP('pubftp.spp.org')\n",
    "  fpath = ['Markets', 'DA', 'LMP_By_SETTLEMENT_LOC', year]\n",
    "  ftp.login()\n",
    "  ftp = getData(ftp, data_path + 'DALMP/'+year, fpath, 'LMP-MONTHLY-SL')\n",
    "  ftp.quit()"
   ]
  },
  {
   "cell_type": "code",
   "execution_count": 8,
   "metadata": {
    "collapsed": true
   },
   "outputs": [],
   "source": [
    "def getRTPrices(year):\n",
    "  if not os.path.exists(data_path + 'RTLMP/'+year):\n",
    "    print(\"mdir \" + data_path + 'RTLMP/'+year)\n",
    "    os.makedirs(data_path + 'RTLMP/'+year)\n",
    "    \n",
    "  ftp = ftplib.FTP('pubftp.spp.org')\n",
    "  fpath = ['Markets', 'RTBM', 'LMP_By_SETTLEMENT_LOC', year]\n",
    "  ftp.login()\n",
    "  ftp = getData(ftp, data_path + 'RTLMP/'+year, fpath, 'LMP-MONTHLY-SL')\n",
    "  ftp.quit()"
   ]
  },
  {
   "cell_type": "code",
   "execution_count": 106,
   "metadata": {
    "collapsed": false
   },
   "outputs": [
    {
     "name": "stdout",
     "output_type": "stream",
     "text": [
      "mdir data/MTLF/2016\n"
     ]
    }
   ],
   "source": [
    "getWind('2016')\n",
    "getMTLF('2016')\n"
   ]
  },
  {
   "cell_type": "code",
   "execution_count": null,
   "metadata": {
    "collapsed": true
   },
   "outputs": [],
   "source": [
    "getWind('2015')\n",
    "getMTLF('2015')"
   ]
  },
  {
   "cell_type": "code",
   "execution_count": 5,
   "metadata": {
    "collapsed": false
   },
   "outputs": [],
   "source": [
    "getWind('2017')\n",
    "getMTLF('2017')"
   ]
  },
  {
   "cell_type": "code",
   "execution_count": 11,
   "metadata": {
    "collapsed": false
   },
   "outputs": [
    {
     "name": "stdout",
     "output_type": "stream",
     "text": [
      "mdir data/DALMP/2017\n"
     ]
    }
   ],
   "source": [
    "getDAPrices('2017')"
   ]
  },
  {
   "cell_type": "code",
   "execution_count": null,
   "metadata": {
    "collapsed": true
   },
   "outputs": [],
   "source": [
    "getRTPrices('2017')"
   ]
  },
  {
   "cell_type": "code",
   "execution_count": 178,
   "metadata": {
    "collapsed": false
   },
   "outputs": [],
   "source": [
    "def convertWind(fname):\n",
    "    col_names = ['Interval', 'GMTIntervalEnd', 'Forecast MW']\n",
    "    wf = pd.read_csv(fname, header=0, names=col_names)\n",
    "    df = pd.DataFrame(wf)\n",
    "    df['Interval'] = pd.to_datetime(df['Interval'])\n",
    "    df['dateminustime'] = df['Interval'].apply(lambda df : pd.datetime(year=df.year, month=df.month, day=df.day))\n",
    "    df.set_index(df['dateminustime'],inplace=True)\n",
    "    df.sort()\n",
    "    days = list(set(r for r in df['dateminustime']))\n",
    "    days.sort()\n",
    "\n",
    "    with open('sppwind.csv', 'a') as out:\n",
    "        for index, row in df.iterrows():\n",
    "            if row['dateminustime'] == days[2]:\n",
    "              out.write(str(row['Interval']) + ',' + str(row['Forecast MW']) + '\\n') #header"
   ]
  },
  {
   "cell_type": "code",
   "execution_count": 179,
   "metadata": {
    "collapsed": true
   },
   "outputs": [],
   "source": [
    "def convertMTLF(fname):\n",
    "    col_names = ['Interval', 'GMTIntervalEnd', 'MTLF', 'Averaged Actual']\n",
    "    wf = pd.read_csv(fname, header=0, names=col_names)\n",
    "    df = pd.DataFrame(wf)\n",
    "    df['Interval'] = pd.to_datetime(df['Interval'])\n",
    "    df['dateminustime'] = df['Interval'].apply(lambda df : pd.datetime(year=df.year, month=df.month, day=df.day))\n",
    "    df.set_index(df['dateminustime'],inplace=True)\n",
    "    df.sort()\n",
    "    days = list(set(r for r in df['dateminustime']))\n",
    "    days.sort()\n",
    "\n",
    "    with open('sppmtlf.csv', 'a') as out:\n",
    "        for index, row in df.iterrows():\n",
    "            if row['dateminustime'] == days[2]:\n",
    "              out.write(str(row['Interval']) + ',' + str(row['MTLF']) + '\\n') #header"
   ]
  },
  {
   "cell_type": "code",
   "execution_count": 180,
   "metadata": {
    "collapsed": false
   },
   "outputs": [
    {
     "name": "stderr",
     "output_type": "stream",
     "text": [
      "/usr/local/lib/python2.7/dist-packages/ipykernel/__main__.py:8: FutureWarning: sort(....) is deprecated, use sort_index(.....)\n"
     ]
    }
   ],
   "source": [
    "winddir = \"data/DAWF/\"\n",
    "for root, subdirs, files in os.walk(winddir):\n",
    "  subdirs.sort()\n",
    "  for sd in subdirs:\n",
    "    for sroot, ssbdirs, sfile in os.walk(os.path.join(root,sd)):\n",
    "      sfile.sort()\n",
    "      for f in sfile:\n",
    "        convertWind(str(os.path.join(sroot,f)))\n",
    "      "
   ]
  },
  {
   "cell_type": "code",
   "execution_count": 181,
   "metadata": {
    "collapsed": false
   },
   "outputs": [
    {
     "name": "stderr",
     "output_type": "stream",
     "text": [
      "/usr/local/lib/python2.7/dist-packages/ipykernel/__main__.py:8: FutureWarning: sort(....) is deprecated, use sort_index(.....)\n"
     ]
    }
   ],
   "source": [
    "mtlfdir = \"data/MTLF/\"\n",
    "for root, subdirs, files in os.walk(mtlfdir):\n",
    "  subdirs.sort()\n",
    "  for sd in subdirs:\n",
    "    for sroot, ssbdirs, sfile in os.walk(os.path.join(root,sd)):\n",
    "      sfile.sort()\n",
    "      for f in sfile:\n",
    "        convertMTLF(os.path.join(sroot,f))\n",
    "      "
   ]
  }
 ],
 "metadata": {
  "kernelspec": {
   "display_name": "Python 2",
   "language": "python",
   "name": "python2"
  },
  "language_info": {
   "codemirror_mode": {
    "name": "ipython",
    "version": 2
   },
   "file_extension": ".py",
   "mimetype": "text/x-python",
   "name": "python",
   "nbconvert_exporter": "python",
   "pygments_lexer": "ipython2",
   "version": "2.7.9"
  }
 },
 "nbformat": 4,
 "nbformat_minor": 2
}
